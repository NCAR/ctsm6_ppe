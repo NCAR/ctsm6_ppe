{
 "cells": [
  {
   "cell_type": "code",
   "execution_count": 1,
   "id": "7189f33b-5ede-4909-93e7-a7ab5b4eec98",
   "metadata": {},
   "outputs": [
    {
     "name": "stderr",
     "output_type": "stream",
     "text": [
      "2025-03-20 12:48:09.567586: I tensorflow/core/util/port.cc:153] oneDNN custom operations are on. You may see slightly different numerical results due to floating-point round-off errors from different computation orders. To turn them off, set the environment variable `TF_ENABLE_ONEDNN_OPTS=0`.\n",
      "2025-03-20 12:48:11.043506: E external/local_xla/xla/stream_executor/cuda/cuda_fft.cc:477] Unable to register cuFFT factory: Attempting to register factory for plugin cuFFT when one has already been registered\n",
      "WARNING: All log messages before absl::InitializeLog() is called are written to STDERR\n",
      "E0000 00:00:1742496491.709491   17423 cuda_dnn.cc:8310] Unable to register cuDNN factory: Attempting to register factory for plugin cuDNN when one has already been registered\n",
      "E0000 00:00:1742496491.828870   17423 cuda_blas.cc:1418] Unable to register cuBLAS factory: Attempting to register factory for plugin cuBLAS when one has already been registered\n",
      "2025-03-20 12:48:12.790754: I tensorflow/core/platform/cpu_feature_guard.cc:210] This TensorFlow binary is optimized to use available CPU instructions in performance-critical operations.\n",
      "To enable the following instructions: AVX2 AVX512F AVX512_VNNI FMA, in other operations, rebuild TensorFlow with the appropriate compiler flags.\n"
     ]
    }
   ],
   "source": [
    "import numpy as np\n",
    "import pandas as pd\n",
    "import xarray as xr\n",
    "import matplotlib\n",
    "import matplotlib.pyplot as plt\n",
    "import os\n",
    "import pickle\n",
    "import gpflow\n",
    "\n",
    "import tensorflow as tf\n",
    "from sklearn.metrics import r2_score"
   ]
  },
  {
   "cell_type": "code",
   "execution_count": 2,
   "id": "44c3732e-11e1-49a7-9d32-0e625869b39c",
   "metadata": {},
   "outputs": [],
   "source": [
    "import sys\n",
    "sys.path.append('/glade/u/home/linnia/ctsm6_ppe/')\n",
    "from utils.pyfunctions import *\n",
    "utils_path = '/glade/u/home/linnia/ctsm6_ppe/utils/'"
   ]
  },
  {
   "cell_type": "code",
   "execution_count": 3,
   "id": "30fa9098-9174-42ff-a42d-204511a0db78",
   "metadata": {},
   "outputs": [],
   "source": [
    "import pickle\n",
    "with open(\"biome_pft_dict.pkl\", \"rb\") as f:\n",
    "    biome_pfts = pickle.load(f)"
   ]
  },
  {
   "cell_type": "code",
   "execution_count": 4,
   "id": "d5f5d6e0-9bc6-4a3d-8b27-34b3f2f95cb4",
   "metadata": {},
   "outputs": [],
   "source": [
    "import dask\n",
    "from dask_jobqueue import PBSCluster\n",
    "from dask.distributed import Client\n",
    "ncores=1\n",
    "nmem='10GB'\n",
    "cluster = PBSCluster(\n",
    "    cores=ncores, # The number of cores you want\n",
    "    memory=nmem, # Amount of memory\n",
    "    processes=1, # How many processes\n",
    "    queue='casper', # The type of queue to utilize (/glade/u/apps/dav/opt/usr/bin/execcasper)\n",
    "    local_directory='$TMPDIR', # Use your local directory\n",
    "    resource_spec='select=1:ncpus='+str(ncores)+':mem='+nmem, # Specify resources\n",
    "    account='P93300041', # Input your project ID here\n",
    "    walltime='02:00:00', # Amount of wall time\n",
    "    #interface='ib0', # Interface to use\n",
    ")\n",
    "\n",
    "# Scale up\n",
    "cluster.scale(10)\n",
    "\n",
    "# Setup your client\n",
    "client = Client(cluster)"
   ]
  },
  {
   "cell_type": "markdown",
   "id": "9fc5ebdb-64b5-4ba6-857d-bc252728f6a7",
   "metadata": {},
   "source": [
    "### setup"
   ]
  },
  {
   "cell_type": "code",
   "execution_count": 5,
   "id": "9170af30-23cb-4025-a143-e1b79abade11",
   "metadata": {},
   "outputs": [],
   "source": [
    "obs = xr.open_dataset('wave2_obsStatistics_sudokuBiomes.nc')"
   ]
  },
  {
   "cell_type": "code",
   "execution_count": 6,
   "id": "8e916636-9fc5-4218-b86f-66447fa8b8a5",
   "metadata": {},
   "outputs": [],
   "source": [
    "# setup\n",
    "key = '/glade/work/linnia/CLM6-PPE/ctsm6_lhc/ctsm6lhc_11262024.txt'\n",
    "params_lhc = pd.read_csv(key).drop(columns='member')"
   ]
  },
  {
   "cell_type": "code",
   "execution_count": 7,
   "id": "2ea86a34-c73f-4bca-9ef6-b7dd62ffceb5",
   "metadata": {},
   "outputs": [],
   "source": [
    "pft_params   = ['kmax','psi50','jmaxb0','slatop','lmr_intercept_atkin',\n",
    "                'medlynslope','medlynintercept','froot_leaf','leafcn','leaf_long',\n",
    "                'KCN','dleaf','r_mort','fsr_pft','xl']\n",
    "pftix=np.array([p in pft_params for p in params_lhc.columns])\n",
    "u_params = params_lhc.columns[~pftix]"
   ]
  },
  {
   "cell_type": "code",
   "execution_count": 8,
   "id": "0d7c89fc-3216-41fb-9caf-fd94706f90bb",
   "metadata": {},
   "outputs": [],
   "source": [
    "file='../../biomes/sudoku_biomes.nc'\n",
    "biomes=xr.open_dataset(file)\n",
    "biome_names = biomes.biome_names.values"
   ]
  },
  {
   "cell_type": "code",
   "execution_count": 9,
   "id": "ee7b9a70-3823-4631-959b-f7fee0ee7aac",
   "metadata": {},
   "outputs": [],
   "source": [
    "# setup\n",
    "emulator_dir = './emulators_biomelai/'\n",
    "out_dir = './samples/'"
   ]
  },
  {
   "cell_type": "markdown",
   "id": "f7f784c5-cefb-41a1-9b55-ee00296336d0",
   "metadata": {},
   "source": [
    "### Sample"
   ]
  },
  {
   "cell_type": "code",
   "execution_count": 16,
   "id": "2a16cdaa-5099-4411-95a3-1d0ba7497a83",
   "metadata": {},
   "outputs": [],
   "source": [
    "key = str(5)\n",
    "key = int(key)\n",
    "n_usamp = 10\n",
    "n_psamp = 100\n",
    "usample_all = pd.read_csv(\"./hmatch/universal_samples.csv\")\n",
    "psample_all = pd.read_csv(\"./hmatch/pft_samples.csv\")\n",
    "key = 101\n",
    "usample = usample_all.iloc[key*n_usamp:key*n_usamp+n_usamp]\n",
    "psample = psample_all.iloc[key*n_psamp:key*n_psamp+n_psamp]"
   ]
  },
  {
   "cell_type": "markdown",
   "id": "ff046363-55d9-49ad-a09c-8f3e88372ae5",
   "metadata": {
    "jp-MarkdownHeadingCollapsed": true
   },
   "source": [
    "### A Tree "
   ]
  },
  {
   "cell_type": "code",
   "execution_count": 37,
   "id": "f86e6846-c795-44ba-85d0-fb999ca44be8",
   "metadata": {},
   "outputs": [],
   "source": [
    "biome = 'Tropical rainforest'\n",
    "b = 1\n",
    "nparameters = 41+15*1\n",
    "\n",
    "obs_mean = obs.LAI_mean.sel(biome=b).values\n",
    "obs_var = obs.LAI_stdev.sel(biome=b).values**2\n",
    "\n",
    "u = np.repeat(usample.values,repeats=n_psamp,axis=0)\n",
    "p = np.tile(psample.values, (n_usamp, 1))\n",
    "sample = np.concatenate([u,p],axis=1)\n",
    "\n",
    "loaded_emulator = tf.saved_model.load(emulator_dir + biome)\n",
    "y_pred, y_pred_var = loaded_emulator.predict(sample)\n",
    "\n",
    "I = np.abs(y_pred.numpy().flatten()-obs_mean)/ np.sqrt(obs_var + y_pred_var.numpy().flatten())\n",
    "ix = np.where(I<2)[0]\n",
    "\n",
    "pft_param_names = [f\"{param}_{4}\" for param in psample.columns]\n",
    "columns = np.concatenate((usample.columns,pft_param_names))\n",
    "biome1_sample = pd.DataFrame(sample[ix],columns=columns)"
   ]
  },
  {
   "cell_type": "code",
   "execution_count": 43,
   "id": "5d6abb44-cd1a-472a-92bc-6ab67263d50e",
   "metadata": {},
   "outputs": [
    {
     "name": "stdout",
     "output_type": "stream",
     "text": [
      "CPU times: user 1min 10s, sys: 3.47 s, total: 1min 14s\n",
      "Wall time: 4min 37s\n"
     ]
    }
   ],
   "source": [
    "%%time\n",
    "biome = 'Tropical savanna'\n",
    "b = 2\n",
    "nparameters = 41+15*2\n",
    "\n",
    "obs_mean = obs.LAI_mean.sel(biome=b).values\n",
    "obs_var = obs.LAI_stdev.sel(biome=b).values**2\n",
    "\n",
    "if (np.shape(biome1_sample)[0] < 100):\n",
    "    nx = range(np.shape(biome1_sample)[0])\n",
    "else:\n",
    "    nx = np.random.choice(np.shape(biome1_sample)[0],size=100,replace=False)\n",
    "    \n",
    "for n,i in enumerate(nx):\n",
    "    u = np.tile(biome1_sample[u_params].iloc[i].values,(n_psamp,1))\n",
    "    pft4_param_names = [f\"{param}_{4}\" for param in psample.columns]\n",
    "    p4 = np.tile(biome1_sample[pft4_param_names].iloc[i].values,(n_psamp,1))\n",
    "    p14 = psample.values\n",
    "    sample = np.concatenate([u,p4,p14],axis=1)\n",
    "    \n",
    "    loaded_emulator = tf.saved_model.load(emulator_dir + biome)\n",
    "    y_pred, y_pred_var = loaded_emulator.predict(sample)\n",
    "    \n",
    "    I = np.abs(y_pred.numpy().flatten()-obs_mean)/ np.sqrt(obs_var + y_pred_var.numpy().flatten())\n",
    "    ix = np.where(I<2)[0]\n",
    "    if (n ==0):\n",
    "        biome2_samples = sample[ix,:]\n",
    "    else:\n",
    "        biome2_samples = np.concatenate((biome2_samples,sample[ix,:]),axis=0)\n",
    "\n",
    "# create dataframe\n",
    "pft14_param_names = [f\"{param}_{14}\" for param in psample.columns]\n",
    "columns = np.concatenate((usample.columns,pft4_param_names,pft14_param_names))\n",
    "biome2_sample = pd.DataFrame(biome2_samples,columns=columns)"
   ]
  },
  {
   "cell_type": "code",
   "execution_count": 47,
   "id": "83ed67bd-0296-4583-8e69-512e7ad62ff1",
   "metadata": {},
   "outputs": [
    {
     "name": "stdout",
     "output_type": "stream",
     "text": [
      "CPU times: user 1min 12s, sys: 3.21 s, total: 1min 15s\n",
      "Wall time: 4min 43s\n"
     ]
    }
   ],
   "source": [
    "%%time\n",
    "biome = 'Subtropical savanna'\n",
    "b = 3\n",
    "nparameters = 41+15*3\n",
    "\n",
    "obs_mean = obs.LAI_mean.sel(biome=b).values\n",
    "obs_var = obs.LAI_stdev.sel(biome=b).values**2\n",
    "\n",
    "if (np.shape(biome2_sample)[0] < 100):\n",
    "    nx = range(np.shape(biome2_sample)[0])\n",
    "else:\n",
    "    nx = np.random.choice(np.shape(biome2_sample)[0],size=100,replace=False)\n",
    "    \n",
    "for n,i in enumerate(nx):\n",
    "    u = np.tile(biome2_sample[u_params].iloc[i].values,(n_psamp,1))\n",
    "    pft4_param_names = [f\"{param}_{4}\" for param in psample.columns]\n",
    "    p4 = np.tile(biome2_sample[pft4_param_names].iloc[i].values,(n_psamp,1))\n",
    "    pft14_param_names = [f\"{param}_{14}\" for param in psample.columns]\n",
    "    p14 = np.tile(biome2_sample[pft14_param_names].iloc[i].values,(n_psamp,1))\n",
    "    \n",
    "    p6 = psample.values\n",
    "    sample = np.concatenate([u,p4,p6,p14],axis=1)\n",
    "\n",
    "    loaded_emulator = tf.saved_model.load(emulator_dir + biome)\n",
    "    y_pred, y_pred_var = loaded_emulator.predict(sample)\n",
    "    \n",
    "    I = np.abs(y_pred.numpy().flatten()-obs_mean)/ np.sqrt(obs_var + y_pred_var.numpy().flatten())\n",
    "    ix = np.where(I<2)[0]\n",
    "    if (n ==0):\n",
    "        biome3_samples = sample[ix,:]\n",
    "    else:\n",
    "        biome3_samples = np.concatenate((biome3_samples,sample[ix,:]),axis=0)\n",
    "\n",
    "# create dataframe\n",
    "pft6_param_names = [f\"{param}_{6}\" for param in psample.columns]\n",
    "columns = np.concatenate((u_params,pft4_param_names,pft6_param_names,pft14_param_names))\n",
    "biome3_sample = pd.DataFrame(biome3_samples,columns=columns)"
   ]
  },
  {
   "cell_type": "code",
   "execution_count": 48,
   "id": "e13b3871-0be0-4ac0-8e6a-34c69aec5e9c",
   "metadata": {},
   "outputs": [
    {
     "data": {
      "text/plain": [
       "(4013, 86)"
      ]
     },
     "execution_count": 48,
     "metadata": {},
     "output_type": "execute_result"
    }
   ],
   "source": [
    "np.shape(biome3_sample)"
   ]
  },
  {
   "cell_type": "code",
   "execution_count": 50,
   "id": "21a283e1-5eb0-45b6-88d7-3bb304bdbb15",
   "metadata": {},
   "outputs": [
    {
     "name": "stdout",
     "output_type": "stream",
     "text": [
      "CPU times: user 1min 11s, sys: 2.79 s, total: 1min 14s\n",
      "Wall time: 5min\n"
     ]
    }
   ],
   "source": [
    "%%time\n",
    "biome = 'Grasslands'\n",
    "b = 5\n",
    "nparameters = 41+15*2\n",
    "\n",
    "obs_mean = obs.LAI_mean.sel(biome=b).values\n",
    "obs_var = obs.LAI_stdev.sel(biome=b).values**2\n",
    "\n",
    "if (np.shape(biome3_sample)[0] < 100):\n",
    "    nx = range(np.shape(biome3_sample)[0])\n",
    "else:\n",
    "    nx = np.random.choice(np.shape(biome3_sample)[0],size=100,replace=False)\n",
    "    \n",
    "for n,i in enumerate(nx):\n",
    "    u = np.tile(biome3_sample[u_params].iloc[i].values,(n_psamp,1))\n",
    "    pft14_param_names = [f\"{param}_{14}\" for param in psample.columns]\n",
    "    p14 = np.tile(biome3_sample[pft14_param_names].iloc[i].values,(n_psamp,1))\n",
    "    \n",
    "    p13 = psample.values\n",
    "    sample = np.concatenate([u,p13,p14],axis=1)\n",
    "\n",
    "    loaded_emulator = tf.saved_model.load(emulator_dir + biome)\n",
    "    y_pred, y_pred_var = loaded_emulator.predict(sample)\n",
    "    \n",
    "    I = np.abs(y_pred.numpy().flatten()-obs_mean)/ np.sqrt(obs_var + y_pred_var.numpy().flatten())\n",
    "    ix = np.where(I<2)[0]\n",
    "    if (n ==0):\n",
    "        biome5_samples = sample[ix,:]\n",
    "    else:\n",
    "        biome5_samples = np.concatenate((biome5_samples,sample[ix,:]),axis=0)\n",
    "\n",
    "# create dataframe\n",
    "pft13_param_names = [f\"{param}_{13}\" for param in psample.columns]\n",
    "columns = np.concatenate((u_params,pft13_param_names,pft14_param_names))\n",
    "biome5_sample = pd.DataFrame(biome5_samples,columns=columns)\n"
   ]
  },
  {
   "cell_type": "code",
   "execution_count": 51,
   "id": "fd951262-40a4-47cc-b769-d8092e15810a",
   "metadata": {},
   "outputs": [
    {
     "data": {
      "text/plain": [
       "(2402, 71)"
      ]
     },
     "execution_count": 51,
     "metadata": {},
     "output_type": "execute_result"
    }
   ],
   "source": [
    "np.shape(biome5_sample)"
   ]
  },
  {
   "cell_type": "code",
   "execution_count": 52,
   "id": "2752d931-967f-4d8b-b01b-00103503c5b4",
   "metadata": {},
   "outputs": [
    {
     "name": "stdout",
     "output_type": "stream",
     "text": [
      "CPU times: user 1min 12s, sys: 4.47 s, total: 1min 17s\n",
      "Wall time: 4min 45s\n"
     ]
    }
   ],
   "source": [
    "%%time\n",
    "biome = 'Shrubland'\n",
    "b = 6\n",
    "nparameters = 41+15*3\n",
    "\n",
    "obs_mean = obs.LAI_mean.sel(biome=b).values\n",
    "obs_var = obs.LAI_stdev.sel(biome=b).values**2\n",
    "\n",
    "if (np.shape(biome5_sample)[0] < 100):\n",
    "    nx = range(np.shape(biome5_sample)[0])\n",
    "else:\n",
    "    nx = np.random.choice(np.shape(biome5_sample)[0],size=100,replace=False)\n",
    "    \n",
    "for n,i in enumerate(nx):\n",
    "    u = np.tile(biome5_sample[u_params].iloc[i].values,(n_psamp,1))\n",
    "    pft13_param_names = [f\"{param}_{13}\" for param in psample.columns]\n",
    "    p13 = np.tile(biome5_sample[pft13_param_names].iloc[i].values,(n_psamp,1))\n",
    "    pft14_param_names = [f\"{param}_{14}\" for param in psample.columns]\n",
    "    p14 = np.tile(biome5_sample[pft14_param_names].iloc[i].values,(n_psamp,1))\n",
    "    \n",
    "    p10 = psample.values\n",
    "    sample = np.concatenate([u,p10,p13,p14],axis=1)\n",
    "\n",
    "    loaded_emulator = tf.saved_model.load(emulator_dir + biome)\n",
    "    y_pred, y_pred_var = loaded_emulator.predict(sample)\n",
    "    \n",
    "    I = np.abs(y_pred.numpy().flatten()-obs_mean)/ np.sqrt(obs_var + y_pred_var.numpy().flatten())\n",
    "    ix = np.where(I<2)[0]\n",
    "    if (n ==0):\n",
    "        biome6_samples = sample[ix,:]\n",
    "    else:\n",
    "        biome6_samples = np.concatenate((biome6_samples,sample[ix,:]),axis=0)\n",
    "\n",
    "# create dataframe\n",
    "pft10_param_names = [f\"{param}_{10}\" for param in psample.columns]\n",
    "pft13_param_names = [f\"{param}_{13}\" for param in psample.columns]\n",
    "pft14_param_names = [f\"{param}_{14}\" for param in psample.columns]\n",
    "columns = np.concatenate((u_params,pft10_param_names,pft13_param_names,pft14_param_names))\n",
    "biome6_sample = pd.DataFrame(biome6_samples,columns=columns)"
   ]
  },
  {
   "cell_type": "code",
   "execution_count": 53,
   "id": "7564dee1-a58a-4c63-86fb-dcaca782ca0b",
   "metadata": {},
   "outputs": [
    {
     "data": {
      "text/plain": [
       "(1419, 86)"
      ]
     },
     "execution_count": 53,
     "metadata": {},
     "output_type": "execute_result"
    }
   ],
   "source": [
    "np.shape(biome6_sample)"
   ]
  },
  {
   "cell_type": "code",
   "execution_count": 55,
   "id": "2237959d-772f-408b-8cb0-24f144bb4b65",
   "metadata": {},
   "outputs": [
    {
     "name": "stdout",
     "output_type": "stream",
     "text": [
      "CPU times: user 1min 15s, sys: 8.85 s, total: 1min 24s\n",
      "Wall time: 4min 27s\n"
     ]
    }
   ],
   "source": [
    "%%time\n",
    "biome = 'Broadleaf evergreen temperate tree'\n",
    "b = 4\n",
    "nparameters = 41+15*3\n",
    "\n",
    "obs_mean = obs.LAI_mean.sel(biome=b).values\n",
    "obs_var = obs.LAI_stdev.sel(biome=b).values**2\n",
    "\n",
    "if (np.shape(biome6_sample)[0] < 100):\n",
    "    nx = range(np.shape(biome6_sample)[0])\n",
    "else:\n",
    "    nx = np.random.choice(np.shape(biome6_sample)[0],size=100,replace=False)\n",
    "    \n",
    "for n,i in enumerate(nx):\n",
    "    u = np.tile(biome6_sample[u_params].iloc[i].values,(n_psamp,1))\n",
    "    pft13_param_names = [f\"{param}_{13}\" for param in psample.columns]\n",
    "    p13 = np.tile(biome6_sample[pft13_param_names].iloc[i].values,(n_psamp,1))\n",
    "    pft14_param_names = [f\"{param}_{14}\" for param in psample.columns]\n",
    "    p14 = np.tile(biome6_sample[pft14_param_names].iloc[i].values,(n_psamp,1))\n",
    "    \n",
    "    p5 = psample.values\n",
    "    sample = np.concatenate([u,p5,p13,p14],axis=1)\n",
    "\n",
    "    loaded_emulator = tf.saved_model.load(emulator_dir + biome)\n",
    "    y_pred, y_pred_var = loaded_emulator.predict(sample)\n",
    "    \n",
    "    I = np.abs(y_pred.numpy().flatten()-obs_mean)/ np.sqrt(obs_var + y_pred_var.numpy().flatten())\n",
    "    ix = np.where(I<2)[0]\n",
    "    if (n ==0):\n",
    "        biome4_samples = sample[ix,:]\n",
    "    else:\n",
    "        biome4_samples = np.concatenate((biome4_samples,sample[ix,:]),axis=0)\n",
    "\n",
    "# create dataframe\n",
    "pft5_param_names = [f\"{param}_{5}\" for param in psample.columns]\n",
    "columns = np.concatenate((u_params,pft5_param_names,pft13_param_names,pft14_param_names))\n",
    "biome4_sample = pd.DataFrame(biome4_samples,columns=columns)"
   ]
  },
  {
   "cell_type": "code",
   "execution_count": 56,
   "id": "14621cc4-17fa-4d6a-ac24-97c9cff5bda6",
   "metadata": {},
   "outputs": [
    {
     "data": {
      "text/plain": [
       "(1087, 86)"
      ]
     },
     "execution_count": 56,
     "metadata": {},
     "output_type": "execute_result"
    }
   ],
   "source": [
    "np.shape(biome4_sample)"
   ]
  },
  {
   "cell_type": "code",
   "execution_count": 137,
   "id": "2333f766-4b53-4c5e-9696-a5deb76dfcc4",
   "metadata": {},
   "outputs": [],
   "source": [
    "# prune up\n",
    "\n",
    "# biome 4 PFT 5\n",
    "b4_sample = biome4_sample\n",
    "b4_sample.to_csv(\"./samples/tree1_b4.csv\", index=False)\n",
    "\n",
    "cols = np.concatenate((u_params, pft14_param_names))\n",
    "biome4_unique = biome4_sample[cols].drop_duplicates()\n",
    "\n",
    "# biome 6 PFT 10\n",
    "b6_sample = biome6_sample.merge(biome4_unique, on=cols.tolist(), how='inner')\n",
    "b6_sample.to_csv(\"./samples/tree1_b6.csv\", index=False)\n",
    "\n",
    "# biome 5 PFT 13\n",
    "b5_sample = biome5_sample.merge(biome4_unique, on=cols.tolist(), how='inner')\n",
    "b5_sample.to_csv(\"./samples/tree1_b5.csv\", index=False)\n",
    "\n",
    "# biome 3 PFT 6\n",
    "b3_sample = biome3_sample.merge(biome4_unique, on=cols.tolist(), how='inner')\n",
    "b3_sample.to_csv(\"./samples/tree1_b3.csv\", index=False)\n",
    "\n",
    "# biome 2 PFT 14\n",
    "b2_sample = biome2_sample.merge(biome4_unique, on=cols.tolist(), how='inner')\n",
    "b2_sample.to_csv(\"./samples/tree1_b2.csv\", index=False)\n",
    "\n",
    "# biome 1 PFT 4\n",
    "cols = np.concatenate((u_params, pft4_param_names))\n",
    "biome2_unique = b2_sample[cols].drop_duplicates()\n",
    "b1_sample = biome1_sample.merge(biome2_unique, on=cols.tolist(), how='inner')\n",
    "b1_sample.to_csv(\"./samples/tree1_b1.csv\", index=False)"
   ]
  },
  {
   "cell_type": "code",
   "execution_count": 149,
   "id": "e7f9ca43-2865-4f59-8b18-0ad3599b38f2",
   "metadata": {},
   "outputs": [],
   "source": [
    "outdir = '/glade/work/linnia/CLM6-PPE/ctsm6_wave1/NROY/'\n",
    "b1_sample.to_csv(outdir+\"tree1_b1.csv\", index=False)"
   ]
  },
  {
   "cell_type": "markdown",
   "id": "67d16537-e371-4d4f-9e96-cc043b50c275",
   "metadata": {
    "jp-MarkdownHeadingCollapsed": true
   },
   "source": [
    "### B Tree"
   ]
  },
  {
   "cell_type": "code",
   "execution_count": 10,
   "id": "5845ef94-ffa4-4d32-99a7-4af93af948be",
   "metadata": {},
   "outputs": [
    {
     "name": "stderr",
     "output_type": "stream",
     "text": [
      "2025-03-18 09:04:10.363556: E external/local_xla/xla/stream_executor/cuda/cuda_driver.cc:152] failed call to cuInit: INTERNAL: CUDA error: Failed call to cuInit: CUDA_ERROR_NO_DEVICE: no CUDA-capable device is detected\n"
     ]
    }
   ],
   "source": [
    "biome = 'Boreal shrubland'\n",
    "b = 12\n",
    "nparameters = 41+15*1\n",
    "\n",
    "obs_mean = obs.LAI_mean.sel(biome=b).values\n",
    "obs_var = obs.LAI_stdev.sel(biome=b).values**2\n",
    "\n",
    "u = np.repeat(usample.values,repeats=n_psamp,axis=0)\n",
    "p = np.tile(psample.values, (n_usamp, 1))\n",
    "sample = np.concatenate([u,p],axis=1)\n",
    "\n",
    "loaded_emulator = tf.saved_model.load(emulator_dir + biome)\n",
    "y_pred, y_pred_var = loaded_emulator.predict(sample)\n",
    "\n",
    "I = np.abs(y_pred.numpy().flatten()-obs_mean)/ np.sqrt(obs_var + y_pred_var.numpy().flatten())\n",
    "ix = np.where(I<2)[0]\n",
    "\n",
    "pft_param_names = [f\"{param}_{12}\" for param in psample.columns]\n",
    "columns = np.concatenate((usample.columns,pft_param_names))\n",
    "biome12_sample = pd.DataFrame(sample[ix],columns=columns)"
   ]
  },
  {
   "cell_type": "code",
   "execution_count": 13,
   "id": "31957743-8194-418f-ae5c-1149e6074298",
   "metadata": {},
   "outputs": [],
   "source": [
    "biome = 'Tundra'\n",
    "b = 13\n",
    "nparameters = 41+15*2\n",
    "\n",
    "obs_mean = obs.LAI_mean.sel(biome=b).values\n",
    "obs_var = obs.LAI_stdev.sel(biome=b).values**2\n",
    "\n",
    "if (np.shape(biome12_sample)[0] < 100):\n",
    "    nx = range(np.shape(biome12_sample)[0])\n",
    "else:\n",
    "    nx = np.random.choice(np.shape(biome12_sample)[0],size=100,replace=False)\n",
    "    \n",
    "for n,i in enumerate(nx):\n",
    "    u = np.tile(biome12_sample[u_params].iloc[i].values,(n_psamp,1))\n",
    "    pft12_param_names = [f\"{param}_{12}\" for param in psample.columns]\n",
    "    p12 = np.tile(biome12_sample[pft12_param_names].iloc[i].values,(n_psamp,1))\n",
    "    p11 = psample.values\n",
    "    sample = np.concatenate([u,p11,p12],axis=1)\n",
    "    \n",
    "    loaded_emulator = tf.saved_model.load(emulator_dir + biome)\n",
    "    y_pred, y_pred_var = loaded_emulator.predict(sample)\n",
    "    \n",
    "    I = np.abs(y_pred.numpy().flatten()-obs_mean)/ np.sqrt(obs_var + y_pred_var.numpy().flatten())\n",
    "    ix = np.where(I<2)[0]\n",
    "    if (n ==0):\n",
    "        biome13_samples = sample[ix,:]\n",
    "    else:\n",
    "        biome13_samples = np.concatenate((biome13_samples,sample[ix,:]),axis=0)\n",
    "\n",
    "# create dataframe\n",
    "pft11_param_names = [f\"{param}_{11}\" for param in psample.columns]\n",
    "columns = np.concatenate((usample.columns,pft11_param_names,pft12_param_names))\n",
    "biome13_sample = pd.DataFrame(biome13_samples,columns=columns)"
   ]
  },
  {
   "cell_type": "code",
   "execution_count": 14,
   "id": "67b760ce-fb58-4a4e-a026-079a76305c4e",
   "metadata": {},
   "outputs": [],
   "source": [
    "biome = 'Boreal forest'\n",
    "b = 10\n",
    "nparameters = 41+15*3\n",
    "\n",
    "obs_mean = obs.LAI_mean.sel(biome=b).values\n",
    "obs_var = obs.LAI_stdev.sel(biome=b).values**2\n",
    "\n",
    "if (np.shape(biome13_sample)[0] < 100):\n",
    "    nx = range(np.shape(biome13_sample)[0])\n",
    "else:\n",
    "    nx = np.random.choice(np.shape(biome13_sample)[0],size=100,replace=False)\n",
    "    \n",
    "for n,i in enumerate(nx):\n",
    "    u = np.tile(biome13_sample[u_params].iloc[i].values,(n_psamp,1))\n",
    "    pft11_param_names = [f\"{param}_{11}\" for param in psample.columns]\n",
    "    p11 = np.tile(biome13_sample[pft11_param_names].iloc[i].values,(n_psamp,1))\n",
    "    pft12_param_names = [f\"{param}_{12}\" for param in psample.columns]\n",
    "    p12 = np.tile(biome13_sample[pft12_param_names].iloc[i].values,(n_psamp,1))\n",
    "    \n",
    "    p2 = psample.values\n",
    "    sample = np.concatenate([u,p2,p11,p12],axis=1)\n",
    "\n",
    "    loaded_emulator = tf.saved_model.load(emulator_dir + biome)\n",
    "    y_pred, y_pred_var = loaded_emulator.predict(sample)\n",
    "    \n",
    "    I = np.abs(y_pred.numpy().flatten()-obs_mean)/ np.sqrt(obs_var + y_pred_var.numpy().flatten())\n",
    "    ix = np.where(I<2)[0]\n",
    "    if (n ==0):\n",
    "        biome10_samples = sample[ix,:]\n",
    "    else:\n",
    "        biome10_samples = np.concatenate((biome10_samples,sample[ix,:]),axis=0)\n",
    "\n",
    "# create dataframe\n",
    "pft2_param_names = [f\"{param}_{2}\" for param in psample.columns]\n",
    "columns = np.concatenate((u_params,pft2_param_names,pft11_param_names,pft12_param_names))\n",
    "biome10_sample = pd.DataFrame(biome10_samples,columns=columns)"
   ]
  },
  {
   "cell_type": "code",
   "execution_count": 15,
   "id": "f7c01273-753b-476f-81bd-56fd1914a545",
   "metadata": {},
   "outputs": [],
   "source": [
    "biome = 'Siberian larch'\n",
    "b = 9\n",
    "nparameters = 41+15*3\n",
    "\n",
    "obs_mean = obs.LAI_mean.sel(biome=b).values\n",
    "obs_var = obs.LAI_stdev.sel(biome=b).values**2\n",
    "\n",
    "if (np.shape(biome10_sample)[0] < 100):\n",
    "    nx = range(np.shape(biome10_sample)[0])\n",
    "else:\n",
    "    nx = np.random.choice(np.shape(biome10_sample)[0],size=100,replace=False)\n",
    "    \n",
    "for n,i in enumerate(nx):\n",
    "    u = np.tile(biome10_sample[u_params].iloc[i].values,(n_psamp,1))\n",
    "    pft11_param_names = [f\"{param}_{11}\" for param in psample.columns]\n",
    "    p11 = np.tile(biome10_sample[pft11_param_names].iloc[i].values,(n_psamp,1))\n",
    "    pft12_param_names = [f\"{param}_{12}\" for param in psample.columns]\n",
    "    p12 = np.tile(biome10_sample[pft12_param_names].iloc[i].values,(n_psamp,1))\n",
    "    \n",
    "    p3 = psample.values\n",
    "    sample = np.concatenate([u,p3,p11,p12],axis=1)\n",
    "\n",
    "    loaded_emulator = tf.saved_model.load(emulator_dir + biome)\n",
    "    y_pred, y_pred_var = loaded_emulator.predict(sample)\n",
    "    \n",
    "    I = np.abs(y_pred.numpy().flatten()-obs_mean)/ np.sqrt(obs_var + y_pred_var.numpy().flatten())\n",
    "    ix = np.where(I<2)[0]\n",
    "    if (n ==0):\n",
    "        biome9_samples = sample[ix,:]\n",
    "    else:\n",
    "        biome9_samples = np.concatenate((biome9_samples,sample[ix,:]),axis=0)\n",
    "\n",
    "# create dataframe\n",
    "pft3_param_names = [f\"{param}_{3}\" for param in psample.columns]\n",
    "columns = np.concatenate((u_params,pft3_param_names,pft11_param_names,pft12_param_names))\n",
    "biome9_sample = pd.DataFrame(biome9_samples,columns=columns)"
   ]
  },
  {
   "cell_type": "code",
   "execution_count": 16,
   "id": "b0fa5fd3-7cab-4ca3-8dac-b98f6c09764c",
   "metadata": {},
   "outputs": [
    {
     "data": {
      "text/plain": [
       "(7708, 86)"
      ]
     },
     "execution_count": 16,
     "metadata": {},
     "output_type": "execute_result"
    }
   ],
   "source": [
    "np.shape(biome9_sample)"
   ]
  },
  {
   "cell_type": "code",
   "execution_count": 17,
   "id": "3fa9599f-7987-4d95-8db2-0ceed8dbd317",
   "metadata": {},
   "outputs": [],
   "source": [
    "# Prune up and save\n",
    "b9_sample = biome9_sample\n",
    "#b9_sample.to_csv(outdir+key+\"_Btree_biome9.csv\", index=False)\n",
    "\n",
    "cols = np.concatenate((u_params, pft12_param_names))\n",
    "biome9_unique = biome9_sample[cols].drop_duplicates()\n",
    "\n",
    "b10_sample = biome10_sample.merge(biome9_unique, on=cols.tolist(), how='inner')\n",
    "#b10_sample.to_csv(outdir+key+\"_Btree_biome10.csv\", index=False)\n",
    "\n",
    "b13_sample = biome13_sample.merge(biome9_unique, on=cols.tolist(), how='inner')\n",
    "#b13_sample.to_csv(outdir+key+\"_Btree_biome13.csv\", index=False)\n",
    "\n",
    "b12_sample = biome12_sample.merge(biome9_unique, on=cols.tolist(), how='inner')\n",
    "#b12_sample.to_csv(outdir+key+\"_Btree_biome9.csv\", index=False)\n"
   ]
  },
  {
   "cell_type": "markdown",
   "id": "4087709c-9e1f-46cb-8a91-e8cdb8cbdba0",
   "metadata": {},
   "source": [
    "### C tree"
   ]
  },
  {
   "cell_type": "code",
   "execution_count": 21,
   "id": "8ce30cc1-c88b-49ca-bef6-4cb7e925c456",
   "metadata": {},
   "outputs": [
    {
     "name": "stdout",
     "output_type": "stream",
     "text": [
      "CPU times: user 4.45 s, sys: 452 ms, total: 4.9 s\n",
      "Wall time: 9.7 s\n"
     ]
    }
   ],
   "source": [
    "%%time\n",
    "# load Atree sample\n",
    "d = '/glade/work/linnia/CLM6-PPE/ctsm6_wave1/NROY/'\n",
    "b=4\n",
    "files = np.sort(glob.glob(d+'*tree1*'+str(b)+'.csv'))\n",
    "Atree_biome4 = pd.concat([pd.read_csv(f) for f in files], ignore_index=True)"
   ]
  },
  {
   "cell_type": "code",
   "execution_count": 22,
   "id": "f0b783a4-15de-4106-9bcd-1067befcfa8a",
   "metadata": {},
   "outputs": [
    {
     "name": "stdout",
     "output_type": "stream",
     "text": [
      "CPU times: user 6.96 s, sys: 309 ms, total: 7.27 s\n",
      "Wall time: 12.7 s\n"
     ]
    }
   ],
   "source": [
    "%%time\n",
    "# load Btree sample\n",
    "d = '/glade/work/linnia/CLM6-PPE/ctsm6_wave1/NROY/'\n",
    "b=10\n",
    "files = np.sort(glob.glob(d+'*Btree*'+str(b)+'.csv'))\n",
    "Btree_biome10 = pd.concat([pd.read_csv(f) for f in files], ignore_index=True)"
   ]
  },
  {
   "cell_type": "code",
   "execution_count": 23,
   "id": "db303423-a2d6-45f6-b782-017949668742",
   "metadata": {},
   "outputs": [
    {
     "name": "stdout",
     "output_type": "stream",
     "text": [
      "CPU times: user 456 ms, sys: 47.8 ms, total: 504 ms\n",
      "Wall time: 730 ms\n"
     ]
    }
   ],
   "source": [
    "%%time\n",
    "uA_unique = Atree_biome4[u_params].drop_duplicates()\n",
    "uB_unique = Btree_biome10[u_params].drop_duplicates()\n",
    "uset_intersection = uA_unique.merge(uB_unique, how='inner')"
   ]
  },
  {
   "cell_type": "code",
   "execution_count": 24,
   "id": "6e0d8bfb-b53b-4926-8f6e-5eac8a9bb7f8",
   "metadata": {},
   "outputs": [
    {
     "name": "stdout",
     "output_type": "stream",
     "text": [
      "biome 8 done\n",
      "CPU times: user 1min 18s, sys: 2.38 s, total: 1min 20s\n",
      "Wall time: 1min 54s\n"
     ]
    }
   ],
   "source": [
    "%%time\n",
    "biome = 'Conifer forest'\n",
    "b = 8\n",
    "nparameters = 41+15*4\n",
    "cols = u_params\n",
    "\n",
    "obs_mean = obs.LAI_mean.sel(biome=b).values\n",
    "obs_var = obs.LAI_stdev.sel(biome=b).values**2\n",
    "\n",
    "uset_ix = np.random.choice(len(uset_intersection),size=min(len(uset_intersection),1),replace=False)\n",
    "for id,ux in enumerate(uset_ix):\n",
    "    u = np.tile(uset_intersection.iloc[ux].values,(n_psamp,1))\n",
    "    Atree_subset = Atree_biome4.merge(uset_intersection.loc[[ux]], on=cols.tolist(), how='inner')\n",
    "    Btree_subset = Btree_biome10.merge(uset_intersection.loc[[ux]], on=cols.tolist(), how='inner')\n",
    "    pft2_param_names = [f\"{param}_{2}\" for param in pft_params]\n",
    "    for i in np.random.choice(np.shape(Btree_subset)[0],size=min(np.shape(Btree_subset)[0],10),replace=False):\n",
    "        p2 = np.tile(Btree_subset[pft2_param_names].iloc[i].values,(n_psamp,1))\n",
    "        for j in np.random.choice(np.shape(Atree_subset)[0],size=min(np.shape(Atree_subset)[0],10),replace=False):\n",
    "            pft13_param_names = [f\"{param}_{13}\" for param in pft_params]\n",
    "            p13 = np.tile(Atree_subset[pft13_param_names].iloc[j].values,(n_psamp,1))\n",
    "            pft14_param_names = [f\"{param}_{14}\" for param in pft_params]\n",
    "            p14 = np.tile(Atree_subset[pft14_param_names].iloc[j].values,(n_psamp,1))\n",
    "\n",
    "        \n",
    "            p1 = psample.values\n",
    "            sample = np.concatenate([u,p1,p2,p13,p14],axis=1)\n",
    "        \n",
    "            loaded_emulator = tf.saved_model.load(emulator_dir + biome)\n",
    "            y_pred, y_pred_var = loaded_emulator.predict(sample)\n",
    "            \n",
    "            I = np.abs(y_pred.numpy().flatten()-obs_mean)/ np.sqrt(obs_var + y_pred_var.numpy().flatten())\n",
    "            ix = np.where(I<2)[0]\n",
    "            if (id ==0):\n",
    "                biome8_samples = sample[ix,:]\n",
    "            else:\n",
    "                biome8_samples = np.concatenate((biome8_samples,sample[ix,:]),axis=0)\n",
    "\n",
    "# create dataframe\n",
    "pft1_param_names = [f\"{param}_{1}\" for param in psample.columns]\n",
    "columns = np.concatenate((u_params,pft1_param_names,pft2_param_names,pft13_param_names,pft14_param_names))\n",
    "biome8_sample = pd.DataFrame(biome8_samples,columns=columns)\n",
    "print('biome 8 done')\n"
   ]
  },
  {
   "cell_type": "code",
   "execution_count": 19,
   "id": "8fa353a6-1fde-463e-967a-9e8e8f7d9af6",
   "metadata": {},
   "outputs": [
    {
     "data": {
      "text/plain": [
       "(85, 101)"
      ]
     },
     "execution_count": 19,
     "metadata": {},
     "output_type": "execute_result"
    }
   ],
   "source": [
    "np.shape(biome8_sample)"
   ]
  },
  {
   "cell_type": "code",
   "execution_count": 27,
   "id": "dbe2868c-02f7-4c18-b5aa-42c0b6a9eb11",
   "metadata": {},
   "outputs": [
    {
     "name": "stdout",
     "output_type": "stream",
     "text": [
      "CPU times: user 7.36 s, sys: 232 ms, total: 7.59 s\n",
      "Wall time: 9.06 s\n"
     ]
    }
   ],
   "source": [
    "%%time\n",
    "biome = 'Mixed deciduous temperate forest'\n",
    "b = 7\n",
    "nparameters = 41+15*4\n",
    "\n",
    "obs_mean = obs.LAI_mean.sel(biome=b).values\n",
    "obs_var = obs.LAI_stdev.sel(biome=b).values**2\n",
    "\n",
    "nx = np.random.choice(np.shape(biome8_sample)[0],size=min(np.shape(biome8_sample)[0],10),replace=False)\n",
    "\n",
    "for n,i in enumerate(nx):\n",
    "    u = np.tile(biome8_sample[u_params].iloc[i].values,(n_psamp,1))\n",
    "    pft1_param_names = [f\"{param}_{1}\" for param in psample.columns]\n",
    "    p1 = np.tile(biome8_sample[pft1_param_names].iloc[i].values,(n_psamp,1))\n",
    "    pft13_param_names = [f\"{param}_{13}\" for param in psample.columns]\n",
    "    p13 = np.tile(biome8_sample[pft13_param_names].iloc[i].values,(n_psamp,1))\n",
    "    pft14_param_names = [f\"{param}_{14}\" for param in psample.columns]\n",
    "    p14 = np.tile(biome8_sample[pft14_param_names].iloc[i].values,(n_psamp,1))\n",
    "\n",
    "    p7 = psample.values\n",
    "    sample = np.concatenate([u,p1,p7,p13,p14],axis=1)\n",
    "\n",
    "    loaded_emulator = tf.saved_model.load(emulator_dir + biome)\n",
    "    y_pred, y_pred_var = loaded_emulator.predict(sample)\n",
    "    \n",
    "    I = np.abs(y_pred.numpy().flatten()-obs_mean)/ np.sqrt(obs_var + y_pred_var.numpy().flatten())\n",
    "    ix = np.where(I<2)[0]\n",
    "    if (n ==0):\n",
    "        biome7_samples = sample[ix,:]\n",
    "    else:\n",
    "        biome7_samples = np.concatenate((biome7_samples,sample[ix,:]),axis=0)\n",
    "\n",
    "# create dataframe\n",
    "pft7_param_names = [f\"{param}_{7}\" for param in psample.columns]\n",
    "columns = np.concatenate((u_params,pft1_param_names,pft7_param_names,pft13_param_names,pft14_param_names))\n",
    "biome7_sample = pd.DataFrame(biome7_samples,columns=columns)"
   ]
  },
  {
   "cell_type": "code",
   "execution_count": 33,
   "id": "6ae4c440-ee85-4c25-ae04-cb803921db50",
   "metadata": {},
   "outputs": [],
   "source": [
    "# intersection of biome 8 and Btree\n",
    "b8_unique = biome8_sample[u_params].drop_duplicates()\n",
    "uB_unique = Btree_biome10[u_params].drop_duplicates()\n",
    "uset_intersection = b8_unique.merge(uB_unique, how='inner')"
   ]
  },
  {
   "cell_type": "code",
   "execution_count": 35,
   "id": "541de0a9-5e7d-4128-b50d-ae8b135fa140",
   "metadata": {},
   "outputs": [
    {
     "name": "stdout",
     "output_type": "stream",
     "text": [
      "CPU times: user 1min 18s, sys: 2.42 s, total: 1min 21s\n",
      "Wall time: 1min 44s\n"
     ]
    }
   ],
   "source": [
    "%%time\n",
    "biome = 'Broadleaf deciduous boreal trees' # 2,8,12,13\n",
    "b = 11\n",
    "nparameters = 41+15*4\n",
    "cols = u_params\n",
    "\n",
    "obs_mean = obs.LAI_mean.sel(biome=b).values\n",
    "obs_var = obs.LAI_stdev.sel(biome=b).values**2\n",
    "\n",
    "pft2_param_names = [f\"{param}_{2}\" for param in psample.columns]\n",
    "pft12_param_names = [f\"{param}_{12}\" for param in psample.columns]\n",
    "pft13_param_names = [f\"{param}_{13}\" for param in psample.columns]\n",
    "\n",
    "uset_ix = np.random.choice(len(uset_intersection),size=min(len(uset_intersection),1),replace=False)\n",
    "for n,ux in enumerate(uset_ix): # loop over unique universal samples\n",
    "    u = np.tile(uset_intersection.iloc[ux].values,(n_psamp,1))\n",
    "    # find all biome8 sets and Btree sets for this universal sample\n",
    "    b8_subset = biome8_sample.merge(uset_intersection.loc[[ux]], on=cols.tolist(), how='inner')\n",
    "    Btree_subset = Btree_biome10.merge(uset_intersection.loc[[ux]], on=cols.tolist(), how='inner')\n",
    "\n",
    "    # for each biome8 set, select the respective p2 and p13 parameters\n",
    "    for i in np.random.choice(np.shape(b8_subset)[0],size=min(np.shape(b8_subset)[0],10),replace=False):\n",
    "        p2 = np.tile(b8_subset[pft2_param_names].iloc[i].values,(n_psamp,1))\n",
    "        p13 = np.tile(b8_subset[pft13_param_names].iloc[i].values,(n_psamp,1))\n",
    "\n",
    "        # for each Btree set, select the respective p12 parameters\n",
    "        for j in np.random.choice(np.shape(Btree_subset)[0],size=min(np.shape(Btree_subset)[0],10),replace=False):\n",
    "            p12 = np.tile(Btree_subset[pft12_param_names].iloc[j].values,(n_psamp,1))\n",
    "\n",
    "            # introduce new PFT\n",
    "            p8 = psample.values\n",
    "            sample = np.concatenate([u,p2,p8,p12,p13],axis=1)\n",
    "\n",
    "            # emulate full sample (n_psamp)\n",
    "            loaded_emulator = tf.saved_model.load(emulator_dir + biome)\n",
    "            y_pred, y_pred_var = loaded_emulator.predict(sample)\n",
    "\n",
    "            # calc implausibility\n",
    "            I = np.abs(y_pred.numpy().flatten()-obs_mean)/ np.sqrt(obs_var + y_pred_var.numpy().flatten())\n",
    "            ix = np.where(I<3)[0]\n",
    "            # save sample\n",
    "            if (n==0):\n",
    "                biome11_samples = sample[ix,:]\n",
    "            else:\n",
    "                biome11_samples = np.concatenate((biome11_samples,sample[ix,:]),axis=0)\n",
    "\n",
    "# create NROY dataframe\n",
    "pft8_param_names = [f\"{param}_{8}\" for param in psample.columns]\n",
    "columns = np.concatenate((u_params,pft2_param_names,pft8_param_names,pft12_param_names,pft13_param_names))\n",
    "biome11_sample = pd.DataFrame(biome11_samples,columns=columns)"
   ]
  },
  {
   "cell_type": "code",
   "execution_count": 101,
   "id": "7f7d2883-2d07-4fe8-871d-d1ee586ae2ad",
   "metadata": {},
   "outputs": [],
   "source": [
    "# create NROY dataframe\n",
    "pft8_param_names = [f\"{param}_{8}\" for param in psample.columns]\n",
    "columns = np.concatenate((u_params,pft2_param_names,pft8_param_names,pft12_param_names,pft13_param_names))\n",
    "biome11_sample = pd.DataFrame(biome11_samples,columns=columns)"
   ]
  },
  {
   "cell_type": "code",
   "execution_count": 104,
   "id": "c3e8dd84-5b49-4917-bbdc-d626eb5da9b1",
   "metadata": {},
   "outputs": [],
   "source": [
    "# final prune \n",
    "\n",
    "b11_sample = biome11_sample\n",
    "#b11_sample.to_csv(outdir+key+\"_Ctree_biome11.csv\", index=False)\n",
    "\n",
    "cols = np.concatenate((u_params, pft13_param_names))\n",
    "biome11_unique = biome11_sample[cols].drop_duplicates()\n",
    "\n",
    "b7_sample = biome7_sample.merge(biome11_unique, on=cols.tolist(), how='inner')\n",
    "#b7_sample.to_csv(outdir+key+\"_Btree_biome7.csv\", index=False)\n",
    "\n",
    "b8_sample = biome8_sample.merge(biome11_unique, on=cols.tolist(), how='inner')\n",
    "#b8_sample.to_csv(outdir+key+\"_Btree_biome8.csv\", index=False)\n"
   ]
  },
  {
   "cell_type": "markdown",
   "id": "be809188-cfef-4b0e-9e3c-37f75c18ccba",
   "metadata": {},
   "source": [
    "### plot to check"
   ]
  },
  {
   "cell_type": "code",
   "execution_count": 105,
   "id": "6c2d7687-ef96-47e1-86af-34ccfa5ba467",
   "metadata": {},
   "outputs": [],
   "source": [
    "#b_samples = [b1_sample, b2_sample, b3_sample, b4_sample, b5_sample, b6_sample]\n",
    "b_samples = [b7_sample, b8_sample, b11_sample]"
   ]
  },
  {
   "cell_type": "code",
   "execution_count": 109,
   "id": "38726c19-a934-4d74-af67-a74e0d055455",
   "metadata": {},
   "outputs": [
    {
     "data": {
      "image/png": "[encoded data removed]",
      "text/plain": [
       "<Figure size 1200x300 with 2 Axes>"
      ]
     },
     "metadata": {},
     "output_type": "display_data"
    }
   ],
   "source": [
    "plt.figure(figsize=(12,3))\n",
    "i = 1\n",
    "for b, biome in enumerate(biome_names[7:9],start=7):\n",
    "    plt.subplot(1,5,i)\n",
    "\n",
    "    obs_mean = obs.LAI_mean.sel(biome=b).values\n",
    "    obs_var = obs.LAI_stdev.sel(biome=b).values**2\n",
    "    \n",
    "    loaded_emulator = tf.saved_model.load(emulator_dir + biome)\n",
    "    y_pred, y_pred_var = loaded_emulator.predict(b_samples[i-1].values)\n",
    "    \n",
    "    plt.hist(y_pred.numpy().flatten(),alpha = 0.4)\n",
    "    plt.axvline(obs_mean,c='k')\n",
    "    plt.axvspan(obs_mean-2*obs_var**0.5,obs_mean+2*obs_var**0.5,color='grey',alpha=0.6)\n",
    "    plt.title(biome)\n",
    "    i = i+1\n",
    "\n",
    "plt.tight_layout()\n",
    "plt.savefig('sample_example_postprune_Ctree.png')"
   ]
  },
  {
   "cell_type": "code",
   "execution_count": null,
   "id": "f1e3e97b-2bee-4b10-9a08-cf13c14a8b09",
   "metadata": {},
   "outputs": [],
   "source": []
  }
 ],
 "metadata": {
  "kernelspec": {
   "display_name": "Python [conda env:mlenv]",
   "language": "python",
   "name": "conda-env-mlenv-py"
  },
  "language_info": {
   "codemirror_mode": {
    "name": "ipython",
    "version": 3
   },
   "file_extension": ".py",
   "mimetype": "text/x-python",
   "name": "python",
   "nbconvert_exporter": "python",
   "pygments_lexer": "ipython3",
   "version": "3.10.16"
  }
 },
 "nbformat": 4,
 "nbformat_minor": 5
}
