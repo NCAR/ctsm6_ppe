{
 "cells": [
  {
   "cell_type": "code",
   "execution_count": 1,
   "id": "9dafaecd-0aff-4155-b3d3-c51595991d2a",
   "metadata": {},
   "outputs": [],
   "source": [
    "import numpy as np\n",
    "import pandas as pd\n",
    "import xarray as xr\n",
    "import os\n"
   ]
  },
  {
   "cell_type": "code",
   "execution_count": 2,
   "id": "e7ee4e61-0c98-4fc1-b0d5-730cb475e557",
   "metadata": {},
   "outputs": [
    {
     "name": "stderr",
     "output_type": "stream",
     "text": [
      "2025-03-17 18:01:42.065100: I tensorflow/core/util/port.cc:153] oneDNN custom operations are on. You may see slightly different numerical results due to floating-point round-off errors from different computation orders. To turn them off, set the environment variable `TF_ENABLE_ONEDNN_OPTS=0`.\n",
      "2025-03-17 18:01:43.102492: E external/local_xla/xla/stream_executor/cuda/cuda_fft.cc:477] Unable to register cuFFT factory: Attempting to register factory for plugin cuFFT when one has already been registered\n",
      "WARNING: All log messages before absl::InitializeLog() is called are written to STDERR\n",
      "E0000 00:00:1742256103.401137   69077 cuda_dnn.cc:8310] Unable to register cuDNN factory: Attempting to register factory for plugin cuDNN when one has already been registered\n",
      "E0000 00:00:1742256103.504748   69077 cuda_blas.cc:1418] Unable to register cuBLAS factory: Attempting to register factory for plugin cuBLAS when one has already been registered\n",
      "2025-03-17 18:01:44.259039: I tensorflow/core/platform/cpu_feature_guard.cc:210] This TensorFlow binary is optimized to use available CPU instructions in performance-critical operations.\n",
      "To enable the following instructions: AVX2 AVX512F AVX512_VNNI FMA, in other operations, rebuild TensorFlow with the appropriate compiler flags.\n"
     ]
    }
   ],
   "source": [
    "import sys\n",
    "sys.path.append('/glade/u/home/linnia/ctsm6_ppe/')\n",
    "from utils.pyfunctions import *\n",
    "utils_path = '/glade/u/home/linnia/ctsm6_ppe/utils/'"
   ]
  },
  {
   "cell_type": "code",
   "execution_count": 4,
   "id": "429aeb76-e37a-48fe-942f-dc4befecea5c",
   "metadata": {},
   "outputs": [],
   "source": [
    "import pickle\n",
    "with open(\"../biome_pft_dict.pkl\", \"rb\") as f:\n",
    "    biome_pfts = pickle.load(f)"
   ]
  },
  {
   "cell_type": "markdown",
   "id": "ffd68f97-e680-4b26-ba31-1f76b523a54f",
   "metadata": {},
   "source": [
    "### create sample"
   ]
  },
  {
   "cell_type": "code",
   "execution_count": 5,
   "id": "023babbe-9994-49f0-a4a7-f0bc66bd01ec",
   "metadata": {},
   "outputs": [],
   "source": [
    "# setup\n",
    "key = '/glade/work/linnia/CLM6-PPE/ctsm6_lhc/ctsm6lhc_11262024.txt'\n",
    "params_lhc = pd.read_csv(key).drop(columns='member')"
   ]
  },
  {
   "cell_type": "code",
   "execution_count": 6,
   "id": "c585d40c-8ace-413a-b5a0-117449ed9357",
   "metadata": {},
   "outputs": [],
   "source": [
    "pft_params   = ['kmax','psi50','jmaxb0','slatop','lmr_intercept_atkin',\n",
    "                'medlynslope','medlynintercept','froot_leaf','leafcn','leaf_long',\n",
    "                'KCN','dleaf','r_mort','fsr_pft','xl']\n",
    "pftix=np.array([p in pft_params for p in params_lhc.columns])\n",
    "u_params = params_lhc.columns[~pftix]"
   ]
  },
  {
   "cell_type": "code",
   "execution_count": 7,
   "id": "dac9a809-1558-45f3-8b12-95f34e8bcbf7",
   "metadata": {},
   "outputs": [],
   "source": [
    "n_usamp = 10000\n",
    "n_psamp = 100000\n",
    "usample = pd.DataFrame(np.random.rand(n_usamp,len(u_params)),columns=u_params)\n",
    "psample = pd.DataFrame(np.random.rand(n_psamp,len(pft_params)),columns=pft_params)"
   ]
  },
  {
   "cell_type": "code",
   "execution_count": 9,
   "id": "38971ea7-b289-43a0-a5c4-e422adc574d0",
   "metadata": {},
   "outputs": [],
   "source": [
    "usample.to_csv(\"universal_samples.csv\", index=False)\n",
    "psample.to_csv(\"pft_samples.csv\", index=False)"
   ]
  }
 ],
 "metadata": {
  "kernelspec": {
   "display_name": "Python [conda env:mlenv]",
   "language": "python",
   "name": "conda-env-mlenv-py"
  },
  "language_info": {
   "codemirror_mode": {
    "name": "ipython",
    "version": 3
   },
   "file_extension": ".py",
   "mimetype": "text/x-python",
   "name": "python",
   "nbconvert_exporter": "python",
   "pygments_lexer": "ipython3",
   "version": "3.10.16"
  }
 },
 "nbformat": 4,
 "nbformat_minor": 5
}
