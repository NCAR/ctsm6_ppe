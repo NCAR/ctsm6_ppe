{
 "cells": [
  {
   "cell_type": "code",
   "execution_count": 1,
   "id": "e56f7863-1e2f-4bca-90bf-5c78f2512411",
   "metadata": {},
   "outputs": [],
   "source": [
    "import xarray as xr\n",
    "import glob\n",
    "import numpy as np\n",
    "import matplotlib.pyplot as plt\n",
    "from utils import *"
   ]
  },
  {
   "cell_type": "code",
   "execution_count": 183,
   "id": "169d7dfa-e593-4d66-b85a-2dd320c51831",
   "metadata": {},
   "outputs": [],
   "source": [
    "import joblib\n",
    "from joblib import Parallel,delayed"
   ]
  },
  {
   "cell_type": "code",
   "execution_count": null,
   "id": "29fea953-2005-4d8b-943c-bfca5cfa3cbb",
   "metadata": {},
   "outputs": [],
   "source": [
    "import warnings\n",
    "warnings.filterwarnings(\"ignore\")"
   ]
  },
  {
   "cell_type": "code",
   "execution_count": 186,
   "id": "85b8e3d2-b39e-464f-811d-619faeebc4a7",
   "metadata": {},
   "outputs": [],
   "source": [
    "# Setup your PBSCluster\n",
    "import dask\n",
    "from dask_jobqueue import PBSCluster\n",
    "from dask.distributed import Client\n",
    "ncores=1\n",
    "nmem='10GB'\n",
    "cluster = PBSCluster(\n",
    "    cores=ncores, # The number of cores you want\n",
    "    memory=nmem, # Amount of memory\n",
    "    processes=1, # How many processes\n",
    "    queue='casper', # The type of queue to utilize (/glade/u/apps/dav/opt/usr/bin/execcasper)\n",
    "    local_directory='$TMPDIR', # Use your local directory\n",
    "    resource_spec='select=1:ncpus='+str(ncores)+':mem='+nmem, # Specify resources\n",
    "    account='P93300041', # Input your project ID here\n",
    "    walltime='02:00:00', # Amount of wall time\n",
    ")"
   ]
  },
  {
   "cell_type": "code",
   "execution_count": 187,
   "id": "d78454d2-206a-485d-8d59-bfaedfe54b97",
   "metadata": {},
   "outputs": [],
   "source": [
    "cluster.scale(30)\n",
    "client = Client(cluster)"
   ]
  },
  {
   "cell_type": "markdown",
   "id": "ffa6ba73-5317-41bb-82eb-1f6f9e08808e",
   "metadata": {},
   "source": [
    "### some files and funcs"
   ]
  },
  {
   "cell_type": "code",
   "execution_count": 45,
   "id": "3467317b-d29f-4f09-871c-e41de49f388b",
   "metadata": {},
   "outputs": [],
   "source": [
    "d='/glade/derecho/scratch/slevis/archive/ctsm53017_f19_BNF_hist/lnd/hist/'\n",
    "files=sorted(glob.glob(d+'*h1*'))"
   ]
  },
  {
   "cell_type": "code",
   "execution_count": 3,
   "id": "9dd57210-f463-4583-86c6-5cf77491a0c9",
   "metadata": {},
   "outputs": [],
   "source": [
    "ds=xr.open_dataset(files[0])"
   ]
  },
  {
   "cell_type": "code",
   "execution_count": 5,
   "id": "9bec8a23-7fcc-4fdf-b2bb-26f6ac81c3f3",
   "metadata": {},
   "outputs": [],
   "source": [
    "tmp=xr.open_dataset('/glade/work/djk2120/ppe_savs/pbmean/metrics_h1.nc')"
   ]
  },
  {
   "cell_type": "code",
   "execution_count": 7,
   "id": "10c4c595-59f2-4660-b0a3-c8fcc6d417c5",
   "metadata": {},
   "outputs": [],
   "source": [
    "from statsmodels.stats.weightstats import DescrStatsW\n",
    "def getq(x,a,q):\n",
    "    wq = DescrStatsW(data=x.values.ravel(), weights=a.values.ravel())\n",
    "    qq=wq.quantile(probs=q, return_pandas=False)\n",
    "    return qq[0]"
   ]
  },
  {
   "cell_type": "markdown",
   "id": "752fafa6-a361-4ac2-9047-adafb3f9e72d",
   "metadata": {},
   "source": [
    "### h0 data"
   ]
  },
  {
   "cell_type": "code",
   "execution_count": 8,
   "id": "4663eb94-7e08-45dd-9528-785413cf06a8",
   "metadata": {},
   "outputs": [],
   "source": [
    "#h0 landarea array\n",
    "tmp0=xr.open_dataset(files[0])\n",
    "a=(tmp0.landfrac*tmp0.area*(tmp0.lat>-60)).fillna(0)  #mask antarctica\n",
    "#h0 features\n",
    "h0=xr.open_dataset('fullgrid/ctsm53017_f19_BNF_gc_metrics.nc')\n",
    "dvs=[v for v in h0.data_vars]\n",
    "dvs.remove('yr1')\n",
    "dvs.remove('yr2')"
   ]
  },
  {
   "cell_type": "code",
   "execution_count": 36,
   "id": "b58e6fd2-1585-4079-917e-c8d71665b649",
   "metadata": {},
   "outputs": [],
   "source": [
    "#normalize based on area-weighted 5th/95th percentiles\n",
    "x=h0['FCEV_mean'].isel(epoch=0)\n",
    "m=xr.DataArray([h0[v].isel(epoch=i) for i in range(4) for v in dvs],dims=['metric',*x.dims])\n",
    "q1=xr.DataArray([getq(m,a,0.05) for m in m],dims='metric')\n",
    "q2=xr.DataArray([getq(m,a,0.95) for m in m],dims='metric')\n",
    "normal=(m-q1)/(q2-q1)"
   ]
  },
  {
   "cell_type": "code",
   "execution_count": 48,
   "id": "956906ae-185c-4920-9724-18abaabd8a1e",
   "metadata": {},
   "outputs": [],
   "source": [
    "#tile to pft\n",
    "tmp=xr.open_dataset(files[0])\n",
    "nlon=len(normal.lon)\n",
    "nlat=len(normal.lat)\n",
    "ix=((tmp.pfts1d_jxy-1)*nlon+tmp.pfts1d_ixy-1).astype(int)\n",
    "h0norm=normal.stack({'gc':['lat','lon']}).isel(gc=ix)"
   ]
  },
  {
   "cell_type": "markdown",
   "id": "4e268925-3c89-4a94-8f6d-554d8d976398",
   "metadata": {},
   "source": [
    "### transient pft area"
   ]
  },
  {
   "cell_type": "code",
   "execution_count": 104,
   "id": "c7480db8-965f-43d8-a061-52b859c32efa",
   "metadata": {},
   "outputs": [],
   "source": [
    "def pp(ds):\n",
    "    return ds['pfts1d_wtgcell']\n",
    "wtg=xr.open_mfdataset(files[::12],combine='nested',concat_dim='year',preprocess=pp)\n",
    "wtg['year']=range(1920,2024)\n",
    "apft=(a.stack({'gc':['lat','lon']}).isel(gc=ix)*wtg).compute()"
   ]
  },
  {
   "cell_type": "code",
   "execution_count": 105,
   "id": "777cbe59-92d1-4096-ab1e-8b61cc7190e3",
   "metadata": {},
   "outputs": [],
   "source": [
    "x=apft.groupby(tmp.pfts1d_itype_veg).sum().compute()"
   ]
  },
  {
   "cell_type": "code",
   "execution_count": 113,
   "id": "65b49e6f-9943-4385-ba9e-4b80d2888e97",
   "metadata": {},
   "outputs": [
    {
     "data": {
      "image/png": "[encoded data removed]",
      "text/plain": [
       "<Figure size 400x300 with 1 Axes>"
      ]
     },
     "metadata": {},
     "output_type": "display_data"
    }
   ],
   "source": [
    "plt.figure(figsize=[4,3])\n",
    "x.isel(pfts1d_itype_veg=4).plot()\n",
    "x.isel(pfts1d_itype_veg=15).plot()\n",
    "\n",
    "plt.legend(['BDTT','C3C'])\n",
    "plt.ylim([0,2e7])\n",
    "plt.ylabel('total area (km2)')\n",
    "plt.title('sanity check');"
   ]
  },
  {
   "cell_type": "markdown",
   "id": "b4b9493d-7128-4a2d-90bb-35a533bb1e34",
   "metadata": {},
   "source": [
    "### h1 data"
   ]
  },
  {
   "cell_type": "code",
   "execution_count": 69,
   "id": "9bfcdef7-6803-49fc-9112-d27fbdfb5212",
   "metadata": {},
   "outputs": [],
   "source": [
    "h1=xr.open_dataset('fullgrid/ctsm53017_f19_BNF_pft_metrics.nc')\n",
    "dvs=[v for v in h1.data_vars]\n",
    "dvs.remove('yr1')\n",
    "dvs.remove('yr2')"
   ]
  },
  {
   "cell_type": "code",
   "execution_count": 115,
   "id": "9868a12a-dd6d-477c-b571-3ac279253169",
   "metadata": {},
   "outputs": [],
   "source": [
    "aa=apft.mean(dim='year').compute()\n",
    "m=xr.DataArray([h1[v].isel(epoch=i) for i in range(4) for v in dvs],dims=['metric','pft'])\n",
    "q1=xr.DataArray([getq(m,aa,0.05) for m in m],dims='metric')\n",
    "q2=xr.DataArray([getq(m,aa,0.95) for m in m],dims='metric')\n",
    "h1norm=(m-q1)/(q2-q1)"
   ]
  },
  {
   "cell_type": "code",
   "execution_count": 247,
   "id": "b08f8d79-62cf-4082-ac13-c1dbb92eb519",
   "metadata": {},
   "outputs": [],
   "source": [
    "pft=fg.pfts1d_itype_veg*1000 #asserts that pft must match\n",
    "nmetrics=xr.concat([h0norm,h1norm,pft],dim='metric').fillna(0)"
   ]
  },
  {
   "cell_type": "code",
   "execution_count": 248,
   "id": "9018c211-98e8-4403-9ca0-03b05a9e1edf",
   "metadata": {},
   "outputs": [
    {
     "name": "stdout",
     "output_type": "stream",
     "text": [
      "1.0\n"
     ]
    },
    {
     "data": {
      "image/png": "[encoded data removed]",
      "text/plain": [
       "<Figure size 400x300 with 1 Axes>"
      ]
     },
     "metadata": {},
     "output_type": "display_data"
    }
   ],
   "source": [
    "plt.figure(figsize=[4,3])\n",
    "c,bins,f=plt.hist(nmetrics.values.ravel(),-1+np.arange(4),density=True);\n",
    "print(c.sum()) #should be very close to 1 if normalized properly"
   ]
  },
  {
   "cell_type": "markdown",
   "id": "8edb4e7b-2ce4-4ec3-97f3-eecffed4e0b4",
   "metadata": {},
   "source": [
    "### classify the fullgrid patches\n",
    " - pft match asserted"
   ]
  },
  {
   "cell_type": "code",
   "execution_count": 249,
   "id": "741a7ad3-6214-4043-9752-8879e7c3886c",
   "metadata": {},
   "outputs": [],
   "source": [
    "fg=xr.open_dataset(files[0])"
   ]
  },
  {
   "cell_type": "code",
   "execution_count": 250,
   "id": "5afadb0f-07b9-4632-ae13-f53f2e61e227",
   "metadata": {},
   "outputs": [],
   "source": [
    "d='/glade/derecho/scratch/linnia/BNF_v2.n01_ctsm5.3.012_transient_lhc0000/run/'\n",
    "sgfiles=sorted(glob.glob(d+'*h1*'))\n",
    "sg=xr.open_dataset(sgfiles[0])"
   ]
  },
  {
   "cell_type": "code",
   "execution_count": 251,
   "id": "37f66142-ed75-49a6-ab4a-ca442d4d52ac",
   "metadata": {},
   "outputs": [],
   "source": [
    "#subset sparsegrid data from fullgrid\n",
    "dims=['pfts1d_ixy','pfts1d_jxy','pfts1d_itype_veg']\n",
    "xs=[(fg[v]==xr.DataArray(sg[v],dims='pftsg')) for v in dims]\n",
    "fgmap=((xs[0]*xs[1]*xs[2])*fg.pft).max(dim='pft')\n",
    "centroids=nmetrics.isel(pft=fgmap)"
   ]
  },
  {
   "cell_type": "code",
   "execution_count": 252,
   "id": "3b3c2587-5f4b-4b62-8ba5-060172201570",
   "metadata": {},
   "outputs": [],
   "source": [
    "def findc(x,centroids):\n",
    "    c=((x-centroids)**2).sum(dim='metric').argmin(dim='pftsg')\n",
    "    return c"
   ]
  },
  {
   "cell_type": "code",
   "execution_count": 253,
   "id": "c15f3df0-dd65-49dc-92e6-08a3d9a63df3",
   "metadata": {},
   "outputs": [
    {
     "name": "stderr",
     "output_type": "stream",
     "text": [
      "[Parallel(n_jobs=-1)]: Using backend DaskDistributedBackend with 30 concurrent workers.\n",
      "[Parallel(n_jobs=-1)]: Done 140 tasks      | elapsed:   17.0s\n",
      "[Parallel(n_jobs=-1)]: Done 390 tasks      | elapsed:   35.8s\n",
      "[Parallel(n_jobs=-1)]: Done 740 tasks      | elapsed:   59.2s\n",
      "[Parallel(n_jobs=-1)]: Done 1176 out of 1176 | elapsed:  1.5min finished\n"
     ]
    }
   ],
   "source": [
    "#split into manageable chunks\n",
    "npft=len(nmetrics.pft)\n",
    "xs=[nmetrics.isel(pft=range(i*100,min(npft,(i+1)*100))).compute() for i in range(1+int(npft/100))]\n",
    "#classify in parallel\n",
    "with joblib.parallel_config(backend=\"dask\"):\n",
    "    results=Parallel(verbose=1)(delayed(findc)(x,centroids) for x in xs)"
   ]
  },
  {
   "cell_type": "code",
   "execution_count": 257,
   "id": "49b641fc-d770-4704-8a47-0f6d27cc840d",
   "metadata": {},
   "outputs": [],
   "source": [
    "c=xr.concat(results,dim='pft').compute()\n",
    "ds=xr.Dataset()\n",
    "ds['sgpft_cribsheet']=c\n",
    "ds['not_antarctica']=tmp.pfts1d_lat>-60\n",
    "ds['vegetated']=tmp.pfts1d_itype_veg>0\n",
    "ds['lat']=tmp.pfts1d_lat\n",
    "ds['lon']=tmp.pfts1d_lon\n",
    "ds['pfts1d_itype_veg']=tmp.pfts1d_itype_veg\n",
    "ds.attrs={'note:':'pft match is asserted'}\n",
    "ds.to_netcdf('pftmean/ctsm53017_f19_BNF_sgpft_cribsheet.nc')"
   ]
  },
  {
   "cell_type": "code",
   "execution_count": 262,
   "id": "84a95565-59a7-460f-a9af-6e52203f1e87",
   "metadata": {},
   "outputs": [],
   "source": [
    "apft_sg=apft.groupby(c).sum()"
   ]
  },
  {
   "cell_type": "code",
   "execution_count": 270,
   "id": "2d121724-66b8-4bb3-ac6d-ca10a471929c",
   "metadata": {},
   "outputs": [],
   "source": [
    "lapft=xr.DataArray(np.zeros([len(sg.pft),len(apft.year)]),dims=['pft','year'])\n",
    "lapft['pft']=sg.pft\n",
    "lapft['year']=apft.year\n",
    "lapft[apft_sg.group,:]=apft_sg\n",
    "lapft[sg.pfts1d_itype_veg==0,:]=0"
   ]
  },
  {
   "cell_type": "code",
   "execution_count": 297,
   "id": "d1c95f13-4bff-49ce-a96f-441bac616e8b",
   "metadata": {},
   "outputs": [],
   "source": [
    "tmp=np.repeat(lapft,12,axis=1)\n",
    "t=xr.cftime_range('1920',periods=1248,freq='MS',calendar='noleap')\n",
    "t.name='time'\n",
    "lapft_mon=xr.DataArray(tmp.values,coords=[lapft.pft,t])"
   ]
  },
  {
   "cell_type": "code",
   "execution_count": 298,
   "id": "96aa9869-659d-4245-b9d3-a5728aa89da8",
   "metadata": {},
   "outputs": [],
   "source": [
    "dsout=xr.Dataset()\n",
    "dsout['lapfty']=lapft\n",
    "dsout['lapftm']=lapft_mon"
   ]
  },
  {
   "cell_type": "code",
   "execution_count": 311,
   "id": "27557e7a-31cc-464f-a3d1-bbcb38dd695b",
   "metadata": {},
   "outputs": [],
   "source": [
    "s='/glade/u/home/djk2120/ctsm6_ppe/sparsegrid/pftmean_clusters.ipynb'\n",
    "fgd='/glade/derecho/scratch/slevis/archive/ctsm53017_f19_BNF_hist/lnd/hist/'\n",
    "sgd='/glade/derecho/scratch/linnia/BNF_v2.n01_ctsm5.3.012_transient_lhc0000/run/'\n",
    "dsout.attrs={'fg_dir':fgd,\n",
    "             'sg_dir':sgd,\n",
    "             'script':s,\n",
    "             'note1:':'pft match is required for similarity',\n",
    "             'note2:':'bare ground patches excluded',\n",
    "             'note3:':'antarctica excluded'}"
   ]
  },
  {
   "cell_type": "code",
   "execution_count": 312,
   "id": "8e256854-4fa2-4abc-8a6c-a2338c1b20a1",
   "metadata": {},
   "outputs": [],
   "source": [
    "dsout.to_netcdf('pftmean/lapft_ctsm5.3.012.nc')"
   ]
  },
  {
   "cell_type": "code",
   "execution_count": null,
   "id": "7a7570e4-ef61-479c-978e-05969a613ef6",
   "metadata": {},
   "outputs": [],
   "source": []
  },
  {
   "cell_type": "code",
   "execution_count": null,
   "id": "c84a4107-0ab8-4dd7-9e47-ab62c99ef79e",
   "metadata": {},
   "outputs": [],
   "source": []
  },
  {
   "cell_type": "code",
   "execution_count": null,
   "id": "1626c3ff-c04d-4b59-86c8-29962376005f",
   "metadata": {},
   "outputs": [],
   "source": []
  },
  {
   "cell_type": "code",
   "execution_count": null,
   "id": "78d394ec-d004-41a2-9818-94aa07c94d06",
   "metadata": {},
   "outputs": [],
   "source": []
  }
 ],
 "metadata": {
  "kernelspec": {
   "display_name": "Python [conda env:miniconda3-ppe-py]",
   "language": "python",
   "name": "conda-env-miniconda3-ppe-py-py"
  },
  "language_info": {
   "codemirror_mode": {
    "name": "ipython",
    "version": 3
   },
   "file_extension": ".py",
   "mimetype": "text/x-python",
   "name": "python",
   "nbconvert_exporter": "python",
   "pygments_lexer": "ipython3",
   "version": "3.11.6"
  }
 },
 "nbformat": 4,
 "nbformat_minor": 5
}
