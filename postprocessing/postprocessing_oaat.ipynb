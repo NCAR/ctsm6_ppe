{
 "cells": [
  {
   "cell_type": "code",
   "execution_count": 1,
   "id": "eed29801-d7a0-42a0-8ab8-2ef93faa9daa",
   "metadata": {},
   "outputs": [],
   "source": [
    "import xarray as xr\n",
    "import glob\n",
    "import numpy as np\n",
    "import pandas as pd"
   ]
  },
  {
   "cell_type": "code",
   "execution_count": 2,
   "id": "76c582c5-ecc9-4155-bea4-1e2a5f504355",
   "metadata": {},
   "outputs": [],
   "source": [
    "import sys\n",
    "sys.path.append('/glade/u/home/linnia/ctsm6_ppe/')\n",
    "from utils.pyfunctions import *\n",
    "\n",
    "utils_path = '/glade/u/home/linnia/ctsm6_ppe/utils/'"
   ]
  },
  {
   "cell_type": "code",
   "execution_count": 3,
   "id": "eb420471-c4fc-4fe9-8ed7-f625251786e0",
   "metadata": {},
   "outputs": [
    {
     "name": "stderr",
     "output_type": "stream",
     "text": [
      "/glade/u/home/linnia/miniconda3/envs/ppe-py/lib/python3.7/site-packages/dask_jobqueue/core.py:20: FutureWarning: tmpfile is deprecated and will be removed in a future release. Please use dask.utils.tmpfile instead.\n",
      "  from distributed.utils import tmpfile\n"
     ]
    }
   ],
   "source": [
    "import dask\n",
    "from dask_jobqueue import PBSCluster\n",
    "from dask.distributed import Client\n",
    "ncores=1\n",
    "nmem='10GB'\n",
    "cluster = PBSCluster(\n",
    "    cores=ncores, # The number of cores you want\n",
    "    memory=nmem, # Amount of memory\n",
    "    processes=1, # How many processes\n",
    "    queue='casper', # The type of queue to utilize (/glade/u/apps/dav/opt/usr/bin/execcasper)\n",
    "    local_directory='$TMPDIR', # Use your local directory\n",
    "    resource_spec='select=1:ncpus='+str(ncores)+':mem='+nmem, # Specify resources\n",
    "    project='P93300641', # Input your project ID here\n",
    "    walltime='01:00:00', # Amount of wall time\n",
    "    #interface='ib0', # Interface to use\n",
    ")\n",
    "\n",
    "# Scale up\n",
    "cluster.scale(10)\n",
    "\n",
    "# Setup your client\n",
    "client = Client(cluster)"
   ]
  },
  {
   "cell_type": "code",
   "execution_count": 4,
   "id": "da9fb356-df3d-44a3-b7b8-dcce5d738ead",
   "metadata": {},
   "outputs": [],
   "source": [
    "yy = (1985,2023)\n",
    "dir='/glade/campaign/cgd/tss/projects/PPE/ctsm6_oaat/hist/'\n",
    "key = '/glade/campaign/cgd/tss/projects/PPE/ctsm6_oaat/ctsm6_oaat_key.csv'\n",
    "exp='oaat'\n",
    "tape='h0'\n",
    "\n",
    "dvs=['GPP','AR','HR','NPP','NBP','NEP','ER',\n",
    "     'EFLX_LH_TOT','FCTR','FCEV','FGEV','BTRANMN','FGR','FSH',\n",
    "     'SOILWATER_10CM','TWS','QRUNOFF','SNOWDP','H2OSNO','FSNO',\n",
    "     'TLAI','FSR','ALTMAX','TV','TG','NPP_NUPTAKE'\n",
    "     'FAREA_BURNED','COL_FIRE_CLOSS',\n",
    "     'TOTVEGC','TOTECOSYSC','TOTSOMC_1m',\n",
    "     'TOTVEGN','TOTECOSYSN']"
   ]
  },
  {
   "cell_type": "code",
   "execution_count": 5,
   "id": "709d69ea-e5c1-44f9-b32c-d07e4abbb4a5",
   "metadata": {},
   "outputs": [],
   "source": [
    "ds= get_exp(exp,dir,key,dvs,'h0',yy,utils_path)"
   ]
  },
  {
   "cell_type": "code",
   "execution_count": 6,
   "id": "af2d3aac-9f72-4b76-af30-827bf9e4188a",
   "metadata": {},
   "outputs": [],
   "source": [
    "# calculate global and biome mean, std, amp\n",
    "la=xr.open_dataset(utils_path+'landarea_retrain_h0.nc').landarea\n",
    "b=xr.open_dataset(utils_path+'whit/whitkey_CRUJRA.nc').biome\n",
    "out=xr.Dataset()\n",
    "    \n",
    "for v in dvs:\n",
    "\n",
    "        x=amean(ds[v])\n",
    "        amp=(ds[v].groupby('time.year').max()-ds[v].groupby('time.year').min()).mean(dim='year').compute()\n",
    "\n",
    "        out[v+'_gridded_mean']=x.mean(dim='year')\n",
    "\n",
    "        out[v+'_global_amp'] =gmean(amp,la)\n",
    "        out[v+'_global_std'] =gmean(x.std(dim='year'),la)\n",
    "        out[v+'_global_mean']=gmean(x.mean(dim='year'),la)\n",
    "\n",
    "        out[v+'_biome_amp']  =bmean(amp,la,b)\n",
    "        out[v+'_biome_std']  =bmean(x.std(dim='year'),la,b)\n",
    "        out[v+'_biome_mean'] =bmean(x.mean(dim='year'),la,b)\n",
    "\n",
    "        for dv in out.data_vars:\n",
    "            if v in dv:\n",
    "                out[dv].attrs=ds[v].attrs"
   ]
  },
  {
   "cell_type": "code",
   "execution_count": 7,
   "id": "15379b26-ae2d-4dff-b392-05374f85c87e",
   "metadata": {},
   "outputs": [],
   "source": [
    "df_key = pd.read_csv(key)\n",
    "\n",
    "out = out.assign_coords(\n",
    "    key=('ens', df_key['key'].values),\n",
    "    param=('ens', df_key['param'].values),\n",
    "    minmax=('ens', df_key['minmax'].values)\n",
    ")\n",
    "\n",
    "out = out.set_index(ens=[\"param\", \"minmax\", \"key\"], append=True)\n",
    "ds_out = out.reset_index(\"ens\")"
   ]
  },
  {
   "cell_type": "code",
   "execution_count": 12,
   "id": "31c4fee7-6a00-47e3-a84c-21daefcc7a3c",
   "metadata": {},
   "outputs": [],
   "source": [
    "ds_out.to_netcdf('/glade/campaign/cgd/tss/projects/PPE/ctsm6_oaat/postp/ctsm6_oaat_postp_1985-2023.nc')"
   ]
  },
  {
   "cell_type": "code",
   "execution_count": null,
   "id": "dac2f3c6-e912-4a17-9e71-f99f71578a78",
   "metadata": {},
   "outputs": [],
   "source": []
  }
 ],
 "metadata": {
  "kernelspec": {
   "display_name": "Python [conda env:miniconda3-ppe-py]",
   "language": "python",
   "name": "conda-env-miniconda3-ppe-py-py"
  },
  "language_info": {
   "codemirror_mode": {
    "name": "ipython",
    "version": 3
   },
   "file_extension": ".py",
   "mimetype": "text/x-python",
   "name": "python",
   "nbconvert_exporter": "python",
   "pygments_lexer": "ipython3",
   "version": "3.7.12"
  }
 },
 "nbformat": 4,
 "nbformat_minor": 5
}
