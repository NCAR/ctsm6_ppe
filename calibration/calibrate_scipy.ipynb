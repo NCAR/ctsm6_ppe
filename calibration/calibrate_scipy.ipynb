{
 "cells": [
  {
   "cell_type": "code",
   "execution_count": 26,
   "id": "f49cff5b-83d7-4ccb-ae00-4b353427a619",
   "metadata": {},
   "outputs": [],
   "source": [
    "import numpy as np\n",
    "import pandas as pd\n",
    "import pickle\n",
    "import gpflow\n",
    "from scipy.optimize import minimize\n",
    "from scipy.optimize import differential_evolution"
   ]
  },
  {
   "cell_type": "code",
   "execution_count": 27,
   "id": "de264cfd-dbbf-44f8-956d-d5e62eb558c1",
   "metadata": {},
   "outputs": [],
   "source": [
    "import sys\n",
    "sys.path.append('/glade/u/home/linnia/ctsm6_ppe/')\n",
    "from utils.pyfunctions import *\n",
    "utils_path = '/glade/u/home/linnia/ctsm6_ppe/utils/'"
   ]
  },
  {
   "cell_type": "code",
   "execution_count": 28,
   "id": "bb6bffd5-5c6f-44f6-8b9d-f25fb264917b",
   "metadata": {},
   "outputs": [],
   "source": [
    "def get_biome_param_names(b):\n",
    "    u_params = ['jmaxb1', 'wc2wjb0', 'grperc', 'theta_cj', 'tpu25ratio', 'lmrse',\n",
    "       'vcmaxha', 'jmaxha', 'tpuha', 'lmrha', 'ACCLIM_SF', 'fstor2tran',\n",
    "       'crit_onset_gdd_sf', 'FUN_fracfixers', 'fff', 'e_ice', 'bsw_sf',\n",
    "       'sucsat_sf', 'watsat_sf', 'hksat_sf', 'om_frac_sf', 'baseflow_scalar',\n",
    "       'maximum_leaf_wetted_fraction', 'interception_fraction', 'cv', 'd_max',\n",
    "       'z0v_Cr', 'n_melt_coef', 'accum_factor', 'xdrdt',\n",
    "       'upplim_destruct_metamorph', 'snw_rds_refrz', 'decomp_depth_efolding',\n",
    "       'TAU', 'q10_mr', 'minpsi_hr', 'maxpsi_hr', 'RF_LS', 'RF_SS', 'RF_CWD',\n",
    "       'pot_hmn_ign_counts_alpha']\n",
    "\n",
    "    pft_params   = ['kmax','psi50','jmaxb0','slatop','lmr_intercept_atkin',\n",
    "                'medlynslope','medlynintercept','froot_leaf','leafcn','leaf_long',\n",
    "               'KCN','dleaf','r_mort','fsr_pft','xl']\n",
    "    \n",
    "    with open(utils_dir+\"/biome_configs.pkl\", \"rb\") as f:\n",
    "        biome_configs = pickle.load(f)\n",
    "\n",
    "    param_names = list(u_params)\n",
    "    for pft in biome_configs[b]['pfts']:\n",
    "        pft_param_names = [f\"{param}_{pft}\" for param in pft_params]\n",
    "        param_names.extend(pft_param_names)\n",
    "\n",
    "    return param_names"
   ]
  },
  {
   "cell_type": "code",
   "execution_count": 29,
   "id": "5a1c3054-6bf8-4522-b653-b30eaaa92967",
   "metadata": {},
   "outputs": [],
   "source": [
    "# get parameter info\n",
    "key = '/glade/work/linnia/CLM6-PPE/ctsm6_lhc/ctsm6lhc_11262024.txt'\n",
    "params_lhc = pd.read_csv(key).drop(columns='member')\n",
    "\n",
    "pft_params   = ['kmax','psi50','jmaxb0','slatop','lmr_intercept_atkin',\n",
    "                'medlynslope','medlynintercept','froot_leaf','leafcn','leaf_long',\n",
    "               'KCN','dleaf','r_mort','fsr_pft','xl']\n",
    "pftix=np.array([p in pft_params for p in params_lhc.columns])\n",
    "u_params = params_lhc.columns[~pftix]"
   ]
  },
  {
   "cell_type": "code",
   "execution_count": 30,
   "id": "526c79c6-d44f-4a0f-8bb2-c03862c61066",
   "metadata": {},
   "outputs": [],
   "source": [
    "# get biome information\n",
    "with open(utils_dir+\"/biome_configs.pkl\", \"rb\") as f:\n",
    "    biome_configs = pickle.load(f)\n",
    "\n",
    "# get observations\n",
    "obs_biome = xr.open_dataset(utils_path + 'wave2_obsStatistics_sudokuBiomes.nc')\n",
    "\n",
    "# get default parameter set\n",
    "default_params = pd.read_csv('default_params_norm.csv', index_col=False)\n",
    "\n",
    "# reset some settings of default parameters\n",
    "default_params.loc[0, ['jmaxb1']] = [0.4]\n",
    "default_params.loc[0, ['theta_cj']] = [0.7]\n",
    "default_params.loc[0, ['upplim_destruct_metamorph']] = [1]"
   ]
  },
  {
   "cell_type": "code",
   "execution_count": 31,
   "id": "4e24a316-fd45-42bb-b1ae-129c332cd6cb",
   "metadata": {},
   "outputs": [],
   "source": [
    "# get observations & set stdev so high the optimization ignores some biome/variable combinations\n",
    "obs = xr.open_dataset(utils_path + 'wave2_obsStatistics_sudokuBiomes.nc')\n",
    "obs_biome = obs.copy()\n",
    "obs_biome['biomassC_stdev'].loc[{'biome': 12}] = 100"
   ]
  },
  {
   "cell_type": "markdown",
   "id": "ecb5fee9-31a3-4712-80fc-299ac3208c16",
   "metadata": {},
   "source": [
    "### Scipy minimize optimization functions"
   ]
  },
  {
   "cell_type": "code",
   "execution_count": 32,
   "id": "6c7a5e65-850a-4c00-be8c-d6a84c041670",
   "metadata": {},
   "outputs": [],
   "source": [
    "def misfit(x, universal_set, biome_info, epsilon=None):\n",
    "\n",
    "    total_error = 0\n",
    "\n",
    "    for biome in biome_info:\n",
    "        full_sample = np.concatenate([universal_set, x])\n",
    "        ix = biome['param_indices']\n",
    "        biome_sample = full_sample[ix]\n",
    "\n",
    "        for emulator, target, stdev in zip(biome['emulators'], biome['targets'], biome['stdevs']):\n",
    "            y_pred, _ = emulator.predict(biome_sample.reshape(1,-1))\n",
    "\n",
    "            z = np.abs((y_pred.numpy().ravel() - target) / stdev)\n",
    "\n",
    "            if epsilon is not None:\n",
    "                # Mask out errors within threshold\n",
    "                mask = z > epsilon\n",
    "                # Sum squared errors only for samples exceeding threshold\n",
    "                total_error += np.sum(z[mask]**2)\n",
    "            else:\n",
    "                total_error += np.sum(z**2)\n",
    "\n",
    "    return total_error"
   ]
  },
  {
   "cell_type": "code",
   "execution_count": 37,
   "id": "2b2aa23a-deb3-48dc-aceb-4a22891a8779",
   "metadata": {},
   "outputs": [],
   "source": [
    "# Wrapper to run optimization for multiple biomes\n",
    "def run_optimization(x0, biome_info, method='L-BFGS-B', tol=1e-3, maxiter=5000, epsilon=None):\n",
    "    \n",
    "    bounds = [(0, 1)] * len(x0)\n",
    "\n",
    "    result = minimize(\n",
    "        misfit,\n",
    "        x0,\n",
    "        args=(universal_set, biome_info, epsilon),\n",
    "        bounds=bounds,\n",
    "        method=method,\n",
    "        options={'ftol': tol, 'maxiter': maxiter, 'disp':True}\n",
    "    )\n",
    "    return result"
   ]
  },
  {
   "cell_type": "code",
   "execution_count": 93,
   "id": "6a669046-580a-469f-853b-47cc1dcf1987",
   "metadata": {},
   "outputs": [],
   "source": [
    "# Wrapper to run optimization for multiple biomes\n",
    "def run_optimization_batch(x0, biome_info, method='L-BFGS-B', tol=1e-3, maxiter=5000, epsilon=None):\n",
    "    \n",
    "    bounds = [(0, 1)] * len(x0)\n",
    "\n",
    "    result = differential_evolution(\n",
    "        func=misfit,\n",
    "        bounds=bounds,\n",
    "        args=(universal_set, biome_info, epsilon),\n",
    "        strategy='best1bin',\n",
    "        popsize=100,\n",
    "        init=x0,\n",
    "        maxiter=maxiter,\n",
    "        tol=tol,\n",
    "        disp=True,          # print progress each generation\n",
    "        vectorized=True     # key: pass the entire population at once\n",
    "    )\n",
    "    return result"
   ]
  },
  {
   "cell_type": "markdown",
   "id": "e4859c5c-dd66-4761-816e-dc1ed7b03289",
   "metadata": {},
   "source": [
    "### Calibrate"
   ]
  },
  {
   "cell_type": "code",
   "execution_count": 34,
   "id": "19eb5bb7-2907-49a3-96bc-adcaa44b379d",
   "metadata": {},
   "outputs": [
    {
     "name": "stderr",
     "output_type": "stream",
     "text": [
      "2025-04-25 10:08:46.494137: E external/local_xla/xla/stream_executor/cuda/cuda_driver.cc:152] failed call to cuInit: INTERNAL: CUDA error: Failed call to cuInit: CUDA_ERROR_NO_DEVICE: no CUDA-capable device is detected\n"
     ]
    }
   ],
   "source": [
    "# setup\n",
    "paths = {\n",
    "    'lai': '/glade/u/home/linnia/ctsm6_ppe/calibration/emulators_biomelai/',\n",
    "    'gpp': '/glade/u/home/linnia/ctsm6_ppe/calibration/emulators_biomegpp/',\n",
    "    'biomass': '/glade/u/home/linnia/ctsm6_ppe/calibration/emulators_biomebiomass/'\n",
    "}\n",
    "\n",
    "#biomes = [1,2,3,5,6,7,8,9,10,11,12,13]\n",
    "biomes = [1]\n",
    "biome_info = []\n",
    "for b in biomes:\n",
    "    biome_name = biome_configs[b]['name']\n",
    "    param_names = get_biome_param_names(b)\n",
    "    param_indices = [default_params.columns.get_loc(p)for p in param_names]\n",
    "\n",
    "    emulators = [\n",
    "        tf.saved_model.load(f\"{paths['lai']}{biome_name}\"),\n",
    "        tf.saved_model.load(f\"{paths['gpp']}{biome_name}\"),\n",
    "        tf.saved_model.load(f\"{paths['biomass']}{biome_name}\")\n",
    "    ]\n",
    "    targets = [\n",
    "        obs_biome.LAI_mean.isel(biome=b).values,\n",
    "        obs_biome.GPP_mean.isel(biome=b).values,\n",
    "        obs_biome.biomassC_mean.isel(biome=b).values\n",
    "    ]\n",
    "    target_stdevs = [\n",
    "        obs_biome.LAI_stdev.isel(biome=b).values,\n",
    "        obs_biome.GPP_stdev.isel(biome=b).values,\n",
    "        obs_biome.biomassC_stdev.isel(biome=b).values\n",
    "    ]\n",
    "\n",
    "    biome_info.append({\n",
    "        'biome': b,\n",
    "        'param_indices': param_indices,\n",
    "        'emulators': emulators,\n",
    "        'targets': targets,\n",
    "        'stdevs': target_stdevs,\n",
    "    })\n"
   ]
  },
  {
   "cell_type": "code",
   "execution_count": 35,
   "id": "17942325-6a8a-4ec3-b67e-a6bce03de4f8",
   "metadata": {},
   "outputs": [],
   "source": [
    "# initialization\n",
    "x0 = np.random.rand(195)"
   ]
  },
  {
   "cell_type": "code",
   "execution_count": 38,
   "id": "7e69d1cd-59c1-401c-8631-0e05bcfaee33",
   "metadata": {
    "scrolled": true
   },
   "outputs": [
    {
     "name": "stdout",
     "output_type": "stream",
     "text": [
      "CPU times: user 6min 38s, sys: 13.2 s, total: 6min 51s\n",
      "Wall time: 25min 19s\n"
     ]
    }
   ],
   "source": [
    "%%time\n",
    "# calibration with scipy.minimize for all biomes simultaneously (195 PFT parameters: universal parameters fixed)\n",
    "tol = 1E-2\n",
    "maxiter=100\n",
    "epsilon=3 # early stopping z-score threshold\n",
    "\n",
    "universal_set = default_params[u_params].iloc[[0]].values[0]\n",
    "\n",
    "# Run optimization\n",
    "result = run_optimization(x0, biome_info, tol=tol, maxiter=maxiter, epsilon=epsilon)\n"
   ]
  },
  {
   "cell_type": "code",
   "execution_count": 37,
   "id": "da03566c-19cd-4fbf-ab0e-36e8184f3298",
   "metadata": {},
   "outputs": [
    {
     "data": {
      "text/plain": [
       "(195,)"
      ]
     },
     "execution_count": 37,
     "metadata": {},
     "output_type": "execute_result"
    }
   ],
   "source": [
    "# one biome (1: 56 params) and one sample with a tolerance of 3 z-scores took 54 minutes. "
   ]
  }
 ],
 "metadata": {
  "kernelspec": {
   "display_name": "Python [conda env:mlenv]",
   "language": "python",
   "name": "conda-env-mlenv-py"
  },
  "language_info": {
   "codemirror_mode": {
    "name": "ipython",
    "version": 3
   },
   "file_extension": ".py",
   "mimetype": "text/x-python",
   "name": "python",
   "nbconvert_exporter": "python",
   "pygments_lexer": "ipython3",
   "version": "3.10.16"
  }
 },
 "nbformat": 4,
 "nbformat_minor": 5
}
