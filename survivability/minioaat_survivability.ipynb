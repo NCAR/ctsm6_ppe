{
 "cells": [
  {
   "cell_type": "code",
   "execution_count": 1,
   "id": "24b860e3-52a3-47bb-aa70-9b9dcd1af29f",
   "metadata": {},
   "outputs": [],
   "source": [
    "import xarray as xr\n",
    "import numpy as np\n",
    "import matplotlib.pyplot as plt\n",
    "import glob"
   ]
  },
  {
   "cell_type": "code",
   "execution_count": 3,
   "id": "9c58909d-83e7-49ef-8f55-5fe190debc35",
   "metadata": {},
   "outputs": [],
   "source": [
    "import pandas as pd"
   ]
  },
  {
   "cell_type": "code",
   "execution_count": 26,
   "id": "91ac8444-c77d-420b-9de2-51d0e35e2b63",
   "metadata": {},
   "outputs": [],
   "source": [
    "from dask_jobqueue import PBSCluster\n",
    "from dask.distributed import Client\n",
    "def get_cluster(workers=30,project = 'P93300641'):\n",
    "\n",
    "    cluster = PBSCluster(\n",
    "        cores=1, # The number of cores you want\n",
    "        memory='10GB', # Amount of memory\n",
    "        processes=1, # How many processes\n",
    "        queue='casper', # The type of queue to utilize (/glade/u/apps/dav/opt/usr/bin/execcasper)\n",
    "        local_directory='$TMPDIR', # Use your local directory\n",
    "        resource_spec='select=1:ncpus=1:mem=10GB', # Specify resources\n",
    "        account=project, # Input your project ID here\n",
    "        walltime='01:00:00', # Amount of wall time\n",
    "    )\n",
    "    \n",
    "    # Scale up\n",
    "    cluster.scale(workers)\n",
    "    \n",
    "    # Setup your client\n",
    "    client = Client(cluster)\n",
    "    return client"
   ]
  },
  {
   "cell_type": "code",
   "execution_count": 17,
   "id": "9db74c75-4ac3-45ff-aaa5-3ac5933a7993",
   "metadata": {},
   "outputs": [],
   "source": [
    "def get_files(case,keys=[],id='oaat',tape='h0'):\n",
    "    if case=='postSASU':\n",
    "        s='/glade/derecho/scratch/djk2120/postp/ppe/ctsm5.3.0/postsasu/'\n",
    "    else:\n",
    "        s='/glade/derecho/scratch/linnia/'\n",
    "        \n",
    "    if len(keys)==0:\n",
    "        if case=='postSASU':\n",
    "            c='*'\n",
    "        else:\n",
    "            if case=='HIST':\n",
    "                c='ctsm5.3.0_transient_'+id+'*'\n",
    "            else:\n",
    "                c='ctsm5.3.0_transient_'+case+'_'+id+'*'\n",
    "        keys=[d.split('_')[-1].split('.')[0] for d in sorted(glob.glob(s+c))]\n",
    "    files=[]\n",
    "    nfiles=0\n",
    "    goodkeys=[]\n",
    "    for k in keys:\n",
    "        if case=='postSASU':\n",
    "            m='*'\n",
    "        else:\n",
    "            m='/run/*.'+tape+'.*'\n",
    "        if case=='HIST':\n",
    "            c='ctsm5.3.0_transient_'+k\n",
    "        else:\n",
    "            c='ctsm5.3.0_transient_'+case+'_'+k\n",
    "        d=s+c\n",
    "        f=sorted(glob.glob(d+m))\n",
    "        if not nfiles:\n",
    "            nfiles=len(f)\n",
    "        if len(f)==nfiles:\n",
    "            files.append(f)\n",
    "            goodkeys.append(k)\n",
    "        else:\n",
    "            print(case,k,len(f),'files')\n",
    "    return files,goodkeys\n",
    "        \n",
    "        "
   ]
  },
  {
   "cell_type": "code",
   "execution_count": 27,
   "id": "5e6b99cc-4591-4e89-9ded-6532f487f609",
   "metadata": {},
   "outputs": [],
   "source": [
    "client=get_cluster()"
   ]
  },
  {
   "cell_type": "code",
   "execution_count": 37,
   "id": "701b1947-b55e-4b3d-9031-03aca4acb799",
   "metadata": {},
   "outputs": [],
   "source": [
    "df=pd.read_csv('mkey.csv')\n",
    "keys=df.key.values"
   ]
  },
  {
   "cell_type": "code",
   "execution_count": 38,
   "id": "c6432e09-8424-4716-8a13-4a7a368c2e84",
   "metadata": {},
   "outputs": [
    {
     "name": "stdout",
     "output_type": "stream",
     "text": [
      "HIST oaat0081 0 files\n",
      "HIST oaat0087 0 files\n"
     ]
    }
   ],
   "source": [
    "files,goodkeys=get_files('HIST',keys=keys,tape='h1')"
   ]
  },
  {
   "cell_type": "code",
   "execution_count": 39,
   "id": "3ab2b798-5bed-444f-b151-62ed98f3119e",
   "metadata": {},
   "outputs": [],
   "source": [
    "def pp(ds):\n",
    "    return ds[['TLAI']]"
   ]
  },
  {
   "cell_type": "code",
   "execution_count": 40,
   "id": "2ba1a571-2444-49d0-998e-4380a54f4ed7",
   "metadata": {},
   "outputs": [],
   "source": [
    "ds=xr.open_mfdataset(files,combine='nested',concat_dim=['ens','time'],parallel=True,preprocess=pp)\n",
    "ds['ens']=goodkeys\n",
    "tmp=xr.open_dataset(files[0][0])\n",
    "ds['pft']=tmp.pfts1d_itype_veg"
   ]
  },
  {
   "cell_type": "code",
   "execution_count": 56,
   "id": "f9c761af-7bf3-4a17-a814-391ca55ee736",
   "metadata": {},
   "outputs": [],
   "source": [
    "alive=(ds.TLAI.max(dim='time')>0.1).compute()"
   ]
  },
  {
   "cell_type": "code",
   "execution_count": 91,
   "id": "1db16f6b-abae-41c9-adf2-a3e472342219",
   "metadata": {},
   "outputs": [],
   "source": [
    "nixes=[0,9,15,16]\n",
    "ixpft=np.ones(17).astype(bool)\n",
    "ixpft[nixes]=0"
   ]
  },
  {
   "cell_type": "code",
   "execution_count": 82,
   "id": "79e60d84-79c9-4fb4-8999-f74e060174ab",
   "metadata": {},
   "outputs": [],
   "source": [
    "surv=alive.groupby('pft').sum()\n",
    "sdef=surv.sel(ens='oaat0102')\n",
    "spft=(surv/sdef).isel(pft=ixpft)"
   ]
  },
  {
   "cell_type": "code",
   "execution_count": 144,
   "id": "dc2af636-767f-4ccb-9a55-392c11e9645e",
   "metadata": {},
   "outputs": [],
   "source": [
    "for sthresh in [0.5,0.6,0.7,0.75,0.8,0.9]:\n",
    "    ixdead=(spft<sthresh).sum(dim='pft')>0\n",
    "    params=[]\n",
    "    head=True\n",
    "    for ee in ds.ens[ixdead].values:\n",
    "        ixk=df.key==ee\n",
    "        param=df.param[ixk].values[0]\n",
    "        minmax=df.minmax[ixk].values[0]\n",
    "        x=spft.sel(ens=ee)\n",
    "        deadpfts=x.pft[x<sthresh].values\n",
    "        dstr=''\n",
    "        for p in deadpfts:\n",
    "            dstr+=str(int(p))+'_'\n",
    "        with open('skeys/dead_'+str(int(100*sthresh))+'percent.txt','a') as f:\n",
    "            if head:\n",
    "                f.write('key,param,minmax,dead_pfts\\n')\n",
    "                head=False\n",
    "            f.write(ee+','+param+','+minmax+','+dstr[:-1]+'\\n')\n",
    "    "
   ]
  },
  {
   "cell_type": "code",
   "execution_count": null,
   "id": "f210c7ee-f03d-41e9-ae37-dbd8a5432801",
   "metadata": {},
   "outputs": [],
   "source": []
  }
 ],
 "metadata": {
  "kernelspec": {
   "display_name": "Python [conda env:miniconda3-ppe-py]",
   "language": "python",
   "name": "conda-env-miniconda3-ppe-py-py"
  },
  "language_info": {
   "codemirror_mode": {
    "name": "ipython",
    "version": 3
   },
   "file_extension": ".py",
   "mimetype": "text/x-python",
   "name": "python",
   "nbconvert_exporter": "python",
   "pygments_lexer": "ipython3",
   "version": "3.11.6"
  }
 },
 "nbformat": 4,
 "nbformat_minor": 5
}
