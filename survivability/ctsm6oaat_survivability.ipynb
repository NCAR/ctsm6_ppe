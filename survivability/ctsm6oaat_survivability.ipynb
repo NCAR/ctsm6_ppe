{
 "cells": [
  {
   "cell_type": "code",
   "execution_count": 25,
   "id": "24b860e3-52a3-47bb-aa70-9b9dcd1af29f",
   "metadata": {},
   "outputs": [],
   "source": [
    "import xarray as xr\n",
    "import numpy as np\n",
    "import matplotlib.pyplot as plt\n",
    "import glob\n",
    "import pandas as pd"
   ]
  },
  {
   "cell_type": "code",
   "execution_count": 26,
   "id": "91ac8444-c77d-420b-9de2-51d0e35e2b63",
   "metadata": {},
   "outputs": [
    {
     "name": "stderr",
     "output_type": "stream",
     "text": [
      "/glade/u/home/linnia/miniconda3/envs/ppe-py/lib/python3.7/site-packages/distributed/node.py:182: UserWarning: Port 8787 is already in use.\n",
      "Perhaps you already have a cluster running?\n",
      "Hosting the HTTP server on port 43779 instead\n",
      "  f\"Port {expected} is already in use.\\n\"\n"
     ]
    }
   ],
   "source": [
    "# Setup your PBSCluster\n",
    "import dask\n",
    "from dask_jobqueue import PBSCluster\n",
    "from dask.distributed import Client\n",
    "ncores=1\n",
    "nmem='10GB'\n",
    "cluster = PBSCluster(\n",
    "    cores=ncores, # The number of cores you want\n",
    "    memory=nmem, # Amount of memory\n",
    "    processes=1, # How many processes\n",
    "    queue='casper', # The type of queue to utilize (/glade/u/apps/dav/opt/usr/bin/execcasper)\n",
    "    local_directory='$TMPDIR', # Use your local directory\n",
    "    resource_spec='select=1:ncpus='+str(ncores)+':mem='+nmem, # Specify resources\n",
    "    project='P93300641', # Input your project ID here\n",
    "    walltime='01:00:00', # Amount of wall time\n",
    "    #interface='ib0', # Interface to use\n",
    ")\n",
    "\n",
    "# Scale up\n",
    "cluster.scale(10)\n",
    "\n",
    "# Setup your client\n",
    "client = Client(cluster)"
   ]
  },
  {
   "cell_type": "code",
   "execution_count": 27,
   "id": "9db74c75-4ac3-45ff-aaa5-3ac5933a7993",
   "metadata": {},
   "outputs": [],
   "source": [
    "def get_files(case,keys=[],id='oaat',tape='h0'):\n",
    "\n",
    "    s='/glade/derecho/scratch/linnia/'\n",
    "        \n",
    "    if len(keys)==0:\n",
    "        if case=='HIST':\n",
    "            c='BNF_v2.n01_ctsm5.3.012_transient_'+id+'*'\n",
    "        else:\n",
    "            c='BNF_v2.n01_ctsm5.3.012_transient_'+case+'_'+id+'*'\n",
    "        keys=[d.split('_')[-1].split('.')[0] for d in sorted(glob.glob(s+c))]\n",
    "    files=[]\n",
    "    nfiles=0\n",
    "    goodkeys=[]\n",
    "    for k in keys:\n",
    "        m='/run/*.'+tape+'.*'\n",
    "        if case=='HIST':\n",
    "            c='BNF_v2.n01_ctsm5.3.012_transient_'+k\n",
    "        else:\n",
    "            c='BNF_v2.n01_ctsm5.3.012_transient_'+case+'_'+k\n",
    "        d=s+c\n",
    "        f=sorted(glob.glob(d+m))\n",
    "        if not nfiles:\n",
    "            nfiles=len(f)\n",
    "        if len(f)==nfiles:\n",
    "            files.append(f)\n",
    "            goodkeys.append(k)\n",
    "        else:\n",
    "            print(case,k,len(f),'files')\n",
    "    return files,goodkeys\n",
    "        "
   ]
  },
  {
   "cell_type": "code",
   "execution_count": 34,
   "id": "701b1947-b55e-4b3d-9031-03aca4acb799",
   "metadata": {},
   "outputs": [],
   "source": [
    "df=pd.read_csv('ctsm6oaat_rangetests_key.csv')\n",
    "keys=df.key.values"
   ]
  },
  {
   "cell_type": "code",
   "execution_count": 36,
   "id": "c6432e09-8424-4716-8a13-4a7a368c2e84",
   "metadata": {},
   "outputs": [],
   "source": [
    "files,goodkeys=get_files('HIST',keys=keys,tape='h1')"
   ]
  },
  {
   "cell_type": "code",
   "execution_count": 37,
   "id": "3ab2b798-5bed-444f-b151-62ed98f3119e",
   "metadata": {},
   "outputs": [],
   "source": [
    "def pp(ds):\n",
    "    return ds[['TLAI']]"
   ]
  },
  {
   "cell_type": "code",
   "execution_count": 38,
   "id": "2ba1a571-2444-49d0-998e-4380a54f4ed7",
   "metadata": {},
   "outputs": [],
   "source": [
    "ds=xr.open_mfdataset(files,combine='nested',concat_dim=['ens','time'],parallel=True,preprocess=pp)\n",
    "ds['ens']=goodkeys\n",
    "tmp=xr.open_dataset(files[0][0])\n",
    "ds['pft']=tmp.pfts1d_itype_veg"
   ]
  },
  {
   "cell_type": "code",
   "execution_count": 39,
   "id": "f9c761af-7bf3-4a17-a814-391ca55ee736",
   "metadata": {},
   "outputs": [],
   "source": [
    "alive=(ds.TLAI.max(dim='time')>0.1).compute() #slow"
   ]
  },
  {
   "cell_type": "code",
   "execution_count": 40,
   "id": "79e60d84-79c9-4fb4-8999-f74e060174ab",
   "metadata": {},
   "outputs": [],
   "source": [
    "nixes=[0,9,15,16] #less important pfts\n",
    "ixpft=np.ones(17).astype(bool)\n",
    "ixpft[nixes]=0\n",
    "surv=alive.groupby('pft').sum()\n",
    "sdef=surv.sel(ens='oaat0000')\n",
    "spft=(surv/sdef).isel(pft=ixpft)"
   ]
  },
  {
   "cell_type": "code",
   "execution_count": 43,
   "id": "dc2af636-767f-4ccb-9a55-392c11e9645e",
   "metadata": {},
   "outputs": [],
   "source": [
    "for sthresh in [0.5,0.6,0.7,0.75,0.8,0.9]:\n",
    "    ixdead=(spft<sthresh).sum(dim='pft')>0\n",
    "    params=[]\n",
    "    head=True\n",
    "    for ee in ds.ens[ixdead].values:\n",
    "        ixk=df.key==ee\n",
    "        param=df.param[ixk].values[0]\n",
    "        x=spft.sel(ens=ee)\n",
    "        deadpfts=x.pft[x<sthresh].values\n",
    "        dstr=''\n",
    "        for p in deadpfts:\n",
    "            dstr+=str(int(p))+'_'\n",
    "        with open('skeys/oaat_dead_rangetests'+str(int(100*sthresh))+'percent.txt','a') as f:\n",
    "            if head:\n",
    "                f.write('key,param,dead_pfts\\n')\n",
    "                head=False\n",
    "            f.write(ee+','+param+','+dstr[:-1]+'\\n')\n",
    "    "
   ]
  },
  {
   "cell_type": "code",
   "execution_count": 44,
   "id": "f210c7ee-f03d-41e9-ae37-dbd8a5432801",
   "metadata": {},
   "outputs": [],
   "source": [
    "nixes=[0,9,15,16] #less important pfts\n",
    "ixpft=np.ones(17).astype(bool)\n",
    "ixpft[nixes]=0\n",
    "surv=alive.groupby('pft').sum()\n",
    "sdef=surv.sel(ens='oaat0000')\n",
    "spft=(surv/sdef).isel(pft=ixpft)"
   ]
  },
  {
   "cell_type": "code",
   "execution_count": null,
   "id": "670727bc-2267-4c6e-8276-4a7cb2406db3",
   "metadata": {},
   "outputs": [],
   "source": []
  }
 ],
 "metadata": {
  "kernelspec": {
   "display_name": "Python [conda env:miniconda3-ppe-py]",
   "language": "python",
   "name": "conda-env-miniconda3-ppe-py-py"
  },
  "language_info": {
   "codemirror_mode": {
    "name": "ipython",
    "version": 3
   },
   "file_extension": ".py",
   "mimetype": "text/x-python",
   "name": "python",
   "nbconvert_exporter": "python",
   "pygments_lexer": "ipython3",
   "version": "3.7.12"
  }
 },
 "nbformat": 4,
 "nbformat_minor": 5
}
