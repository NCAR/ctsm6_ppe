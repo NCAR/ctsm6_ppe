{
 "cells": [
  {
   "cell_type": "code",
   "execution_count": 1,
   "id": "3e4032dc-41a6-4b38-adf4-34ee6b4c4c64",
   "metadata": {},
   "outputs": [
    {
     "name": "stderr",
     "output_type": "stream",
     "text": [
      "2025-08-06 11:46:42.341754: I tensorflow/core/util/port.cc:153] oneDNN custom operations are on. You may see slightly different numerical results due to floating-point round-off errors from different computation orders. To turn them off, set the environment variable `TF_ENABLE_ONEDNN_OPTS=0`.\n",
      "2025-08-06 11:46:43.491161: E external/local_xla/xla/stream_executor/cuda/cuda_fft.cc:477] Unable to register cuFFT factory: Attempting to register factory for plugin cuFFT when one has already been registered\n",
      "WARNING: All log messages before absl::InitializeLog() is called are written to STDERR\n",
      "E0000 00:00:1754502403.777930   64611 cuda_dnn.cc:8310] Unable to register cuDNN factory: Attempting to register factory for plugin cuDNN when one has already been registered\n",
      "E0000 00:00:1754502403.865240   64611 cuda_blas.cc:1418] Unable to register cuBLAS factory: Attempting to register factory for plugin cuBLAS when one has already been registered\n",
      "2025-08-06 11:46:44.575157: I tensorflow/core/platform/cpu_feature_guard.cc:210] This TensorFlow binary is optimized to use available CPU instructions in performance-critical operations.\n",
      "To enable the following instructions: AVX2 AVX512F AVX512_VNNI AVX512_BF16 FMA, in other operations, rebuild TensorFlow with the appropriate compiler flags.\n"
     ]
    }
   ],
   "source": [
    "import numpy as np\n",
    "import pandas as pd\n",
    "import sys\n",
    "sys.path.append('/glade/u/home/linnia/ctsm6_ppe/')\n",
    "from utils.pyfunctions import *\n",
    "utils_path = '/glade/u/home/linnia/ctsm6_ppe/utils/'"
   ]
  },
  {
   "cell_type": "code",
   "execution_count": 2,
   "id": "03a07373-b24b-4678-89ce-1c5aed6ab572",
   "metadata": {},
   "outputs": [],
   "source": [
    "def write_paramset_ds(default_ds, param_ranges_file, paramset_csv, outfile):\n",
    "    \"\"\"\n",
    "    Create and save a NetCDF file of normalized parameter settings for ensemble.\n",
    "\n",
    "    Parameters:\n",
    "    -----------\n",
    "    default_params : dict\n",
    "        Dictionary of default parameter values (currently unused).\n",
    "    param_ranges_file : str\n",
    "        Path to the CSV file with parameter names and inclusion flags.\n",
    "    paramset_csv : str\n",
    "        Path to the CSV file containing parameter values for each ensemble member.\n",
    "    outfile : str\n",
    "        Output NetCDF file path (should end in .nc).\n",
    "    \"\"\"\n",
    "\n",
    "    # Read parameter names from LHC file\n",
    "    lhc_key = '/glade/work/linnia/CLM6-PPE/ctsm6_lhc/ctsm6lhc_11262024.txt'\n",
    "    params_lhc = pd.read_csv(lhc_key).drop(columns='member')\n",
    "\n",
    "    # Define PFT-specific parameters\n",
    "    pft_param_names = [\n",
    "        'kmax', 'psi50', 'jmaxb0', 'slatop', 'lmr_intercept_atkin',\n",
    "        'medlynslope', 'medlynintercept', 'froot_leaf', 'leafcn',\n",
    "        'leaf_long', 'KCN', 'dleaf', 'r_mort', 'fsr_pft', 'xl'\n",
    "    ]\n",
    "\n",
    "    # Select parameters we are calibrating only\n",
    "    df = pd.read_csv(param_ranges_file)\n",
    "    param_names = df[df['include'] == 1]['param'].values\n",
    "\n",
    "    # Read ensemble values\n",
    "    paramsets = pd.read_csv(paramset_csv)\n",
    "\n",
    "    # Initialize \n",
    "    pft_ids = [1,2,3,4,5,6,7,8,10,11,12,13,14]\n",
    "    extra_pfts = [0,9]\n",
    "    c3_crop_pft = 15\n",
    "    c3_grass_pft = 13\n",
    "    \n",
    "    data_vars = {}\n",
    "    n_ens = len(paramsets)\n",
    "    n_pfts = 79\n",
    "\n",
    "    for param in param_names:\n",
    "        if param in pft_param_names:\n",
    "            default_vals = default_ds[param].values\n",
    "            if len(default_vals) < n_pfts:\n",
    "                padded_defaults = np.full(n_pfts, 0.5)\n",
    "                padded_defaults[:len(default_vals)] = default_vals\n",
    "            else:\n",
    "                padded_defaults = default_vals\n",
    "                \n",
    "            arr = np.tile(padded_defaults, (n_ens, 1))\n",
    "\n",
    "            # overwrite with the calibrated values\n",
    "            cols = [f\"{param}_{i}\" for i in pft_ids]\n",
    "            arr[:, pft_ids] = paramsets[cols].values\n",
    "\n",
    "            # Patch extra PFTs\n",
    "            for p in extra_pfts:\n",
    "                arr[:, p] = np.tile(default_ds[param].values[p], (n_ens))\n",
    "            arr[:, c3_crop_pft] = arr[:, c3_grass_pft]\n",
    "\n",
    "            data_vars[param] = ([\"ensemble\", \"pft\"], arr)\n",
    "        else:\n",
    "            arr = paramsets[param].values\n",
    "            data_vars[param] = ([\"ensemble\"], arr)\n",
    "\n",
    "    ds_out = xr.Dataset(\n",
    "        data_vars,\n",
    "        coords={\n",
    "            \"ensemble\": np.arange(n_ens),\n",
    "            \"pft\": np.arange(n_pfts)\n",
    "        }\n",
    "    )\n",
    "\n",
    "    ds_out.to_netcdf(outfile)\n"
   ]
  },
  {
   "cell_type": "markdown",
   "id": "6fce1748-ee40-4b37-95fd-88efd19dee1f",
   "metadata": {},
   "source": [
    "### Write paramsets"
   ]
  },
  {
   "cell_type": "code",
   "execution_count": null,
   "id": "246c935a-4096-4d97-abce-620775271af9",
   "metadata": {},
   "outputs": [],
   "source": [
    "default_params = xr.open_dataset(utils_path+'default_params_norm.nc')\n",
    "param_ranges='/glade/u/home/linnia/ctsm6_ppe/gen_ensembles/gen_paramfiles/ctsm6cal_paramranges_forIcases_08052025.csv'\n",
    "paramset_csv = './paramsets/caltest_103-107.csv'\n",
    "outfile = './paramsets/caltest_103-107.nc'"
   ]
  },
  {
   "cell_type": "code",
   "execution_count": 8,
   "id": "3275c19a-41e8-4695-886c-36a4256f4c18",
   "metadata": {},
   "outputs": [],
   "source": [
    "write_paramset_ds(default_params, param_ranges, paramset_csv, outfile)"
   ]
  },
  {
   "cell_type": "code",
   "execution_count": null,
   "id": "80335df7-9efa-4004-a45d-7fcbcbd9d7e6",
   "metadata": {},
   "outputs": [],
   "source": []
  }
 ],
 "metadata": {
  "kernelspec": {
   "display_name": "Python [conda env:mlenv]",
   "language": "python",
   "name": "conda-env-mlenv-py"
  },
  "language_info": {
   "codemirror_mode": {
    "name": "ipython",
    "version": 3
   },
   "file_extension": ".py",
   "mimetype": "text/x-python",
   "name": "python",
   "nbconvert_exporter": "python",
   "pygments_lexer": "ipython3",
   "version": "3.10.16"
  }
 },
 "nbformat": 4,
 "nbformat_minor": 5
}
