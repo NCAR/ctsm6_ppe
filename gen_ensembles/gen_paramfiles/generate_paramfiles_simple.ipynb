{
 "cells": [
  {
   "cell_type": "markdown",
   "id": "4eb0f519-3ca1-4026-a296-297829792b61",
   "metadata": {},
   "source": [
    "### Simple option to generate parameter files"
   ]
  },
  {
   "cell_type": "code",
   "execution_count": 2,
   "id": "2e3db57f-246e-4023-8aca-b5f8df76e071",
   "metadata": {},
   "outputs": [],
   "source": [
    "import numpy as np\n",
    "import xarray as xr\n",
    "import pandas as pd\n",
    "import os\n",
    "import glob"
   ]
  },
  {
   "cell_type": "code",
   "execution_count": 3,
   "id": "0f44b68b-a03a-44db-a859-3e9e112916a3",
   "metadata": {},
   "outputs": [],
   "source": [
    "# Load file with parameter ranges\n",
    "csv='ctsm53010_tests.txt'\n",
    "params = pd.read_csv(csv)"
   ]
  },
  {
   "cell_type": "code",
   "execution_count": 7,
   "id": "7a53e305-8895-4def-a50f-5e46a660b7bd",
   "metadata": {},
   "outputs": [],
   "source": [
    "# where do you want to save the parameter files?\n",
    "out_dir = '/glade/work/linnia/CLM6-PPE/ctsm53010_tests/paramfiles/'"
   ]
  },
  {
   "cell_type": "code",
   "execution_count": 8,
   "id": "55fb5c47-6815-4a9a-af69-d0bd820c5692",
   "metadata": {},
   "outputs": [],
   "source": [
    "# default parameter file to start with:\n",
    "basefile = '/glade/work/linnia/ctsm5.3.010/cime/scripts/transient/runtime_files/ctsm5.3.010_params_default_241111.nc'\n",
    "def_paramfile = xr.open_dataset(basefile)"
   ]
  },
  {
   "cell_type": "code",
   "execution_count": 10,
   "id": "d8de0bdc-9bb9-40dd-a447-9731fee5e374",
   "metadata": {},
   "outputs": [
    {
     "name": "stdout",
     "output_type": "stream",
     "text": [
      "xl [0.   0.17 0.17 0.17 0.45 0.45 0.84 0.95 0.95 0.01 0.25 0.25 0.54 0.04\n",
      " 0.04 0.54 0.54 0.3  0.3  0.3  0.3  0.3  0.3  0.3  0.3  0.3  0.3  0.3\n",
      " 0.3  0.3  0.3  0.3  0.3  0.   0.   0.   0.   0.   0.   0.   0.   0.3\n",
      " 0.3  0.   0.   0.   0.   0.   0.   0.   0.   0.   0.   0.   0.   0.\n",
      " 0.   0.   0.   0.   0.   0.3  0.3  0.   0.   0.   0.   0.3  0.3  0.\n",
      " 0.   0.3  0.3  0.3  0.3  0.3  0.3  0.3  0.3 ]\n",
      "xl [0.   0.17 0.17 0.17 0.45 0.45 0.84 0.95 0.95 0.01 0.25 0.25 0.54 0.04\n",
      " 0.04 0.54 0.54 0.3  0.3  0.3  0.3  0.3  0.3  0.3  0.3  0.3  0.3  0.3\n",
      " 0.3  0.3  0.3  0.3  0.3  0.   0.   0.   0.   0.   0.   0.   0.   0.3\n",
      " 0.3  0.   0.   0.   0.   0.   0.   0.   0.   0.   0.   0.   0.   0.\n",
      " 0.   0.   0.   0.   0.   0.3  0.3  0.   0.   0.   0.   0.3  0.3  0.\n",
      " 0.   0.3  0.3  0.3  0.3  0.3  0.3  0.3  0.3 ]\n"
     ]
    }
   ],
   "source": [
    "# Modify parameter settings and write new parameter values\n",
    "for ens in range(len(params)):\n",
    "    new_paramfile = def_paramfile.copy()\n",
    "    param = params['param'][ens]\n",
    "    values = params['value'][ens]\n",
    "    float_list = [float(value) for value in values.split(',')]\n",
    "    if len(float_list)>1: # PFT indexed\n",
    "        array = def_paramfile[param].values\n",
    "        array[:len(float_list)] = float_list[0:len(float_list)]\n",
    "        print(param,array)\n",
    "        if (param=='kmax'):\n",
    "            new_paramfile['kmax'].isel(segment=3).data = array\n",
    "        elif (param=='krmax'):\n",
    "            new_paramfile['kmax'].isel(segment=4).data = array\n",
    "        else:\n",
    "            new_paramfile[param].data = array\n",
    "    else:\n",
    "        print(param,values)\n",
    "        new_paramfile[param].data = values\n",
    "\n",
    "    new_paramfile.to_netcdf(out_dir+params['key'][ens]+'.nc')\n",
    "    "
   ]
  },
  {
   "cell_type": "code",
   "execution_count": null,
   "id": "67dd316d-0ff3-460d-b7bb-e20346ddf4b9",
   "metadata": {},
   "outputs": [],
   "source": []
  }
 ],
 "metadata": {
  "kernelspec": {
   "display_name": "Python [conda env:miniconda3-ppe-py]",
   "language": "python",
   "name": "conda-env-miniconda3-ppe-py-py"
  },
  "language_info": {
   "codemirror_mode": {
    "name": "ipython",
    "version": 3
   },
   "file_extension": ".py",
   "mimetype": "text/x-python",
   "name": "python",
   "nbconvert_exporter": "python",
   "pygments_lexer": "ipython3",
   "version": "3.7.12"
  }
 },
 "nbformat": 4,
 "nbformat_minor": 5
}
