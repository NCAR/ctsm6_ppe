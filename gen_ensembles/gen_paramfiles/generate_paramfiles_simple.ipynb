{
 "cells": [
  {
   "cell_type": "markdown",
   "id": "4eb0f519-3ca1-4026-a296-297829792b61",
   "metadata": {},
   "source": [
    "### Simple option to generate parameter files"
   ]
  },
  {
   "cell_type": "code",
   "execution_count": 1,
   "id": "2e3db57f-246e-4023-8aca-b5f8df76e071",
   "metadata": {},
   "outputs": [],
   "source": [
    "import numpy as np\n",
    "import xarray as xr\n",
    "import pandas as pd\n",
    "import os\n",
    "import glob"
   ]
  },
  {
   "cell_type": "code",
   "execution_count": 2,
   "id": "0f44b68b-a03a-44db-a859-3e9e112916a3",
   "metadata": {},
   "outputs": [],
   "source": [
    "# Load file with parameter ranges\n",
    "csv='clm6_oaat_extras.txt'\n",
    "params = pd.read_csv(csv)"
   ]
  },
  {
   "cell_type": "code",
   "execution_count": 4,
   "id": "7a53e305-8895-4def-a50f-5e46a660b7bd",
   "metadata": {},
   "outputs": [],
   "source": [
    "# where do you want to save the parameter files?\n",
    "out_dir = '/glade/work/linnia/CLM6-PPE/CLM6_miniOAAT/paramfiles/'"
   ]
  },
  {
   "cell_type": "code",
   "execution_count": 5,
   "id": "55fb5c47-6815-4a9a-af69-d0bd820c5692",
   "metadata": {},
   "outputs": [],
   "source": [
    "# default parameter file to start with:\n",
    "basefile = '/glade/work/linnia/ctsm5.3.0/cime/scripts/transient/runtime_files/ctsm60_params.c241007.nc'\n",
    "def_paramfile = xr.open_dataset(basefile)"
   ]
  },
  {
   "cell_type": "code",
   "execution_count": 6,
   "id": "22db502e-2fcd-47d0-a4a7-ccea6fb05c07",
   "metadata": {},
   "outputs": [
    {
     "name": "stdout",
     "output_type": "stream",
     "text": [
      "hksat_sf 2.0\n",
      "hksat_sf 3.0\n",
      "hksat_sf 4.0\n",
      "hksat_sf 5.0\n",
      "bsw_sf 1.15\n"
     ]
    }
   ],
   "source": [
    "for ens in range(len(params)):\n",
    "    new_paramfile = def_paramfile.copy()\n",
    "    param = params['param'][ens]\n",
    "    value = params['value'][ens]\n",
    "    print(param,value)\n",
    "    new_paramfile[param] = value\n",
    "\n",
    "    new_paramfile.to_netcdf(out_dir+params['id'][ens]+'.nc')\n",
    "    "
   ]
  },
  {
   "cell_type": "code",
   "execution_count": null,
   "id": "d8de0bdc-9bb9-40dd-a447-9731fee5e374",
   "metadata": {},
   "outputs": [],
   "source": []
  }
 ],
 "metadata": {
  "kernelspec": {
   "display_name": "Python [conda env:miniconda3-ppe-py]",
   "language": "python",
   "name": "conda-env-miniconda3-ppe-py-py"
  },
  "language_info": {
   "codemirror_mode": {
    "name": "ipython",
    "version": 3
   },
   "file_extension": ".py",
   "mimetype": "text/x-python",
   "name": "python",
   "nbconvert_exporter": "python",
   "pygments_lexer": "ipython3",
   "version": "3.7.12"
  }
 },
 "nbformat": 4,
 "nbformat_minor": 5
}
