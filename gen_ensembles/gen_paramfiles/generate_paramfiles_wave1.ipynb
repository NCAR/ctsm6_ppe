{
 "cells": [
  {
   "cell_type": "code",
   "execution_count": 1,
   "id": "f50867e0-5ab8-4b9d-b9a8-32c92677d099",
   "metadata": {},
   "outputs": [],
   "source": [
    "import numpy as np\n",
    "import xarray as xr\n",
    "import os\n",
    "import pandas as pd\n",
    "import glob"
   ]
  },
  {
   "cell_type": "code",
   "execution_count": 2,
   "id": "99d6d68a-4510-4377-a457-cd2c194a8a67",
   "metadata": {},
   "outputs": [],
   "source": [
    "import sys ; sys.path.append(\"../..\")\n",
    "from ppe_tools import *"
   ]
  },
  {
   "cell_type": "code",
   "execution_count": 3,
   "id": "af44572a-0e21-43ff-ba32-b3628a319d72",
   "metadata": {},
   "outputs": [],
   "source": [
    "# set directories\n",
    "exp_dir = '/glade/work/linnia/CLM6-PPE/ctsm6_wave1/'"
   ]
  },
  {
   "cell_type": "markdown",
   "id": "6e4d19f2-6f13-4f5c-bfc3-cda632362dfa",
   "metadata": {},
   "source": [
    "### 1. Define Parameters and Ranges"
   ]
  },
  {
   "cell_type": "code",
   "execution_count": 4,
   "id": "915b9226-20e4-42bb-9665-4d0732607b20",
   "metadata": {},
   "outputs": [],
   "source": [
    "csv='ctsm6lhc_paramranges_11262024.csv'\n",
    "df = pd.read_csv(csv)\n",
    "df_main = df[df['include'] == 1]\n",
    "df_flagged = df[df['include'] == 0]\n",
    "params=df_main['param'].values\n",
    "flags = df_main['flag']"
   ]
  },
  {
   "cell_type": "code",
   "execution_count": 5,
   "id": "7390a3e1-733e-4176-bde5-df9a0d5061b5",
   "metadata": {},
   "outputs": [],
   "source": [
    "# grouped parameters\n",
    "KCN=['kc_nonmyc','kn_nonmyc','akc_active','akn_active','ekc_active','ekn_active']\n",
    "ACCLIM_SF=['vcmaxse_sf','jmaxse_sf','tpuse_sf']\n",
    "TAU = ['bgc_tau_s1','bgc_tau_s2','bgc_tau_s3']\n",
    "RF_LS = ['bgc_rf_l1s1','bgc_rf_l2s1','bgc_rf_l3s2']\n",
    "RF_SS = ['bgc_rf_s2s1', 'bgc_rf_s2s3', 'bgc_rf_s3s1']\n",
    "RF_CWD = ['rf_cwdl2', 'bgc_rf_cwdl3']\n",
    "\n",
    "flagged_dict = {'KCN':KCN,'ACCLIM_SF':ACCLIM_SF,'TAU':TAU,'RF_LS':RF_LS,'RF_SS':RF_SS,'RF_CWD':RF_CWD}"
   ]
  },
  {
   "cell_type": "markdown",
   "id": "eb7c9a12-b3c6-46d0-a57c-07d8731b8bc4",
   "metadata": {},
   "source": [
    "### 2. Build Parameter Dictionary"
   ]
  },
  {
   "cell_type": "code",
   "execution_count": 10,
   "id": "e29bcbc8-8aaa-435f-9e67-5ccf38dd4b70",
   "metadata": {},
   "outputs": [],
   "source": [
    "def get_minmax(df,p):\n",
    "    ix       = df['param']==p\n",
    "    minval   = df['min'][ix].values[0]\n",
    "    maxval   = df['max'][ix].values[0]\n",
    "    pftmin   = df['pft_mins'][ix].values[0]\n",
    "    pftmax   = df['pft_maxs'][ix].values[0]\n",
    "    thisloc  = df['loc'][ix].values[0]\n",
    "\n",
    "    needs_pft = (minval=='pft')\n",
    "    if needs_pft:\n",
    "        thismin = np.zeros((79))\n",
    "        thismin[0:17] = np.fromstring(pftmin, dtype='float', sep=',')\n",
    "    elif 'percent' in minval:\n",
    "        thismin = minval\n",
    "    else:\n",
    "        thismin = np.array(float(minval))\n",
    "\n",
    "    needs_pft = (maxval=='pft')\n",
    "    if needs_pft:\n",
    "        thismax = np.zeros((79))\n",
    "        thismax[0:17] = np.fromstring(pftmax, dtype='float', sep=',')\n",
    "    elif 'percent' in maxval:\n",
    "        thismax = maxval\n",
    "    else:\n",
    "        thismax = np.array(float(maxval))\n",
    "\n",
    "    return thismin, thismax, thisloc"
   ]
  },
  {
   "cell_type": "code",
   "execution_count": 11,
   "id": "b5d990ca-58cd-4923-b59f-06d468546762",
   "metadata": {},
   "outputs": [],
   "source": [
    "lhcs = {}\n",
    "for param,flag in zip(params,flags):\n",
    "    \n",
    "    if not pd.notnull(flag):\n",
    "        thismin,thismax,thisloc = get_minmax(df,param)\n",
    "        lhcs[param]={'min':thismin,'max':thismax,'loc':thisloc,'flagged':[]}\n",
    "    else:\n",
    "        flagged={}\n",
    "        for p in flagged_dict[param]:\n",
    "            thismin,thismax,thisloc = get_minmax(df_flagged,p)\n",
    "            flagged[p]={'min':thismin,'max':thismax,'loc':thisloc}\n",
    "        lhcs[param]={'min':[],'max':[],'loc':thisloc,'flagged':flagged}"
   ]
  },
  {
   "cell_type": "markdown",
   "id": "c42c4b67-15e6-441a-89a1-d8c41cc35111",
   "metadata": {},
   "source": [
    "###  3. Load parameter sets"
   ]
  },
  {
   "cell_type": "code",
   "execution_count": 12,
   "id": "cd00d639-1b44-4533-ad45-82906a6dcf49",
   "metadata": {},
   "outputs": [],
   "source": [
    "# Load parameter sets from dictionary\n",
    "num_paramsets = 500 # set the number of ensemble members \n",
    "psets_dict = np.load('/glade/u/home/linnia/ctsm6_ppe/analysis_lhc/wave1/params/wave1_psets_020725_pftlaimax.npy',allow_pickle='TRUE').item()\n",
    "\n",
    "def get_p_dict(p,i):\n",
    "    return psets_dict[p][i]\n",
    "\n",
    "exp=[[get_p_dict(p,i) for p in lhcs] for i in range(num_paramsets)]"
   ]
  },
  {
   "cell_type": "markdown",
   "id": "7d600ad8-4f1b-46f5-bf85-0684ec1c8378",
   "metadata": {},
   "source": [
    "### 4. Create the Ensemble Object"
   ]
  },
  {
   "cell_type": "code",
   "execution_count": 13,
   "id": "04571686-bafb-48d1-8014-eecb4fa0eaa4",
   "metadata": {},
   "outputs": [],
   "source": [
    "# 4a. instantiate the Ensemble object\n",
    "basefile = '/glade/work/linnia/CLM6-PPE/ctsm6_lhc/paramfiles/lhc0000.nc'\n",
    "pdir = exp_dir + 'paramfiles/'\n",
    "ndir = exp_dir + 'namelist_mods/'\n",
    "x    = Ensemble(basefile,pdir,ndir)\n",
    "\n",
    "# 4b. add the new ensemble members\n",
    "prefix = 'wave1'   #make your own prefix\n",
    "nextnum=1\n",
    "x.add_lhcs(lhcs,prefix,nextnum,num_paramsets,lhc=exp) "
   ]
  },
  {
   "cell_type": "markdown",
   "id": "a2561ffd-4bda-4ecb-ab02-c19fa823b59e",
   "metadata": {},
   "source": [
    "### 5. Write the param_files"
   ]
  },
  {
   "cell_type": "code",
   "execution_count": 14,
   "id": "d8c7d05f-7bf4-4490-9a68-f2c84c437c3a",
   "metadata": {},
   "outputs": [],
   "source": [
    "paramset_file = exp_dir + 'ctsm6wave1_02072025.txt'\n",
    "x.write(lhcfile=paramset_file)"
   ]
  },
  {
   "cell_type": "code",
   "execution_count": 15,
   "id": "116c0a57",
   "metadata": {},
   "outputs": [
    {
     "name": "stdout",
     "output_type": "stream",
     "text": [
      "  File: /glade/work/linnia/CLM6-PPE/ctsm6_wave1/ctsm6wave1_02072025.txt\n",
      "  Size: 6491172   \tBlocks: 12704      IO Block: 8388608 regular file\n",
      "Device: 41h/65d\tInode: 272889674   Links: 1\n",
      "Access: (0644/-rw-r--r--)  Uid: (35240/  linnia)   Gid: ( 1000/    ncar)\n",
      "Access: 2025-02-07 08:15:33.525726000 -0700\n",
      "Modify: 2025-02-07 08:15:36.316166479 -0700\n",
      "Change: 2025-02-07 08:15:36.316166479 -0700\n",
      " Birth: -\n"
     ]
    }
   ],
   "source": [
    "%%bash -s \"$paramset_file\"\n",
    "# Check that the file was created\n",
    "paramset_file=$1 \n",
    "\n",
    "stat $paramset_file"
   ]
  },
  {
   "cell_type": "markdown",
   "id": "7d125301-a96c-4bde-aeb6-73f57af21334",
   "metadata": {},
   "source": [
    "### 6. Sanity Check"
   ]
  },
  {
   "cell_type": "code",
   "execution_count": 16,
   "id": "833389d8-7fbf-4d6e-871f-cacb4e41a8af",
   "metadata": {},
   "outputs": [],
   "source": [
    "import matplotlib.pyplot as plt"
   ]
  },
  {
   "cell_type": "code",
   "execution_count": 17,
   "id": "f01879de-ca92-44e5-822e-bc8b55ecdc23",
   "metadata": {},
   "outputs": [],
   "source": [
    "in_dir = exp_dir + 'paramfiles/'\n",
    "filelist= np.sort(glob.glob(os.path.join(in_dir, '*')))"
   ]
  },
  {
   "cell_type": "code",
   "execution_count": 18,
   "id": "f6ebd491-01e4-4cd1-8f6b-6cd09ee09533",
   "metadata": {
    "collapsed": true,
    "jupyter": {
     "outputs_hidden": true
    }
   },
   "outputs": [
    {
     "name": "stderr",
     "output_type": "stream",
     "text": [
      "/glade/derecho/scratch/linnia/tmp/ipykernel_23796/4259583771.py:3: FutureWarning: In a future version of xarray decode_timedelta will default to False rather than None. To silence this warning, set decode_timedelta to True, False, or a 'CFTimedeltaCoder' instance.\n",
      "  par = xr.open_dataset(filelist[f])\n",
      "/glade/derecho/scratch/linnia/tmp/ipykernel_23796/4259583771.py:3: FutureWarning: In a future version of xarray decode_timedelta will default to False rather than None. To silence this warning, set decode_timedelta to True, False, or a 'CFTimedeltaCoder' instance.\n",
      "  par = xr.open_dataset(filelist[f])\n",
      "/glade/derecho/scratch/linnia/tmp/ipykernel_23796/4259583771.py:3: FutureWarning: In a future version of xarray decode_timedelta will default to False rather than None. To silence this warning, set decode_timedelta to True, False, or a 'CFTimedeltaCoder' instance.\n",
      "  par = xr.open_dataset(filelist[f])\n",
      "/glade/derecho/scratch/linnia/tmp/ipykernel_23796/4259583771.py:3: FutureWarning: In a future version of xarray decode_timedelta will default to False rather than None. To silence this warning, set decode_timedelta to True, False, or a 'CFTimedeltaCoder' instance.\n",
      "  par = xr.open_dataset(filelist[f])\n",
      "/glade/derecho/scratch/linnia/tmp/ipykernel_23796/4259583771.py:3: FutureWarning: In a future version of xarray decode_timedelta will default to False rather than None. To silence this warning, set decode_timedelta to True, False, or a 'CFTimedeltaCoder' instance.\n",
      "  par = xr.open_dataset(filelist[f])\n",
      "/glade/derecho/scratch/linnia/tmp/ipykernel_23796/4259583771.py:3: FutureWarning: In a future version of xarray decode_timedelta will default to False rather than None. To silence this warning, set decode_timedelta to True, False, or a 'CFTimedeltaCoder' instance.\n",
      "  par = xr.open_dataset(filelist[f])\n",
      "/glade/derecho/scratch/linnia/tmp/ipykernel_23796/4259583771.py:3: FutureWarning: In a future version of xarray decode_timedelta will default to False rather than None. To silence this warning, set decode_timedelta to True, False, or a 'CFTimedeltaCoder' instance.\n",
      "  par = xr.open_dataset(filelist[f])\n",
      "/glade/derecho/scratch/linnia/tmp/ipykernel_23796/4259583771.py:3: FutureWarning: In a future version of xarray decode_timedelta will default to False rather than None. To silence this warning, set decode_timedelta to True, False, or a 'CFTimedeltaCoder' instance.\n",
      "  par = xr.open_dataset(filelist[f])\n",
      "/glade/derecho/scratch/linnia/tmp/ipykernel_23796/4259583771.py:3: FutureWarning: In a future version of xarray decode_timedelta will default to False rather than None. To silence this warning, set decode_timedelta to True, False, or a 'CFTimedeltaCoder' instance.\n",
      "  par = xr.open_dataset(filelist[f])\n",
      "/glade/derecho/scratch/linnia/tmp/ipykernel_23796/4259583771.py:3: FutureWarning: In a future version of xarray decode_timedelta will default to False rather than None. To silence this warning, set decode_timedelta to True, False, or a 'CFTimedeltaCoder' instance.\n",
      "  par = xr.open_dataset(filelist[f])\n",
      "/glade/derecho/scratch/linnia/tmp/ipykernel_23796/4259583771.py:3: FutureWarning: In a future version of xarray decode_timedelta will default to False rather than None. To silence this warning, set decode_timedelta to True, False, or a 'CFTimedeltaCoder' instance.\n",
      "  par = xr.open_dataset(filelist[f])\n",
      "/glade/derecho/scratch/linnia/tmp/ipykernel_23796/4259583771.py:3: FutureWarning: In a future version of xarray decode_timedelta will default to False rather than None. To silence this warning, set decode_timedelta to True, False, or a 'CFTimedeltaCoder' instance.\n",
      "  par = xr.open_dataset(filelist[f])\n",
      "/glade/derecho/scratch/linnia/tmp/ipykernel_23796/4259583771.py:3: FutureWarning: In a future version of xarray decode_timedelta will default to False rather than None. To silence this warning, set decode_timedelta to True, False, or a 'CFTimedeltaCoder' instance.\n",
      "  par = xr.open_dataset(filelist[f])\n",
      "/glade/derecho/scratch/linnia/tmp/ipykernel_23796/4259583771.py:3: FutureWarning: In a future version of xarray decode_timedelta will default to False rather than None. To silence this warning, set decode_timedelta to True, False, or a 'CFTimedeltaCoder' instance.\n",
      "  par = xr.open_dataset(filelist[f])\n",
      "/glade/derecho/scratch/linnia/tmp/ipykernel_23796/4259583771.py:3: FutureWarning: In a future version of xarray decode_timedelta will default to False rather than None. To silence this warning, set decode_timedelta to True, False, or a 'CFTimedeltaCoder' instance.\n",
      "  par = xr.open_dataset(filelist[f])\n",
      "/glade/derecho/scratch/linnia/tmp/ipykernel_23796/4259583771.py:3: FutureWarning: In a future version of xarray decode_timedelta will default to False rather than None. To silence this warning, set decode_timedelta to True, False, or a 'CFTimedeltaCoder' instance.\n",
      "  par = xr.open_dataset(filelist[f])\n",
      "/glade/derecho/scratch/linnia/tmp/ipykernel_23796/4259583771.py:3: FutureWarning: In a future version of xarray decode_timedelta will default to False rather than None. To silence this warning, set decode_timedelta to True, False, or a 'CFTimedeltaCoder' instance.\n",
      "  par = xr.open_dataset(filelist[f])\n",
      "/glade/derecho/scratch/linnia/tmp/ipykernel_23796/4259583771.py:3: FutureWarning: In a future version of xarray decode_timedelta will default to False rather than None. To silence this warning, set decode_timedelta to True, False, or a 'CFTimedeltaCoder' instance.\n",
      "  par = xr.open_dataset(filelist[f])\n",
      "/glade/derecho/scratch/linnia/tmp/ipykernel_23796/4259583771.py:3: FutureWarning: In a future version of xarray decode_timedelta will default to False rather than None. To silence this warning, set decode_timedelta to True, False, or a 'CFTimedeltaCoder' instance.\n",
      "  par = xr.open_dataset(filelist[f])\n",
      "/glade/derecho/scratch/linnia/tmp/ipykernel_23796/4259583771.py:3: FutureWarning: In a future version of xarray decode_timedelta will default to False rather than None. To silence this warning, set decode_timedelta to True, False, or a 'CFTimedeltaCoder' instance.\n",
      "  par = xr.open_dataset(filelist[f])\n",
      "/glade/derecho/scratch/linnia/tmp/ipykernel_23796/4259583771.py:3: FutureWarning: In a future version of xarray decode_timedelta will default to False rather than None. To silence this warning, set decode_timedelta to True, False, or a 'CFTimedeltaCoder' instance.\n",
      "  par = xr.open_dataset(filelist[f])\n",
      "/glade/derecho/scratch/linnia/tmp/ipykernel_23796/4259583771.py:3: FutureWarning: In a future version of xarray decode_timedelta will default to False rather than None. To silence this warning, set decode_timedelta to True, False, or a 'CFTimedeltaCoder' instance.\n",
      "  par = xr.open_dataset(filelist[f])\n",
      "/glade/derecho/scratch/linnia/tmp/ipykernel_23796/4259583771.py:3: FutureWarning: In a future version of xarray decode_timedelta will default to False rather than None. To silence this warning, set decode_timedelta to True, False, or a 'CFTimedeltaCoder' instance.\n",
      "  par = xr.open_dataset(filelist[f])\n",
      "/glade/derecho/scratch/linnia/tmp/ipykernel_23796/4259583771.py:3: FutureWarning: In a future version of xarray decode_timedelta will default to False rather than None. To silence this warning, set decode_timedelta to True, False, or a 'CFTimedeltaCoder' instance.\n",
      "  par = xr.open_dataset(filelist[f])\n",
      "/glade/derecho/scratch/linnia/tmp/ipykernel_23796/4259583771.py:3: FutureWarning: In a future version of xarray decode_timedelta will default to False rather than None. To silence this warning, set decode_timedelta to True, False, or a 'CFTimedeltaCoder' instance.\n",
      "  par = xr.open_dataset(filelist[f])\n",
      "/glade/derecho/scratch/linnia/tmp/ipykernel_23796/4259583771.py:3: FutureWarning: In a future version of xarray decode_timedelta will default to False rather than None. To silence this warning, set decode_timedelta to True, False, or a 'CFTimedeltaCoder' instance.\n",
      "  par = xr.open_dataset(filelist[f])\n",
      "/glade/derecho/scratch/linnia/tmp/ipykernel_23796/4259583771.py:3: FutureWarning: In a future version of xarray decode_timedelta will default to False rather than None. To silence this warning, set decode_timedelta to True, False, or a 'CFTimedeltaCoder' instance.\n",
      "  par = xr.open_dataset(filelist[f])\n",
      "/glade/derecho/scratch/linnia/tmp/ipykernel_23796/4259583771.py:3: FutureWarning: In a future version of xarray decode_timedelta will default to False rather than None. To silence this warning, set decode_timedelta to True, False, or a 'CFTimedeltaCoder' instance.\n",
      "  par = xr.open_dataset(filelist[f])\n",
      "/glade/derecho/scratch/linnia/tmp/ipykernel_23796/4259583771.py:3: FutureWarning: In a future version of xarray decode_timedelta will default to False rather than None. To silence this warning, set decode_timedelta to True, False, or a 'CFTimedeltaCoder' instance.\n",
      "  par = xr.open_dataset(filelist[f])\n",
      "/glade/derecho/scratch/linnia/tmp/ipykernel_23796/4259583771.py:3: FutureWarning: In a future version of xarray decode_timedelta will default to False rather than None. To silence this warning, set decode_timedelta to True, False, or a 'CFTimedeltaCoder' instance.\n",
      "  par = xr.open_dataset(filelist[f])\n",
      "/glade/derecho/scratch/linnia/tmp/ipykernel_23796/4259583771.py:3: FutureWarning: In a future version of xarray decode_timedelta will default to False rather than None. To silence this warning, set decode_timedelta to True, False, or a 'CFTimedeltaCoder' instance.\n",
      "  par = xr.open_dataset(filelist[f])\n"
     ]
    },
    {
     "ename": "IndexError",
     "evalue": "index 30 is out of bounds for axis 0 with size 30",
     "output_type": "error",
     "traceback": [
      "\u001b[0;31m---------------------------------------------------------------------------\u001b[0m",
      "\u001b[0;31mIndexError\u001b[0m                                Traceback (most recent call last)",
      "Cell \u001b[0;32mIn[18], line 6\u001b[0m\n\u001b[1;32m      4\u001b[0m \u001b[38;5;28;01mfor\u001b[39;00m i,p \u001b[38;5;129;01min\u001b[39;00m \u001b[38;5;28menumerate\u001b[39m([\u001b[38;5;124m'\u001b[39m\u001b[38;5;124mbsw_sf\u001b[39m\u001b[38;5;124m'\u001b[39m,\u001b[38;5;124m'\u001b[39m\u001b[38;5;124mhksat_sf\u001b[39m\u001b[38;5;124m'\u001b[39m,\u001b[38;5;124m'\u001b[39m\u001b[38;5;124mwatsat_sf\u001b[39m\u001b[38;5;124m'\u001b[39m]):\n\u001b[1;32m      5\u001b[0m     val \u001b[38;5;241m=\u001b[39m par[p]\n\u001b[0;32m----> 6\u001b[0m     \u001b[43mcheck\u001b[49m\u001b[43m[\u001b[49m\u001b[43mj\u001b[49m\u001b[43m,\u001b[49m\u001b[43mi\u001b[49m\u001b[43m]\u001b[49m \u001b[38;5;241m=\u001b[39m val\n",
      "\u001b[0;31mIndexError\u001b[0m: index 30 is out of bounds for axis 0 with size 30"
     ]
    }
   ],
   "source": [
    "check = np.empty([30,3])\n",
    "for j,f in enumerate(range(50)):\n",
    "    par = xr.open_dataset(filelist[f])\n",
    "    for i,p in enumerate(['bsw_sf','hksat_sf','watsat_sf']):\n",
    "        val = par[p]\n",
    "        check[j,i] = val"
   ]
  },
  {
   "cell_type": "code",
   "execution_count": 20,
   "id": "a98cbd32-6588-4a0e-a747-c951777bbc07",
   "metadata": {},
   "outputs": [
    {
     "data": {
      "text/plain": [
       "<matplotlib.collections.PathCollection at 0x152ab3a2ed70>"
      ]
     },
     "execution_count": 20,
     "metadata": {},
     "output_type": "execute_result"
    },
    {
     "data": {
      "image/png": "[encoded data removed]",
      "text/plain": [
       "<Figure size 640x480 with 1 Axes>"
      ]
     },
     "metadata": {},
     "output_type": "display_data"
    }
   ],
   "source": [
    "plt.scatter(check[:,0],check[:,2])"
   ]
  },
  {
   "cell_type": "code",
   "execution_count": null,
   "id": "37fb975c-0ebc-4b5b-a52d-c3279552f4a2",
   "metadata": {},
   "outputs": [],
   "source": []
  },
  {
   "cell_type": "code",
   "execution_count": null,
   "id": "49e90eb2-5adc-470c-9009-669374e94c40",
   "metadata": {},
   "outputs": [],
   "source": []
  }
 ],
 "metadata": {
  "kernelspec": {
   "display_name": "Python [conda env:mlenv]",
   "language": "python",
   "name": "conda-env-mlenv-py"
  },
  "language_info": {
   "codemirror_mode": {
    "name": "ipython",
    "version": 3
   },
   "file_extension": ".py",
   "mimetype": "text/x-python",
   "name": "python",
   "nbconvert_exporter": "python",
   "pygments_lexer": "ipython3",
   "version": "3.10.16"
  }
 },
 "nbformat": 4,
 "nbformat_minor": 5
}
