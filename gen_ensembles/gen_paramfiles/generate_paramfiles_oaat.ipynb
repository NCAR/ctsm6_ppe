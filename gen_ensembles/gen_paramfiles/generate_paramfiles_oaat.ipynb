{
 "cells": [
  {
   "cell_type": "markdown",
   "id": "encouraging-carnival",
   "metadata": {},
   "source": [
    "# CLM6-BGC OAAT parameter ensemble\n",
    "- generates paramfiles and namelist_mods for the OAAT experiments\n",
    "- leverages ppe-tools to write out the files\n",
    "- written with community-derived ensemble ranges:\n",
    "    -https://docs.google.com/spreadsheets/d/1R0AybNR0YAmMDjRqp9oyUffDhKeAWv1QF4yWTHqiXXM/edit?usp=drive_link\n",
    "- Katie Dagon (kdagon@ucar.edu) and Daniel Kennedy (djk2120@ucar.edu) and Linnia Hawkins (lh3194@columbia.edu)"
   ]
  },
  {
   "cell_type": "code",
   "execution_count": 1,
   "id": "immediate-movie",
   "metadata": {},
   "outputs": [],
   "source": [
    "import numpy as np\n",
    "from ppe_tools import Ensemble,Member,ParamInfo\n",
    "from ppe_tools.utils import get_default, parse_val\n",
    "import xarray as xr\n",
    "import os\n",
    "import pandas as pd\n",
    "import glob"
   ]
  },
  {
   "cell_type": "code",
   "execution_count": 2,
   "id": "ff3bb1cd-3522-4651-83a2-e92542674e60",
   "metadata": {},
   "outputs": [],
   "source": [
    "# Load file with parameter ranges\n",
    "csv='clm6oaat_paramranges_10252024.csv'\n",
    "params = pd.read_csv(csv)\n",
    "params = params[params['include'] == 1]"
   ]
  },
  {
   "cell_type": "code",
   "execution_count": 5,
   "id": "explicit-craps",
   "metadata": {},
   "outputs": [],
   "source": [
    "# default parameter file to start with\n",
    "basefile = '/glade/work/linnia/ctsm5.3.0/cime/scripts/transient/runtime_files/ctsm60_params.c241007.nc'\n",
    "# where the parameter files and namelist mods should be written to:\n",
    "pdir = '/glade/work/linnia/CLM6-PPE/CLM6_miniOAAT/paramfiles/'\n",
    "ndir = '/glade/work/linnia/CLM6-PPE/CLM6_miniOAAT/namelist_mods/'\n",
    "#instantiate the Ensemble object\n",
    "x    = Ensemble(basefile,pdir,ndir)"
   ]
  },
  {
   "cell_type": "code",
   "execution_count": 3,
   "id": "8488c983-6ecd-4dcc-8a72-839580aa1dc8",
   "metadata": {},
   "outputs": [],
   "source": [
    "#create dictionary for the independent parameters \n",
    "oaats = {}\n",
    "names = params['name']\n",
    "flags = params['flag']\n",
    "for name,flag in zip(names,flags):\n",
    "        if not pd.notnull(flag):\n",
    "            ix = params['name']==name\n",
    "            minval = params['min'][ix].values[0]\n",
    "            maxval = params['max'][ix].values[0]\n",
    "            pftmin = params['pft_mins'][ix].values[0]\n",
    "            pftmax = params['pft_maxs'][ix].values[0]\n",
    "            thisloc = params['loc'][ix].values[0]\n",
    "\n",
    "            needs_pft = (minval=='pft')\n",
    "            if needs_pft:\n",
    "                thismin = np.zeros((79))\n",
    "                thismin[0:17] = np.fromstring(pftmin, dtype='float', sep=',')\n",
    "            elif 'percent' in minval:\n",
    "                thismin = minval\n",
    "            else:\n",
    "                thismin = np.array(float(minval))\n",
    "\n",
    "            needs_pft = (maxval=='pft')\n",
    "            if needs_pft:\n",
    "                thismax = np.zeros((79))\n",
    "                thismax[0:17] = np.fromstring(pftmax, dtype='float', sep=',')\n",
    "            elif 'percent' in maxval:\n",
    "                thismax = maxval\n",
    "            else:\n",
    "                thismax = np.array(float(maxval))\n",
    "\n",
    "            oaats[name]={'min':thismin,'max':thismax,'loc':thisloc}\n"
   ]
  },
  {
   "cell_type": "code",
   "execution_count": 6,
   "id": "german-westminster",
   "metadata": {},
   "outputs": [
    {
     "name": "stdout",
     "output_type": "stream",
     "text": [
      "interception_fraction-max looks BFB.... skipping\n",
      "accum_factor-min looks BFB.... skipping\n",
      "snw_rds_refrz-max looks BFB.... skipping\n",
      "decomp_depth_efolding-max looks BFB.... skipping\n",
      "bgc_rf_s2s1-min looks BFB.... skipping\n"
     ]
    }
   ],
   "source": [
    "#add to the Ensemble object\n",
    "prefix = 'oaat'\n",
    "nextnum=0000\n",
    "x.add_oaats(oaats,prefix,nextnum,skipBFB=True)"
   ]
  },
  {
   "cell_type": "code",
   "execution_count": null,
   "id": "3b0070c7-f4cc-456f-a6f9-1013c26eb4e4",
   "metadata": {},
   "outputs": [],
   "source": [
    "#add params that move in unison to the Ensemble object\n",
    "flags = params['flag']\n",
    "ix = pd.notnull(params['flag'])\n",
    "uflags = pd.unique(flags[ix])\n",
    "sgns = {'min':'-','max':''}\n",
    "for uflag in uflags:\n",
    "    names = params['name'][flags==uflag]\n",
    "    for minmax in ['min','max']:\n",
    "        mf = {}\n",
    "        \n",
    "        for name in names:\n",
    "            ix = params['name']==name\n",
    "\n",
    "            thisval = params[minmax][ix].values[0]\n",
    "            pftval  = params['pft_'+minmax+'s'][ix].values[0]\n",
    "            thisloc = params['loc'][ix].values[0]\n",
    "\n",
    "            needs_pft = (thisval=='pft')\n",
    "            if needs_pft:\n",
    "                val = np.fromstring(pftval, dtype='float', sep=',')\n",
    "            elif 'percent' in thisval:\n",
    "                val = sgns[minmax]+thisval\n",
    "            else:\n",
    "                val = np.array(float(thisval))\n",
    "\n",
    "            mf[name] = {'value':val,'loc':thisloc,'minmax':minmax,'flag':uflag}\n",
    "\n",
    "        x.add_mf(mf,'oaat')\n"
   ]
  },
  {
   "cell_type": "code",
   "execution_count": 7,
   "id": "9550acaf-0d10-47e0-a6d1-33a1b0499e45",
   "metadata": {},
   "outputs": [],
   "source": [
    "# write the parameter files and namelist mods \n",
    "csvfile= '/glade/work/linnia/CLM6-PPE/CLM6_miniOAAT/clm6_minioaat.csv'\n",
    "x.write(oaatfile=csvfile)"
   ]
  },
  {
   "cell_type": "code",
   "execution_count": null,
   "id": "a959ac01-d1ae-4a6d-a776-a3965e318d66",
   "metadata": {},
   "outputs": [],
   "source": []
  }
 ],
 "metadata": {
  "kernelspec": {
   "display_name": "Python [conda env:miniconda3-ppe-py]",
   "language": "python",
   "name": "conda-env-miniconda3-ppe-py-py"
  },
  "language_info": {
   "codemirror_mode": {
    "name": "ipython",
    "version": 3
   },
   "file_extension": ".py",
   "mimetype": "text/x-python",
   "name": "python",
   "nbconvert_exporter": "python",
   "pygments_lexer": "ipython3",
   "version": "3.7.12"
  }
 },
 "nbformat": 4,
 "nbformat_minor": 5
}
