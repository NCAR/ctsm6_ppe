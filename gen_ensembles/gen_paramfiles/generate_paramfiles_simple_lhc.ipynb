{
 "cells": [
  {
   "cell_type": "markdown",
   "id": "4eb0f519-3ca1-4026-a296-297829792b61",
   "metadata": {},
   "source": [
    "### Simple option to generate parameter files"
   ]
  },
  {
   "cell_type": "code",
   "execution_count": 1,
   "id": "2e3db57f-246e-4023-8aca-b5f8df76e071",
   "metadata": {},
   "outputs": [],
   "source": [
    "import numpy as np\n",
    "import xarray as xr\n",
    "import pandas as pd\n",
    "import os\n",
    "import glob\n",
    "from skopt.space import Space\n",
    "from skopt.sampler import Lhs"
   ]
  },
  {
   "cell_type": "code",
   "execution_count": 2,
   "id": "785d0e39-9f18-40ef-addd-e59828d1fe7a",
   "metadata": {},
   "outputs": [],
   "source": [
    "def get_param_values(percentile,range_info):\n",
    "    minval           = range_info['min']\n",
    "    maxval           = range_info['max']\n",
    "    value            = minval+(maxval-minval)*percentile\n",
    "    \n",
    "    return value"
   ]
  },
  {
   "cell_type": "code",
   "execution_count": 3,
   "id": "0f44b68b-a03a-44db-a859-3e9e112916a3",
   "metadata": {},
   "outputs": [],
   "source": [
    "# Load file with parameter ranges\n",
    "csv='ex_param_ranges.txt'\n",
    "range_info = pd.read_csv(csv)"
   ]
  },
  {
   "cell_type": "code",
   "execution_count": 4,
   "id": "7a53e305-8895-4def-a50f-5e46a660b7bd",
   "metadata": {},
   "outputs": [],
   "source": [
    "# where do you want to save the parameter files?\n",
    "out_dir = './tmp/'"
   ]
  },
  {
   "cell_type": "code",
   "execution_count": 5,
   "id": "55fb5c47-6815-4a9a-af69-d0bd820c5692",
   "metadata": {},
   "outputs": [],
   "source": [
    "# default parameter file to start with:\n",
    "basefile = '/glade/derecho/scratch/krocci/CedarCreekInputs/modified_inputs/ctsm60_params.c240208.nc'\n",
    "def_paramfile = xr.open_dataset(basefile)"
   ]
  },
  {
   "cell_type": "code",
   "execution_count": 6,
   "id": "1430d1ef-8dcb-44fd-80e3-56f978711181",
   "metadata": {},
   "outputs": [],
   "source": [
    "# get latin hypercube sample\n",
    "n_samples = 5\n",
    "n_params=3\n",
    "space = Space([(0.,1.) for p in range_info.param])\n",
    "lhs = Lhs(lhs_type=\"classic\", criterion='maximin')\n",
    "lhc = lhs.generate(space.dimensions, n_samples)"
   ]
  },
  {
   "cell_type": "code",
   "execution_count": 7,
   "id": "dd29a8e2-70e6-4172-bdca-9d5d9b48c8c0",
   "metadata": {},
   "outputs": [],
   "source": [
    "# get true parameter values\n",
    "true_params = np.empty([n_samples,n_params])\n",
    "for i in range(n_samples):\n",
    "    true_params[i,:] = get_param_values(lhc[i],range_info)"
   ]
  },
  {
   "cell_type": "code",
   "execution_count": 8,
   "id": "d8de0bdc-9bb9-40dd-a447-9731fee5e374",
   "metadata": {
    "scrolled": true
   },
   "outputs": [],
   "source": [
    "# write param files\n",
    "exp_name = 'lhc'\n",
    "for ens in range(1,n_samples+1):\n",
    "    new_paramfile = def_paramfile.copy()\n",
    "    for p in range(n_params):\n",
    "        param_name = range_info['param'][p]\n",
    "        new_paramfile[param_name].data = true_params[ens,p]\n",
    "\n",
    "    new_paramfile.to_netcdf(out_dir+exp_name+str(f\"{ens:03}\")+'.nc')\n",
    "    "
   ]
  },
  {
   "cell_type": "code",
   "execution_count": null,
   "id": "5a52ae3b-3597-4915-b737-9820afa10482",
   "metadata": {},
   "outputs": [],
   "source": []
  },
  {
   "cell_type": "code",
   "execution_count": null,
   "id": "0bf63b11-4adc-4a60-8d95-38378b641ea7",
   "metadata": {},
   "outputs": [],
   "source": []
  }
 ],
 "metadata": {
  "kernelspec": {
   "display_name": "Python [conda env:miniconda3-ppe-py]",
   "language": "python",
   "name": "conda-env-miniconda3-ppe-py-py"
  },
  "language_info": {
   "codemirror_mode": {
    "name": "ipython",
    "version": 3
   },
   "file_extension": ".py",
   "mimetype": "text/x-python",
   "name": "python",
   "nbconvert_exporter": "python",
   "pygments_lexer": "ipython3",
   "version": "3.7.12"
  }
 },
 "nbformat": 4,
 "nbformat_minor": 5
}
