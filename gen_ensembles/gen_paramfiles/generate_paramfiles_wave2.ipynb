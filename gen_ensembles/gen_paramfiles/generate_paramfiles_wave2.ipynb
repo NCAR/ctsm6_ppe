{
 "cells": [
  {
   "cell_type": "code",
   "execution_count": 4,
   "id": "f50867e0-5ab8-4b9d-b9a8-32c92677d099",
   "metadata": {},
   "outputs": [],
   "source": [
    "import numpy as np\n",
    "import xarray as xr\n",
    "import os\n",
    "import pandas as pd\n",
    "import glob"
   ]
  },
  {
   "cell_type": "code",
   "execution_count": 5,
   "id": "99d6d68a-4510-4377-a457-cd2c194a8a67",
   "metadata": {},
   "outputs": [],
   "source": [
    "import sys ; sys.path.append(\"../..\")\n",
    "from ppe_tools import *"
   ]
  },
  {
   "cell_type": "code",
   "execution_count": 6,
   "id": "af44572a-0e21-43ff-ba32-b3628a319d72",
   "metadata": {},
   "outputs": [],
   "source": [
    "# set directories\n",
    "exp_dir = '/glade/work/linnia/CLM6-PPE/ctsm6_wave2/'"
   ]
  },
  {
   "cell_type": "markdown",
   "id": "6e4d19f2-6f13-4f5c-bfc3-cda632362dfa",
   "metadata": {},
   "source": [
    "### 1. Define Parameters and Ranges"
   ]
  },
  {
   "cell_type": "code",
   "execution_count": 7,
   "id": "915b9226-20e4-42bb-9665-4d0732607b20",
   "metadata": {},
   "outputs": [],
   "source": [
    "csv='ctsm6lhc_paramranges_11262024.csv'\n",
    "df = pd.read_csv(csv)\n",
    "df_main = df[df['include'] == 1]\n",
    "df_flagged = df[df['include'] == 0]\n",
    "params=df_main['param'].values\n",
    "flags = df_main['flag']"
   ]
  },
  {
   "cell_type": "code",
   "execution_count": 8,
   "id": "7390a3e1-733e-4176-bde5-df9a0d5061b5",
   "metadata": {},
   "outputs": [],
   "source": [
    "# grouped parameters\n",
    "KCN=['kc_nonmyc','kn_nonmyc','akc_active','akn_active','ekc_active','ekn_active']\n",
    "ACCLIM_SF=['vcmaxse_sf','jmaxse_sf','tpuse_sf']\n",
    "TAU = ['bgc_tau_s1','bgc_tau_s2','bgc_tau_s3']\n",
    "RF_LS = ['bgc_rf_l1s1','bgc_rf_l2s1','bgc_rf_l3s2']\n",
    "RF_SS = ['bgc_rf_s2s1', 'bgc_rf_s2s3', 'bgc_rf_s3s1']\n",
    "RF_CWD = ['rf_cwdl2', 'bgc_rf_cwdl3']\n",
    "\n",
    "flagged_dict = {'KCN':KCN,'ACCLIM_SF':ACCLIM_SF,'TAU':TAU,'RF_LS':RF_LS,'RF_SS':RF_SS,'RF_CWD':RF_CWD}"
   ]
  },
  {
   "cell_type": "markdown",
   "id": "eb7c9a12-b3c6-46d0-a57c-07d8731b8bc4",
   "metadata": {},
   "source": [
    "### 2. Build Parameter Dictionary"
   ]
  },
  {
   "cell_type": "code",
   "execution_count": 9,
   "id": "e29bcbc8-8aaa-435f-9e67-5ccf38dd4b70",
   "metadata": {},
   "outputs": [],
   "source": [
    "def get_minmax(df,p):\n",
    "    ix       = df['param']==p\n",
    "    minval   = df['min'][ix].values[0]\n",
    "    maxval   = df['max'][ix].values[0]\n",
    "    pftmin   = df['pft_mins'][ix].values[0]\n",
    "    pftmax   = df['pft_maxs'][ix].values[0]\n",
    "    thisloc  = df['loc'][ix].values[0]\n",
    "\n",
    "    needs_pft = (minval=='pft')\n",
    "    if needs_pft:\n",
    "        thismin = np.zeros((79))\n",
    "        thismin[0:17] = np.fromstring(pftmin, dtype='float', sep=',')\n",
    "    elif 'percent' in minval:\n",
    "        thismin = minval\n",
    "    else:\n",
    "        thismin = np.array(float(minval))\n",
    "\n",
    "    needs_pft = (maxval=='pft')\n",
    "    if needs_pft:\n",
    "        thismax = np.zeros((79))\n",
    "        thismax[0:17] = np.fromstring(pftmax, dtype='float', sep=',')\n",
    "    elif 'percent' in maxval:\n",
    "        thismax = maxval\n",
    "    else:\n",
    "        thismax = np.array(float(maxval))\n",
    "\n",
    "    return thismin, thismax, thisloc"
   ]
  },
  {
   "cell_type": "code",
   "execution_count": 10,
   "id": "b5d990ca-58cd-4923-b59f-06d468546762",
   "metadata": {},
   "outputs": [],
   "source": [
    "lhcs = {}\n",
    "for param,flag in zip(params,flags):\n",
    "    \n",
    "    if not pd.notnull(flag):\n",
    "        thismin,thismax,thisloc = get_minmax(df,param)\n",
    "        lhcs[param]={'min':thismin,'max':thismax,'loc':thisloc,'flagged':[]}\n",
    "    else:\n",
    "        flagged={}\n",
    "        for p in flagged_dict[param]:\n",
    "            thismin,thismax,thisloc = get_minmax(df_flagged,p)\n",
    "            flagged[p]={'min':thismin,'max':thismax,'loc':thisloc}\n",
    "        lhcs[param]={'min':[],'max':[],'loc':thisloc,'flagged':flagged}"
   ]
  },
  {
   "cell_type": "markdown",
   "id": "c42c4b67-15e6-441a-89a1-d8c41cc35111",
   "metadata": {},
   "source": [
    "###  3. Load parameter sets"
   ]
  },
  {
   "cell_type": "code",
   "execution_count": 11,
   "id": "cd00d639-1b44-4533-ad45-82906a6dcf49",
   "metadata": {},
   "outputs": [],
   "source": [
    "# Load parameter sets from dictionary\n",
    "num_paramsets = 500 # set the number of ensemble members \n",
    "psets_dict = np.load('/glade/u/home/linnia/ctsm6_ppe/analysis_lhc/wave2_biome/params/wave2_paramsets_041325.npy',allow_pickle='TRUE').item()\n",
    "\n",
    "def get_p_dict(p,i):\n",
    "    return psets_dict[p][i]\n",
    "\n",
    "exp=[[get_p_dict(p,i) for p in lhcs] for i in range(num_paramsets)]"
   ]
  },
  {
   "cell_type": "markdown",
   "id": "7d600ad8-4f1b-46f5-bf85-0684ec1c8378",
   "metadata": {},
   "source": [
    "### 4. Create the Ensemble Object"
   ]
  },
  {
   "cell_type": "code",
   "execution_count": 12,
   "id": "04571686-bafb-48d1-8014-eecb4fa0eaa4",
   "metadata": {},
   "outputs": [],
   "source": [
    "# 4a. instantiate the Ensemble object\n",
    "basefile = '/glade/work/linnia/CLM6-PPE/ctsm6_lhc/paramfiles/lhc0000.nc'\n",
    "pdir = exp_dir + 'paramfiles/'\n",
    "ndir = exp_dir + 'namelist_mods/'\n",
    "x    = Ensemble(basefile,pdir,ndir)\n",
    "\n",
    "# 4b. add the new ensemble members\n",
    "prefix = 'wave2'   #make your own prefix\n",
    "nextnum=1\n",
    "x.add_lhcs(lhcs,prefix,nextnum,num_paramsets,lhc=exp) "
   ]
  },
  {
   "cell_type": "markdown",
   "id": "a2561ffd-4bda-4ecb-ab02-c19fa823b59e",
   "metadata": {},
   "source": [
    "### 5. Write the param_files"
   ]
  },
  {
   "cell_type": "code",
   "execution_count": 13,
   "id": "d8c7d05f-7bf4-4490-9a68-f2c84c437c3a",
   "metadata": {},
   "outputs": [],
   "source": [
    "paramset_file = exp_dir + 'ctsm6wave2_04132025.txt'\n",
    "x.write(lhcfile=paramset_file)"
   ]
  },
  {
   "cell_type": "code",
   "execution_count": 14,
   "id": "116c0a57",
   "metadata": {},
   "outputs": [
    {
     "name": "stdout",
     "output_type": "stream",
     "text": [
      "  File: /glade/work/linnia/CLM6-PPE/ctsm6_wave2/ctsm6wave2_04132025.txt\n",
      "  Size: 6491511   \tBlocks: 12704      IO Block: 8388608 regular file\n",
      "Device: 42h/66d\tInode: 1650111638  Links: 1\n",
      "Access: (0644/-rw-r--r--)  Uid: (35240/  linnia)   Gid: ( 1000/    ncar)\n",
      "Access: 2025-04-13 09:19:45.517299000 -0600\n",
      "Modify: 2025-04-13 09:19:47.661014768 -0600\n",
      "Change: 2025-04-13 09:19:47.661014768 -0600\n",
      " Birth: -\n"
     ]
    }
   ],
   "source": [
    "%%bash -s \"$paramset_file\"\n",
    "# Check that the file was created\n",
    "paramset_file=$1 \n",
    "\n",
    "stat $paramset_file"
   ]
  },
  {
   "cell_type": "markdown",
   "id": "7d125301-a96c-4bde-aeb6-73f57af21334",
   "metadata": {},
   "source": [
    "### 6. Sanity Check"
   ]
  },
  {
   "cell_type": "code",
   "execution_count": 12,
   "id": "833389d8-7fbf-4d6e-871f-cacb4e41a8af",
   "metadata": {},
   "outputs": [],
   "source": [
    "import matplotlib.pyplot as plt"
   ]
  },
  {
   "cell_type": "code",
   "execution_count": 13,
   "id": "f01879de-ca92-44e5-822e-bc8b55ecdc23",
   "metadata": {},
   "outputs": [],
   "source": [
    "in_dir = exp_dir + 'paramfiles/'\n",
    "filelist= np.sort(glob.glob(os.path.join(in_dir, '*')))"
   ]
  },
  {
   "cell_type": "code",
   "execution_count": 16,
   "id": "f6ebd491-01e4-4cd1-8f6b-6cd09ee09533",
   "metadata": {},
   "outputs": [
    {
     "ename": "ValueError",
     "evalue": "did not find a match in any of xarray's currently installed IO backends ['netcdf4', 'scipy', 'rasterio']. Consider explicitly selecting one of the installed engines via the ``engine`` parameter, or installing additional IO dependencies, see:\nhttps://docs.xarray.dev/en/stable/getting-started-guide/installing.html\nhttps://docs.xarray.dev/en/stable/user-guide/io.html",
     "output_type": "error",
     "traceback": [
      "\u001b[0;31m---------------------------------------------------------------------------\u001b[0m",
      "\u001b[0;31mValueError\u001b[0m                                Traceback (most recent call last)",
      "Cell \u001b[0;32mIn[16], line 3\u001b[0m\n\u001b[1;32m      1\u001b[0m check \u001b[38;5;241m=\u001b[39m np\u001b[38;5;241m.\u001b[39mempty([\u001b[38;5;241m20\u001b[39m,\u001b[38;5;241m3\u001b[39m])\n\u001b[1;32m      2\u001b[0m \u001b[38;5;28;01mfor\u001b[39;00m j,f \u001b[38;5;129;01min\u001b[39;00m \u001b[38;5;28menumerate\u001b[39m(\u001b[38;5;28mrange\u001b[39m(\u001b[38;5;241m20\u001b[39m)):\n\u001b[0;32m----> 3\u001b[0m     par \u001b[38;5;241m=\u001b[39m \u001b[43mxr\u001b[49m\u001b[38;5;241;43m.\u001b[39;49m\u001b[43mopen_dataset\u001b[49m\u001b[43m(\u001b[49m\u001b[43mfilelist\u001b[49m\u001b[43m[\u001b[49m\u001b[43mf\u001b[49m\u001b[43m]\u001b[49m\u001b[43m)\u001b[49m\n\u001b[1;32m      4\u001b[0m     \u001b[38;5;28;01mfor\u001b[39;00m i,p \u001b[38;5;129;01min\u001b[39;00m \u001b[38;5;28menumerate\u001b[39m([\u001b[38;5;124m'\u001b[39m\u001b[38;5;124mbsw_sf\u001b[39m\u001b[38;5;124m'\u001b[39m,\u001b[38;5;124m'\u001b[39m\u001b[38;5;124mhksat_sf\u001b[39m\u001b[38;5;124m'\u001b[39m,\u001b[38;5;124m'\u001b[39m\u001b[38;5;124mwatsat_sf\u001b[39m\u001b[38;5;124m'\u001b[39m]):\n\u001b[1;32m      5\u001b[0m         val \u001b[38;5;241m=\u001b[39m par[p]\n",
      "File \u001b[0;32m/glade/work/linnia/conda-envs/mlenv/lib/python3.10/site-packages/xarray/backends/api.py:667\u001b[0m, in \u001b[0;36mopen_dataset\u001b[0;34m(filename_or_obj, engine, chunks, cache, decode_cf, mask_and_scale, decode_times, decode_timedelta, use_cftime, concat_characters, decode_coords, drop_variables, inline_array, chunked_array_type, from_array_kwargs, backend_kwargs, **kwargs)\u001b[0m\n\u001b[1;32m    664\u001b[0m     kwargs\u001b[38;5;241m.\u001b[39mupdate(backend_kwargs)\n\u001b[1;32m    666\u001b[0m \u001b[38;5;28;01mif\u001b[39;00m engine \u001b[38;5;129;01mis\u001b[39;00m \u001b[38;5;28;01mNone\u001b[39;00m:\n\u001b[0;32m--> 667\u001b[0m     engine \u001b[38;5;241m=\u001b[39m \u001b[43mplugins\u001b[49m\u001b[38;5;241;43m.\u001b[39;49m\u001b[43mguess_engine\u001b[49m\u001b[43m(\u001b[49m\u001b[43mfilename_or_obj\u001b[49m\u001b[43m)\u001b[49m\n\u001b[1;32m    669\u001b[0m \u001b[38;5;28;01mif\u001b[39;00m from_array_kwargs \u001b[38;5;129;01mis\u001b[39;00m \u001b[38;5;28;01mNone\u001b[39;00m:\n\u001b[1;32m    670\u001b[0m     from_array_kwargs \u001b[38;5;241m=\u001b[39m {}\n",
      "File \u001b[0;32m/glade/work/linnia/conda-envs/mlenv/lib/python3.10/site-packages/xarray/backends/plugins.py:194\u001b[0m, in \u001b[0;36mguess_engine\u001b[0;34m(store_spec)\u001b[0m\n\u001b[1;32m    186\u001b[0m \u001b[38;5;28;01melse\u001b[39;00m:\n\u001b[1;32m    187\u001b[0m     error_msg \u001b[38;5;241m=\u001b[39m (\n\u001b[1;32m    188\u001b[0m         \u001b[38;5;124m\"\u001b[39m\u001b[38;5;124mfound the following matches with the input file in xarray\u001b[39m\u001b[38;5;124m'\u001b[39m\u001b[38;5;124ms IO \u001b[39m\u001b[38;5;124m\"\u001b[39m\n\u001b[1;32m    189\u001b[0m         \u001b[38;5;124mf\u001b[39m\u001b[38;5;124m\"\u001b[39m\u001b[38;5;124mbackends: \u001b[39m\u001b[38;5;132;01m{\u001b[39;00mcompatible_engines\u001b[38;5;132;01m}\u001b[39;00m\u001b[38;5;124m. But their dependencies may not be installed, see:\u001b[39m\u001b[38;5;130;01m\\n\u001b[39;00m\u001b[38;5;124m\"\u001b[39m\n\u001b[1;32m    190\u001b[0m         \u001b[38;5;124m\"\u001b[39m\u001b[38;5;124mhttps://docs.xarray.dev/en/stable/user-guide/io.html \u001b[39m\u001b[38;5;130;01m\\n\u001b[39;00m\u001b[38;5;124m\"\u001b[39m\n\u001b[1;32m    191\u001b[0m         \u001b[38;5;124m\"\u001b[39m\u001b[38;5;124mhttps://docs.xarray.dev/en/stable/getting-started-guide/installing.html\u001b[39m\u001b[38;5;124m\"\u001b[39m\n\u001b[1;32m    192\u001b[0m     )\n\u001b[0;32m--> 194\u001b[0m \u001b[38;5;28;01mraise\u001b[39;00m \u001b[38;5;167;01mValueError\u001b[39;00m(error_msg)\n",
      "\u001b[0;31mValueError\u001b[0m: did not find a match in any of xarray's currently installed IO backends ['netcdf4', 'scipy', 'rasterio']. Consider explicitly selecting one of the installed engines via the ``engine`` parameter, or installing additional IO dependencies, see:\nhttps://docs.xarray.dev/en/stable/getting-started-guide/installing.html\nhttps://docs.xarray.dev/en/stable/user-guide/io.html"
     ]
    }
   ],
   "source": [
    "check = np.empty([20,3])\n",
    "for j,f in enumerate(range(20)):\n",
    "    par = xr.open_dataset(filelist[f])\n",
    "    for i,p in enumerate(['bsw_sf','hksat_sf','watsat_sf']):\n",
    "        val = par[p]\n",
    "        check[j,i] = val"
   ]
  },
  {
   "cell_type": "code",
   "execution_count": 39,
   "id": "a98cbd32-6588-4a0e-a747-c951777bbc07",
   "metadata": {},
   "outputs": [
    {
     "data": {
      "text/plain": [
       "<matplotlib.collections.PathCollection at 0x14fcbae218d0>"
      ]
     },
     "execution_count": 39,
     "metadata": {},
     "output_type": "execute_result"
    },
    {
     "data": {
      "image/png": "[encoded data removed]",
      "text/plain": [
       "<Figure size 640x480 with 1 Axes>"
      ]
     },
     "metadata": {},
     "output_type": "display_data"
    }
   ],
   "source": [
    "plt.scatter(check[:,0],check[:,2])"
   ]
  },
  {
   "cell_type": "code",
   "execution_count": null,
   "id": "37fb975c-0ebc-4b5b-a52d-c3279552f4a2",
   "metadata": {},
   "outputs": [],
   "source": []
  },
  {
   "cell_type": "code",
   "execution_count": null,
   "id": "49e90eb2-5adc-470c-9009-669374e94c40",
   "metadata": {},
   "outputs": [],
   "source": []
  }
 ],
 "metadata": {
  "kernelspec": {
   "display_name": "Python [conda env:mlenv]",
   "language": "python",
   "name": "conda-env-mlenv-py"
  },
  "language_info": {
   "codemirror_mode": {
    "name": "ipython",
    "version": 3
   },
   "file_extension": ".py",
   "mimetype": "text/x-python",
   "name": "python",
   "nbconvert_exporter": "python",
   "pygments_lexer": "ipython3",
   "version": "3.10.16"
  }
 },
 "nbformat": 4,
 "nbformat_minor": 5
}
