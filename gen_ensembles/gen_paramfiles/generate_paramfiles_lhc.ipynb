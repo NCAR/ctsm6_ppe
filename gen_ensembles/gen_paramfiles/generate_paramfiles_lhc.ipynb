{
 "cells": [
  {
   "cell_type": "code",
   "execution_count": 1,
   "id": "f50867e0-5ab8-4b9d-b9a8-32c92677d099",
   "metadata": {},
   "outputs": [],
   "source": [
    "import numpy as np\n",
    "import xarray as xr\n",
    "import os\n",
    "import pandas as pd\n",
    "import glob"
   ]
  },
  {
   "cell_type": "code",
   "execution_count": 2,
   "id": "99d6d68a-4510-4377-a457-cd2c194a8a67",
   "metadata": {},
   "outputs": [],
   "source": [
    "import sys ; sys.path.append(\"../..\")\n",
    "from ppe_tools import *"
   ]
  },
  {
   "cell_type": "code",
   "execution_count": 3,
   "id": "af44572a-0e21-43ff-ba32-b3628a319d72",
   "metadata": {},
   "outputs": [],
   "source": [
    "# set directories\n",
    "exp_dir = '/glade/work/linnia/CLM6-PPE/ctsm6_lhc/'"
   ]
  },
  {
   "cell_type": "markdown",
   "id": "6e4d19f2-6f13-4f5c-bfc3-cda632362dfa",
   "metadata": {},
   "source": [
    "### 1. Define Parameters and Ranges"
   ]
  },
  {
   "cell_type": "code",
   "execution_count": 7,
   "id": "9c639bd1-83c2-4bbb-b508-d669adfca37b",
   "metadata": {},
   "outputs": [],
   "source": [
    "csv='ctsm6lhc_paramranges_11252024.csv'"
   ]
  },
  {
   "cell_type": "code",
   "execution_count": 8,
   "id": "915b9226-20e4-42bb-9665-4d0732607b20",
   "metadata": {},
   "outputs": [
    {
     "data": {
      "text/plain": [
       "array(['kmax', 'psi50', 'jmaxb0', 'jmaxb1', 'wc2wjb0', 'slatop', 'grperc',\n",
       "       'lmr_intercept_atkin', 'medlynslope', 'medlynintercept',\n",
       "       'theta_cj', 'tpu25ratio', 'lmrse', 'vcmaxha', 'jmaxha', 'tpuha',\n",
       "       'lmrha', 'vcmaxse_sf', 'jmaxse_sf', 'tpuse_sf', 'froot_leaf',\n",
       "       'leafcn', 'leaf_long', 'fstor2tran', 'crit_onset_gdd_sf',\n",
       "       'FUN_fracfixers', 'kc_nonmyc', 'kn_nonmyc', 'akc_active',\n",
       "       'akn_active', 'ekc_active', 'ekn_active', 'fff', 'e_ice', 'bsw_sf',\n",
       "       'sucsat_sf', 'watsat_sf', 'hksat_sf', 'om_frac_sf',\n",
       "       'baseflow_scalar', 'maximum_leaf_wetted_fraction',\n",
       "       'interception_fraction', 'cv', 'd_max', 'dleaf', 'z0v_Cr',\n",
       "       'n_melt_coef', 'accum_factor', 'xdrdt',\n",
       "       'upplim_destruct_metamorph', 'snw_rds_refrz', 'r_mort',\n",
       "       'decomp_depth_efolding', 'bgc_tau_s1', 'bgc_tau_s2', 'bgc_tau_s3',\n",
       "       'q10_mr', 'minpsi_hr', 'maxpsi_hr', 'bgc_rf_l1s1', 'bgc_rf_l2s1',\n",
       "       'bgc_rf_l3s2', 'bgc_rf_s2s1', 'bgc_rf_s2s3', 'bgc_rf_s3s1',\n",
       "       'rf_cwdl2', 'bgc_rf_cwdl3', 'pot_hmn_ign_counts_alpha', 'fsr_pft',\n",
       "       'xl'], dtype=object)"
      ]
     },
     "execution_count": 8,
     "metadata": {},
     "output_type": "execute_result"
    }
   ],
   "source": [
    "df = pd.read_csv(csv)\n",
    "params=df['param'].values\n",
    "params"
   ]
  },
  {
   "cell_type": "code",
   "execution_count": 9,
   "id": "7390a3e1-733e-4176-bde5-df9a0d5061b5",
   "metadata": {},
   "outputs": [],
   "source": [
    "# grouped parameters\n",
    "KCN=['kc_nonmyc','kn_nonmyc','akc_active','akn_active','ekc_active','ekn_active']\n",
    "ACCLIM_SF=['vcmaxse_sf','jmaxse_sf','tpuse_sf']\n",
    "TAU = ['bgc_tau_s1','bgc_tau_s2','bgc_tau_s3']\n",
    "RF_LS = ['bgc_rf_l1s1','bgc_rf_l2s1','bgc_rf_l3s2']\n",
    "RF_SS = ['bgc_rf_s2s1', 'bgc_rf_s2s3', 'bgc_rf_s3s1']\n",
    "RF_CWD = ['rf_cwdl2', 'bgc_rf_cwdl3']"
   ]
  },
  {
   "cell_type": "markdown",
   "id": "eb7c9a12-b3c6-46d0-a57c-07d8731b8bc4",
   "metadata": {},
   "source": [
    "### 2. Build Parameter Dictionary"
   ]
  },
  {
   "cell_type": "code",
   "execution_count": 10,
   "id": "f6b7d30b-5bf0-48cb-adc6-e37da72ffbd9",
   "metadata": {},
   "outputs": [],
   "source": [
    "### we should maybe make this a function?\n",
    "lhcs = {}\n",
    "for p in params:\n",
    "    ix       = df['param']==p\n",
    "    minval   = df['min'][ix].values[0]\n",
    "    maxval   = df['max'][ix].values[0]\n",
    "    pftmin   = df['pft_mins'][ix].values[0]\n",
    "    pftmax   = df['pft_maxs'][ix].values[0]\n",
    "    thisloc  = df['loc'][ix].values[0]\n",
    "    if p=='KCN':\n",
    "        flag='KCN'\n",
    "    else:\n",
    "        flag=''\n",
    "    \n",
    "    needs_pft = (minval=='pft')\n",
    "    if needs_pft:\n",
    "        thismin = np.fromstring(pftmin, dtype='float', sep=',')\n",
    "    elif 'percent' in minval:\n",
    "        thismin = minval\n",
    "    else:\n",
    "        thismin = np.array(float(minval))\n",
    "\n",
    "    needs_pft = (maxval=='pft')\n",
    "    if needs_pft:\n",
    "        thismax = np.fromstring(pftmax, dtype='float', sep=',')\n",
    "    elif 'percent' in maxval:\n",
    "        thismax = maxval\n",
    "    else:\n",
    "        thismax = np.array(float(maxval))\n",
    "\n",
    "    if p!='KCN':\n",
    "        lhcs[p]={'min':thismin,'max':thismax,'loc':thisloc,'flagged':[]}\n",
    "    else:\n",
    "        flagged={}\n",
    "        for kcn in kcns:\n",
    "            flagged[kcn]={'min':thismin,'max':thismax,'loc':thisloc}\n",
    "        lhcs[p]={'min':[],'max':[],'loc':thisloc,'flagged':flagged}"
   ]
  },
  {
   "cell_type": "markdown",
   "id": "7c9970d6-e75b-4be9-99fd-7e270d775ab3",
   "metadata": {},
   "source": [
    "### 3. Define Ensemble"
   ]
  },
  {
   "cell_type": "markdown",
   "id": "15e3bcf9-075f-487b-9b83-27aae3299a52",
   "metadata": {},
   "source": [
    "##### a. If you would like to generate a new Latin-Hypercube sample, skip to step 4\n",
    "##### b. If you already know the parameter sets to run, continue on"
   ]
  },
  {
   "cell_type": "code",
   "execution_count": 11,
   "id": "7e05dbd7-7816-4e9d-943c-1ccdbbabaeff",
   "metadata": {},
   "outputs": [],
   "source": [
    "# read in parameter weights\n",
    "# specify where your samples exist\n",
    "# make sure that they are in the same order as the params in lhcs above\n",
    "te = pd.read_csv('../../pyth/exp1_EmBE/exp1_EmBE_TotalError_psets.csv',index_col=0)\n",
    "bm = pd.read_csv('../../pyth/exp1_EmBE/exp1_EmBE_BiomeSpecific_psets.csv',index_col=0)\n",
    "psets = pd.concat([te,bm],ignore_index=True)"
   ]
  },
  {
   "cell_type": "code",
   "execution_count": 12,
   "id": "9319ca1f-74fa-4730-b64c-a7da92e9398a",
   "metadata": {},
   "outputs": [],
   "source": [
    "def get_p(p,i):\n",
    "    return psets.iloc[i].loc[p]"
   ]
  },
  {
   "cell_type": "code",
   "execution_count": 13,
   "id": "6c1e40f1-8740-471c-a2cc-f77adc4da685",
   "metadata": {},
   "outputs": [],
   "source": [
    "exp1=[[get_p(p,i) for p in lhcs] for i in range(48)]"
   ]
  },
  {
   "cell_type": "code",
   "execution_count": 14,
   "id": "19455620-c239-4360-b5d0-10e252dcb1c2",
   "metadata": {},
   "outputs": [
    {
     "data": {
      "text/plain": [
       "(48, 32)"
      ]
     },
     "execution_count": 14,
     "metadata": {},
     "output_type": "execute_result"
    }
   ],
   "source": [
    "#Rows are ensemble members and columns are parameters (scale factors)\n",
    "np.shape(exp1)"
   ]
  },
  {
   "cell_type": "markdown",
   "id": "7d600ad8-4f1b-46f5-bf85-0684ec1c8378",
   "metadata": {},
   "source": [
    "### 4. Create the Ensemble Object"
   ]
  },
  {
   "cell_type": "code",
   "execution_count": 36,
   "id": "04571686-bafb-48d1-8014-eecb4fa0eaa4",
   "metadata": {},
   "outputs": [],
   "source": [
    "# 4a. instantiate the Ensemble object\n",
    "basefile = '/glade/work/linnia/CLM6-PPE/ctsm6_lhc/paramfiles/lhc0000.nc'\n",
    "pdir = exp_dir + 'paramfiles/'\n",
    "ndir = exp_dir + 'namelist_mods/'\n",
    "x    = Ensemble(basefile,pdir,ndir)\n",
    "\n",
    "# 4b. add the new ensemble members\n",
    "prefix = 'lhc'   #make your own prefix\n",
    "nextnum=1\n",
    "n_samples=1000  # set the number of ensemble members \n",
    "x.add_lhcs(lhcs,prefix,nextnum,n_samples,lhc=None) # for new LHC sample set lhc=None"
   ]
  },
  {
   "cell_type": "markdown",
   "id": "a2561ffd-4bda-4ecb-ab02-c19fa823b59e",
   "metadata": {},
   "source": [
    "### 5. Write the param_files"
   ]
  },
  {
   "cell_type": "code",
   "execution_count": 29,
   "id": "d8c7d05f-7bf4-4490-9a68-f2c84c437c3a",
   "metadata": {},
   "outputs": [],
   "source": [
    "paramset_file = exp_dir + 'ctsm6lhc_11252024.txt'\n",
    "x.write(lhcfile=paramset_file)"
   ]
  },
  {
   "cell_type": "code",
   "execution_count": 41,
   "id": "116c0a57",
   "metadata": {},
   "outputs": [
    {
     "name": "stdout",
     "output_type": "stream",
     "text": [
      "  File: ‘/glade/work/linnia/CLM-PPE-LAI_tests/exp1_EmBE/psets_exp1_EBE_230419.txt’\n",
      "  Size: 29954     \tBlocks: 64         IO Block: 8388608 regular file\n",
      "Device: 2ch/44d\tInode: 5596486690  Links: 1\n",
      "Access: (0644/-rw-r--r--)  Uid: (35240/  linnia)   Gid: ( 1000/    ncar)\n",
      "Access: 2023-04-19 14:51:40.493541000 -0600\n",
      "Modify: 2023-04-19 14:51:40.497087000 -0600\n",
      "Change: 2023-04-19 14:51:40.496293794 -0600\n",
      " Birth: -\n"
     ]
    }
   ],
   "source": [
    "%%bash -s \"$paramset_file\"\n",
    "# Check that the file was created\n",
    "paramset_file=$1 \n",
    "\n",
    "stat $paramset_file"
   ]
  }
 ],
 "metadata": {
  "kernelspec": {
   "display_name": "Python [conda env:miniconda3-ppe-py]",
   "language": "python",
   "name": "conda-env-miniconda3-ppe-py-py"
  },
  "language_info": {
   "codemirror_mode": {
    "name": "ipython",
    "version": 3
   },
   "file_extension": ".py",
   "mimetype": "text/x-python",
   "name": "python",
   "nbconvert_exporter": "python",
   "pygments_lexer": "ipython3",
   "version": "3.7.12"
  }
 },
 "nbformat": 4,
 "nbformat_minor": 5
}
