{
 "cells": [
  {
   "cell_type": "code",
   "execution_count": 1,
   "id": "f50867e0-5ab8-4b9d-b9a8-32c92677d099",
   "metadata": {},
   "outputs": [],
   "source": [
    "import numpy as np\n",
    "import xarray as xr\n",
    "import os\n",
    "import pandas as pd\n",
    "import glob"
   ]
  },
  {
   "cell_type": "code",
   "execution_count": 2,
   "id": "99d6d68a-4510-4377-a457-cd2c194a8a67",
   "metadata": {},
   "outputs": [],
   "source": [
    "import sys ; sys.path.append(\"../..\")\n",
    "from ppe_tools import *"
   ]
  },
  {
   "cell_type": "code",
   "execution_count": 3,
   "id": "af44572a-0e21-43ff-ba32-b3628a319d72",
   "metadata": {},
   "outputs": [],
   "source": [
    "# set directories\n",
    "exp_dir = '/glade/work/linnia/CLM6-PPE/ctsm6_lhc/'"
   ]
  },
  {
   "cell_type": "markdown",
   "id": "6e4d19f2-6f13-4f5c-bfc3-cda632362dfa",
   "metadata": {},
   "source": [
    "### 1. Define Parameters and Ranges"
   ]
  },
  {
   "cell_type": "code",
   "execution_count": 6,
   "id": "915b9226-20e4-42bb-9665-4d0732607b20",
   "metadata": {},
   "outputs": [],
   "source": [
    "csv='ctsm6lhc_paramranges_11262024.csv'\n",
    "df = pd.read_csv(csv)\n",
    "df_main = df[df['include'] == 1]\n",
    "df_flagged = df[df['include'] == 0]\n",
    "params=df_main['param'].values\n",
    "flags = df_main['flag']"
   ]
  },
  {
   "cell_type": "code",
   "execution_count": 7,
   "id": "7390a3e1-733e-4176-bde5-df9a0d5061b5",
   "metadata": {},
   "outputs": [],
   "source": [
    "# grouped parameters\n",
    "KCN=['kc_nonmyc','kn_nonmyc','akc_active','akn_active','ekc_active','ekn_active']\n",
    "ACCLIM_SF=['vcmaxse_sf','jmaxse_sf','tpuse_sf']\n",
    "TAU = ['bgc_tau_s1','bgc_tau_s2','bgc_tau_s3']\n",
    "RF_LS = ['bgc_rf_l1s1','bgc_rf_l2s1','bgc_rf_l3s2']\n",
    "RF_SS = ['bgc_rf_s2s1', 'bgc_rf_s2s3', 'bgc_rf_s3s1']\n",
    "RF_CWD = ['rf_cwdl2', 'bgc_rf_cwdl3']\n",
    "\n",
    "flagged_dict = {'KCN':KCN,'ACCLIM_SF':ACCLIM_SF,'TAU':TAU,'RF_LS':RF_LS,'RF_SS':RF_SS,'RF_CWD':RF_CWD}"
   ]
  },
  {
   "cell_type": "markdown",
   "id": "eb7c9a12-b3c6-46d0-a57c-07d8731b8bc4",
   "metadata": {},
   "source": [
    "### 2. Build Parameter Dictionary"
   ]
  },
  {
   "cell_type": "code",
   "execution_count": 8,
   "id": "e29bcbc8-8aaa-435f-9e67-5ccf38dd4b70",
   "metadata": {},
   "outputs": [],
   "source": [
    "def get_minmax(df,p):\n",
    "    ix       = df['param']==p\n",
    "    minval   = df['min'][ix].values[0]\n",
    "    maxval   = df['max'][ix].values[0]\n",
    "    pftmin   = df['pft_mins'][ix].values[0]\n",
    "    pftmax   = df['pft_maxs'][ix].values[0]\n",
    "    thisloc  = df['loc'][ix].values[0]\n",
    "\n",
    "    needs_pft = (minval=='pft')\n",
    "    if needs_pft:\n",
    "        thismin = np.zeros((79))\n",
    "        thismin[0:17] = np.fromstring(pftmin, dtype='float', sep=',')\n",
    "    elif 'percent' in minval:\n",
    "        thismin = minval\n",
    "    else:\n",
    "        thismin = np.array(float(minval))\n",
    "\n",
    "    needs_pft = (maxval=='pft')\n",
    "    if needs_pft:\n",
    "        thismax = np.zeros((79))\n",
    "        thismax[0:17] = np.fromstring(pftmax, dtype='float', sep=',')\n",
    "    elif 'percent' in maxval:\n",
    "        thismax = maxval\n",
    "    else:\n",
    "        thismax = np.array(float(maxval))\n",
    "\n",
    "    return thismin, thismax, thisloc"
   ]
  },
  {
   "cell_type": "code",
   "execution_count": 9,
   "id": "b5d990ca-58cd-4923-b59f-06d468546762",
   "metadata": {},
   "outputs": [],
   "source": [
    "lhcs = {}\n",
    "for param,flag in zip(params,flags):\n",
    "    \n",
    "    if not pd.notnull(flag):\n",
    "        thismin,thismax,thisloc = get_minmax(df,param)\n",
    "        lhcs[param]={'min':thismin,'max':thismax,'loc':thisloc,'flagged':[]}\n",
    "    else:\n",
    "        flagged={}\n",
    "        for p in flagged_dict[param]:\n",
    "            thismin,thismax,thisloc = get_minmax(df_flagged,p)\n",
    "            flagged[p]={'min':thismin,'max':thismax,'loc':thisloc}\n",
    "        lhcs[param]={'min':[],'max':[],'loc':thisloc,'flagged':flagged}"
   ]
  },
  {
   "cell_type": "markdown",
   "id": "7d600ad8-4f1b-46f5-bf85-0684ec1c8378",
   "metadata": {},
   "source": [
    "### 4. Create the Ensemble Object"
   ]
  },
  {
   "cell_type": "code",
   "execution_count": 11,
   "id": "04571686-bafb-48d1-8014-eecb4fa0eaa4",
   "metadata": {},
   "outputs": [],
   "source": [
    "# 4a. instantiate the Ensemble object\n",
    "basefile = '/glade/work/linnia/CLM6-PPE/ctsm6_lhc/paramfiles/lhc0000.nc'\n",
    "pdir = exp_dir + 'paramfiles/'\n",
    "ndir = exp_dir + 'namelist_mods/'\n",
    "x    = Ensemble(basefile,pdir,ndir)\n",
    "\n",
    "# 4b. add the new ensemble members\n",
    "prefix = 'lhc'   #make your own prefix\n",
    "nextnum=1\n",
    "n_samples=1500  # set the number of ensemble members \n",
    "x.add_lhcs(lhcs,prefix,nextnum,n_samples,lhc=None) # for new LHC sample set lhc=None"
   ]
  },
  {
   "cell_type": "markdown",
   "id": "a2561ffd-4bda-4ecb-ab02-c19fa823b59e",
   "metadata": {},
   "source": [
    "### 5. Write the param_files"
   ]
  },
  {
   "cell_type": "code",
   "execution_count": 12,
   "id": "d8c7d05f-7bf4-4490-9a68-f2c84c437c3a",
   "metadata": {},
   "outputs": [],
   "source": [
    "paramset_file = exp_dir + 'ctsm6lhc_11262024.txt'\n",
    "x.write(lhcfile=paramset_file)"
   ]
  },
  {
   "cell_type": "code",
   "execution_count": 13,
   "id": "116c0a57",
   "metadata": {},
   "outputs": [
    {
     "name": "stdout",
     "output_type": "stream",
     "text": [
      "  File: /glade/work/linnia/CLM6-PPE/ctsm6_lhc/ctsm6lhc_11262024.txt\n",
      "  Size: 1631122   \tBlocks: 3200       IO Block: 8388608 regular file\n",
      "Device: 41h/65d\tInode: 4641803609  Links: 1\n",
      "Access: (0644/-rw-r--r--)  Uid: (35240/  linnia)   Gid: ( 1000/    ncar)\n",
      "Access: 2024-11-27 07:31:33.752754000 -0700\n",
      "Modify: 2024-11-27 07:31:33.901596806 -0700\n",
      "Change: 2024-11-27 07:31:33.901596806 -0700\n",
      " Birth: -\n"
     ]
    }
   ],
   "source": [
    "%%bash -s \"$paramset_file\"\n",
    "# Check that the file was created\n",
    "paramset_file=$1 \n",
    "\n",
    "stat $paramset_file"
   ]
  },
  {
   "cell_type": "markdown",
   "id": "7d125301-a96c-4bde-aeb6-73f57af21334",
   "metadata": {},
   "source": [
    "### 6. Sanity Check"
   ]
  },
  {
   "cell_type": "code",
   "execution_count": 4,
   "id": "833389d8-7fbf-4d6e-871f-cacb4e41a8af",
   "metadata": {},
   "outputs": [],
   "source": [
    "import matplotlib.pyplot as plt"
   ]
  },
  {
   "cell_type": "code",
   "execution_count": 5,
   "id": "f01879de-ca92-44e5-822e-bc8b55ecdc23",
   "metadata": {},
   "outputs": [],
   "source": [
    "in_dir = exp_dir + 'paramfiles/'\n",
    "filelist= np.sort(glob.glob(os.path.join(in_dir, '*')))"
   ]
  },
  {
   "cell_type": "code",
   "execution_count": 7,
   "id": "ce5372c7-07cc-466d-a293-5fb2243507ec",
   "metadata": {},
   "outputs": [
    {
     "data": {
      "text/plain": [
       "'/glade/work/linnia/CLM6-PPE/ctsm6_lhc/paramfiles/lhc0040.nc'"
      ]
     },
     "execution_count": 7,
     "metadata": {},
     "output_type": "execute_result"
    }
   ],
   "source": [
    "filelist[40]"
   ]
  },
  {
   "cell_type": "code",
   "execution_count": 11,
   "id": "f6ebd491-01e4-4cd1-8f6b-6cd09ee09533",
   "metadata": {},
   "outputs": [],
   "source": [
    "check = np.empty([7,3])\n",
    "for j,f in enumerate([40,85,1166,1286,1323,236,1389]):\n",
    "    par = xr.open_dataset(filelist[f])\n",
    "    for i,p in enumerate(['bsw_sf','hksat_sf','watsat_sf']):\n",
    "        val = par[p]\n",
    "        check[j,i] = val"
   ]
  },
  {
   "cell_type": "code",
   "execution_count": 12,
   "id": "a98cbd32-6588-4a0e-a747-c951777bbc07",
   "metadata": {},
   "outputs": [
    {
     "data": {
      "text/plain": [
       "<matplotlib.collections.PathCollection at 0x14c80245bc10>"
      ]
     },
     "execution_count": 12,
     "metadata": {},
     "output_type": "execute_result"
    },
    {
     "data": {
      "image/png": "[encoded data removed]",
      "text/plain": [
       "<Figure size 432x288 with 1 Axes>"
      ]
     },
     "metadata": {
      "needs_background": "light"
     },
     "output_type": "display_data"
    }
   ],
   "source": [
    "plt.scatter(check[:,0],check[:,2])"
   ]
  },
  {
   "cell_type": "code",
   "execution_count": null,
   "id": "37fb975c-0ebc-4b5b-a52d-c3279552f4a2",
   "metadata": {},
   "outputs": [],
   "source": []
  },
  {
   "cell_type": "code",
   "execution_count": null,
   "id": "0607621f-edd1-409f-82b0-ef22c86ef5ce",
   "metadata": {},
   "outputs": [],
   "source": [
    "### Check"
   ]
  },
  {
   "cell_type": "code",
   "execution_count": 13,
   "id": "d4180739-0a92-413e-b028-4afb090c63b2",
   "metadata": {},
   "outputs": [],
   "source": [
    "crashers = [40,85,1166,1286,1323,236,1389]\n",
    "files = [filelist[i] for i in crashers]\n",
    "params = ['bsw_sf','hksat_sf','watsat_sf','sucsat_sf','om_frac_sf']"
   ]
  },
  {
   "cell_type": "code",
   "execution_count": 14,
   "id": "0d7aa649-61ec-4486-9ad4-1f60dc44a6a0",
   "metadata": {},
   "outputs": [],
   "source": [
    "check = np.empty([100,5])\n",
    "for j,f in enumerate(range(100)):\n",
    "    par = xr.open_dataset(filelist[f])\n",
    "    for i,p in enumerate(params):\n",
    "        val = par[p]\n",
    "        check[j,i] = val"
   ]
  },
  {
   "cell_type": "code",
   "execution_count": 20,
   "id": "59e7dd3a-78dd-4b7c-961b-68dc7be9ee55",
   "metadata": {},
   "outputs": [],
   "source": [
    "crash = np.empty([7,5])\n",
    "for j,f in enumerate([40,85,1166,1286,1323,236,1389]):\n",
    "    par = xr.open_dataset(filelist[f])\n",
    "    for i,p in enumerate(params):\n",
    "        val = par[p]\n",
    "        crash[j,i] = val"
   ]
  },
  {
   "cell_type": "code",
   "execution_count": 21,
   "id": "271202d2-ac68-482f-a6e8-80aa74036cfe",
   "metadata": {},
   "outputs": [
    {
     "data": {
      "image/png": "[encoded data removed]",
      "text/plain": [
       "<Figure size 432x288 with 5 Axes>"
      ]
     },
     "metadata": {
      "needs_background": "light"
     },
     "output_type": "display_data"
    }
   ],
   "source": [
    "df_check = pd.DataFrame(check,columns=params)\n",
    "df_crash = pd.DataFrame(crash,columns=params)\n",
    "for i,p in enumerate(params):\n",
    "    plt.subplot(2,4,i+1)\n",
    "    plt.scatter(range(100),df_check[p])\n",
    "    plt.scatter(range(7),df_crash[p])\n",
    "    plt.title(p)\n",
    "plt.tight_layout()"
   ]
  },
  {
   "cell_type": "code",
   "execution_count": 26,
   "id": "b34544be-40e4-4634-abab-781eecff3e45",
   "metadata": {},
   "outputs": [
    {
     "data": {
      "image/png": "[encoded data removed]",
      "text/plain": [
       "<Figure size 432x288 with 1 Axes>"
      ]
     },
     "metadata": {
      "needs_background": "light"
     },
     "output_type": "display_data"
    }
   ],
   "source": [
    "\n",
    "plt.scatter(df_check['bsw_sf'],df_check['hksat_sf'])\n",
    "plt.scatter(df_crash['bsw_sf'],df_crash['hksat_sf'])\n",
    "plt.xlabel('bsw_sf')\n",
    "plt.ylabel('hksat_sf')\n",
    "plt.tight_layout()"
   ]
  },
  {
   "cell_type": "code",
   "execution_count": null,
   "id": "49e90eb2-5adc-470c-9009-669374e94c40",
   "metadata": {},
   "outputs": [],
   "source": []
  }
 ],
 "metadata": {
  "kernelspec": {
   "display_name": "Python [conda env:miniconda3-ppe-py]",
   "language": "python",
   "name": "conda-env-miniconda3-ppe-py-py"
  },
  "language_info": {
   "codemirror_mode": {
    "name": "ipython",
    "version": 3
   },
   "file_extension": ".py",
   "mimetype": "text/x-python",
   "name": "python",
   "nbconvert_exporter": "python",
   "pygments_lexer": "ipython3",
   "version": "3.7.12"
  }
 },
 "nbformat": 4,
 "nbformat_minor": 5
}
